{
 "cells": [
  {
   "cell_type": "code",
   "execution_count": 1,
   "id": "b0ab8c8b-dd15-4321-920c-ce473aa3b5d1",
   "metadata": {},
   "outputs": [],
   "source": [
    "from os.path import abspath, dirname, join, normpath, relpath\n",
    "from mhkit.river.io import d3d \n",
    "from math import isclose\n",
    "import scipy.interpolate as interp\n",
    "import matplotlib.pyplot as plt\n",
    "import numpy as np\n",
    "import pandas as pd\n",
    "import netCDF4\n",
    "import scipy.io\n",
    "plt.rcParams.update({'font.size': 15}) # Set font size of plots title and labels "
   ]
  },
  {
   "cell_type": "code",
   "execution_count": 2,
   "id": "d523c0bc-1206-44b4-8bcd-50267630bf8c",
   "metadata": {},
   "outputs": [
    {
     "name": "stdout",
     "output_type": "stream",
     "text": [
      "\"mesh2d_enc_x\": x-coordinate\n",
      "\"mesh2d_enc_y\": y-coordinate\n",
      "\"mesh2d_enc_node_count\": count of coordinates in each instance geometry\n",
      "\"mesh2d_enc_part_node_count\": count of nodes in each geometry part\n",
      "\"mesh2d_enc_interior_ring\": type of each geometry part\n",
      "\"mesh2d_enclosure_container\"\n",
      "\"Mesh2D\"\n",
      "\"NetNode_x\": x-coordinate\n",
      "\"NetNode_y\": y-coordinate\n",
      "\"projected_coordinate_system\"\n",
      "\"NetNode_z\": bed level at net nodes (flow element corners)\n",
      "\"NetLink\": link between two netnodes\n",
      "\"NetLinkType\": type of netlink\n",
      "\"NetElemNode\": mapping from net cell to net nodes (counterclockwise)\n",
      "\"NetElemLink\": mapping from net cell to its net links (counterclockwise)\n",
      "\"NetLinkContour_x\": list of x-contour points of momentum control volume surrounding each net/flow link\n",
      "\"NetLinkContour_y\": list of y-contour points of momentum control volume surrounding each net/flow link\n",
      "\"NetLink_xu\": x-coordinate of net link center (velocity point)\n",
      "\"NetLink_yu\": y-coordinate of net link center (velocity point)\n",
      "\"BndLink\": netlinks that compose the net boundary\n",
      "\"FlowElem_xcc\": x-coordinate of flow element circumcenter\n",
      "\"FlowElem_ycc\": y-coordinate of flow element circumcenter\n",
      "\"FlowElem_zcc\": bed level of flow element\n",
      "\"FlowElem_bac\": flow element area\n",
      "\"FlowElem_xzw\": x-coordinate of flow element center of mass\n",
      "\"FlowElem_yzw\": y-coordinate of flow element center of mass\n",
      "\"FlowElemContour_x\": list of x-coordinates forming flow element\n",
      "\"FlowElemContour_y\": list of y-coordinates forming flow element\n",
      "\"FlowElem_bl\": Initial bed level at flow element circumcenter\n",
      "\"ElemLink\": flow nodes between/next to which link between two netnodes lies\n",
      "\"FlowLink\": link/interface between two flow elements\n",
      "\"FlowLinkType\": type of flowlink\n",
      "\"FlowLink_xu\": x-coordinate of flow link center (velocity point)\n",
      "\"FlowLink_yu\": y-coordinate of flow link center (velocity point)\n",
      "\"FlowLink_lonu\": longitude\n",
      "\"FlowLink_latu\": latitude\n",
      "\"time\"\n",
      "\"LayCoord_cc\": sigma layer coordinate at flow element center\n",
      "\"LayCoord_w\": sigma layer coordinate at vertical interface\n",
      "\"timestep\"\n",
      "\"s1\": water level\n",
      "\"s0\": water level at previous timestep\n",
      "\"waterdepth\": water depth\n",
      "\"numlimdt\": number of times flow element was Courant limiting\n",
      "\"taus\": taucurrent in flow element\n",
      "\"unorm\": normal component of sea_water_speed\n",
      "\"u0\": normal component of sea_water_speed at previous timestep\n",
      "\"q1\": flow flux\n",
      "\"viu\": horizontal viscosity\n",
      "\"diu\": horizontal diffusivity\n",
      "\"ucz\": upward velocity on flow element center\n",
      "\"ucxa\": depth-averaged velocity on flow element center, x-component\n",
      "\"ucya\": depth-averaged velocity on flow element center, y-component\n",
      "\"rho\": flow mass density\n",
      "\"ucx\": velocity on flow element center, x-component\n",
      "\"ucy\": velocity on flow element center, y-component\n",
      "\"turkin1\": turbulent kinetic energy\n",
      "\"vicwwu\": turbulent vertical eddy viscosity\n",
      "\"tureps1\": turbulent energy dissipation\n",
      "\"czs\": Chezy roughness\n"
     ]
    }
   ],
   "source": [
    "# Downloading Data\n",
    "datadir = normpath(join(relpath(join('data', 'simulation.dsproj_data', 'tanana50', 'output'))))\n",
    "filename= 'tanana50_map.nc'\n",
    "d3d_data = netCDF4.Dataset(join(datadir,filename)) \n",
    "\n",
    "# Printing variable and description\n",
    "for var in d3d_data.variables.keys():\n",
    "    try: \n",
    "        d3d_data[var].long_name\n",
    "    except:\n",
    "        print(f'\"{var}\"')        \n",
    "    else:\n",
    "        print(f'\"{var}\": {d3d_data[var].long_name}')"
   ]
  },
  {
   "cell_type": "code",
   "execution_count": 3,
   "id": "c2328439-2f6c-4a22-8524-f3bb0e4f45dd",
   "metadata": {},
   "outputs": [
    {
     "name": "stdout",
     "output_type": "stream",
     "text": [
      "                   x             y  waterdepth  waterlevel       ucx    time\n",
      "0      399977.780920  7.161733e+06    0.327979    2.212376 -0.655153  4800.0\n",
      "1      399987.787225  7.161733e+06    0.337614    2.210838 -0.639946  4800.0\n",
      "2      399976.977626  7.161749e+06    0.362592    2.212200 -0.694969  4800.0\n",
      "3      399997.815934  7.161734e+06    0.347270    2.212493 -0.644871  4800.0\n",
      "4      399986.882145  7.161749e+06    0.366117    2.210591 -0.679971  4800.0\n",
      "...              ...           ...         ...         ...       ...     ...\n",
      "11825  401212.479592  7.160735e+06    3.275365    2.424476 -0.112752  4800.0\n",
      "11826  401217.019308  7.160752e+06    2.649840    2.426280  0.028669  4800.0\n",
      "11827  401218.693149  7.160722e+06    3.366836    2.417756 -0.065275  4800.0\n",
      "11828  401222.158795  7.160740e+06    2.826109    2.422828  0.072880  4800.0\n",
      "11829  401228.105738  7.160727e+06    2.741992    2.420150 -0.011540  4800.0\n",
      "\n",
      "[11830 rows x 6 columns]\n"
     ]
    }
   ],
   "source": [
    "variable= 'ucx' \n",
    "var_data_df= d3d.get_all_data_points(d3d_data, variable, time_index=4)\n",
    "print(var_data_df)\n"
   ]
  },
  {
   "cell_type": "code",
   "execution_count": 4,
   "id": "1b07bcb4-3d73-4030-ba2b-881e3248255b",
   "metadata": {},
   "outputs": [],
   "source": [
    "xmin=var_data_df.x.max()\n",
    "xmax=var_data_df.x.min()\n",
    "\n",
    "ymin=var_data_df.y.max()\n",
    "ymax=var_data_df.y.min()\n",
    "\n",
    "zmin=var_data_df.waterdepth.max()\n",
    "zmax=var_data_df.waterdepth.min()"
   ]
  },
  {
   "cell_type": "code",
   "execution_count": 17,
   "id": "9b2b6dbf-c730-441f-bba0-0a5b1b636b60",
   "metadata": {},
   "outputs": [],
   "source": [
    "Lat_long=open('lat_long.txt')\n",
    "lat_long=Lat_long.readlines()\n",
    "Lat= lat_long[0:579]\n",
    "Long= lat_long[581:1160]\n",
    "Lat = np.array(Lat)\n",
    "Lat=Lat.astype(float)\n",
    "Long = np.array(Long)\n",
    "Long=Long.astype(float)\n",
    "\n"
   ]
  },
  {
   "cell_type": "code",
   "execution_count": 43,
   "id": "8ba60a1a-8722-48ff-9cfc-c8bec4e01e93",
   "metadata": {},
   "outputs": [
    {
     "data": {
      "text/html": [
       "<div>\n",
       "<style scoped>\n",
       "    .dataframe tbody tr th:only-of-type {\n",
       "        vertical-align: middle;\n",
       "    }\n",
       "\n",
       "    .dataframe tbody tr th {\n",
       "        vertical-align: top;\n",
       "    }\n",
       "\n",
       "    .dataframe thead th {\n",
       "        text-align: right;\n",
       "    }\n",
       "</style>\n",
       "<table border=\"1\" class=\"dataframe\">\n",
       "  <thead>\n",
       "    <tr style=\"text-align: right;\">\n",
       "      <th></th>\n",
       "      <th>x</th>\n",
       "      <th>y</th>\n",
       "      <th>waterdepth</th>\n",
       "    </tr>\n",
       "  </thead>\n",
       "  <tbody>\n",
       "    <tr>\n",
       "      <th>0</th>\n",
       "      <td>400954.34</td>\n",
       "      <td>7161131.9</td>\n",
       "      <td>11.000111</td>\n",
       "    </tr>\n",
       "    <tr>\n",
       "      <th>1</th>\n",
       "      <td>400954.25</td>\n",
       "      <td>7161132.0</td>\n",
       "      <td>11.000111</td>\n",
       "    </tr>\n",
       "    <tr>\n",
       "      <th>2</th>\n",
       "      <td>400954.28</td>\n",
       "      <td>7161132.0</td>\n",
       "      <td>11.000111</td>\n",
       "    </tr>\n",
       "    <tr>\n",
       "      <th>3</th>\n",
       "      <td>400954.31</td>\n",
       "      <td>7161132.0</td>\n",
       "      <td>11.000111</td>\n",
       "    </tr>\n",
       "    <tr>\n",
       "      <th>4</th>\n",
       "      <td>400954.42</td>\n",
       "      <td>7161132.0</td>\n",
       "      <td>11.000111</td>\n",
       "    </tr>\n",
       "    <tr>\n",
       "      <th>...</th>\n",
       "      <td>...</td>\n",
       "      <td>...</td>\n",
       "      <td>...</td>\n",
       "    </tr>\n",
       "    <tr>\n",
       "      <th>57895</th>\n",
       "      <td>401097.17</td>\n",
       "      <td>7161177.2</td>\n",
       "      <td>0.160651</td>\n",
       "    </tr>\n",
       "    <tr>\n",
       "      <th>57896</th>\n",
       "      <td>401097.41</td>\n",
       "      <td>7161177.3</td>\n",
       "      <td>0.160651</td>\n",
       "    </tr>\n",
       "    <tr>\n",
       "      <th>57897</th>\n",
       "      <td>401097.60</td>\n",
       "      <td>7161177.3</td>\n",
       "      <td>0.160651</td>\n",
       "    </tr>\n",
       "    <tr>\n",
       "      <th>57898</th>\n",
       "      <td>401097.79</td>\n",
       "      <td>7161177.4</td>\n",
       "      <td>0.160651</td>\n",
       "    </tr>\n",
       "    <tr>\n",
       "      <th>57899</th>\n",
       "      <td>401097.97</td>\n",
       "      <td>7161177.5</td>\n",
       "      <td>0.160651</td>\n",
       "    </tr>\n",
       "  </tbody>\n",
       "</table>\n",
       "<p>57900 rows × 3 columns</p>\n",
       "</div>"
      ],
      "text/plain": [
       "               x          y  waterdepth\n",
       "0      400954.34  7161131.9   11.000111\n",
       "1      400954.25  7161132.0   11.000111\n",
       "2      400954.28  7161132.0   11.000111\n",
       "3      400954.31  7161132.0   11.000111\n",
       "4      400954.42  7161132.0   11.000111\n",
       "...          ...        ...         ...\n",
       "57895  401097.17  7161177.2    0.160651\n",
       "57896  401097.41  7161177.3    0.160651\n",
       "57897  401097.60  7161177.3    0.160651\n",
       "57898  401097.79  7161177.4    0.160651\n",
       "57899  401097.97  7161177.5    0.160651\n",
       "\n",
       "[57900 rows x 3 columns]"
      ]
     },
     "execution_count": 43,
     "metadata": {},
     "output_type": "execute_result"
    }
   ],
   "source": [
    "x_lat= np.tile(Lat, 100)\n",
    "y_long= np.tile(Long, 100)\n",
    "z_samples =np.repeat( np.linspace(zmin,zmax, num=100),579)\n",
    "Point={'x': x_lat, 'y': y_long, 'waterdepth': z_samples}\n",
    "points=pd.DataFrame(Point)\n",
    "points"
   ]
  },
  {
   "cell_type": "code",
   "execution_count": 44,
   "id": "f3903cea-b228-4484-8030-c7ef1709e5a0",
   "metadata": {},
   "outputs": [
    {
     "name": "stdout",
     "output_type": "stream",
     "text": [
      "[0, 1, 2]\n",
      "points provided\n"
     ]
    },
    {
     "data": {
      "image/png": "[encoded data removed]",
      "text/plain": [
       "<Figure size 720x316.8 with 2 Axes>"
      ]
     },
     "metadata": {
      "needs_background": "light"
     },
     "output_type": "display_data"
    }
   ],
   "source": [
    "turbine_x_loc= 400993.57467338\n",
    "turbine_y_loc= 7161237.67096936\n",
    "turbine_diameter= 0.7\n",
    "N=1\n",
    "y_sample = turbine_y_loc+N*turbine_diameter\n",
    "x_samples = np.linspace(turbine_x_loc-60, turbine_x_loc+60, num=40)\n",
    "z_samples = np.linspace(zmin,zmax, num=256)\n",
    "\n",
    "variables= ['ucy']\n",
    "sample_points = d3d.create_points(x_samples, y_sample, z_samples) \n",
    "\n",
    "Var_sample= d3d.variable_interpolation(d3d_data, variables, points= points)\n",
    "\n",
    "# Creating new plot limits \n",
    "max_plot_TI=27\n",
    "min_plot_TI=0\n",
    "\n",
    "\n",
    "# Plotting \n",
    "plt.figure(figsize=(10,4.4))\n",
    "contour_plot = plt.tricontourf(\n",
    "    Var_sample.x, \n",
    "    -Var_sample.waterdepth, \n",
    "    Var_sample.ucy,\n",
    "\n",
    ")\n",
    "\n",
    "plt.xlabel('x (m)')\n",
    "plt.ylabel('Water Depth (m)')\n",
    "plt.title('Velocity in the Y direction')\n",
    "cbar= plt.colorbar(contour_plot)\n",
    "cbar.set_label('velocity [m/s]')"
   ]
  },
  {
   "cell_type": "code",
   "execution_count": 24,
   "id": "50320a0e-ecdd-4b1a-b187-547d8cb0051c",
   "metadata": {},
   "outputs": [
    {
     "data": {
      "text/html": [
       "<div>\n",
       "<style scoped>\n",
       "    .dataframe tbody tr th:only-of-type {\n",
       "        vertical-align: middle;\n",
       "    }\n",
       "\n",
       "    .dataframe tbody tr th {\n",
       "        vertical-align: top;\n",
       "    }\n",
       "\n",
       "    .dataframe thead th {\n",
       "        text-align: right;\n",
       "    }\n",
       "</style>\n",
       "<table border=\"1\" class=\"dataframe\">\n",
       "  <thead>\n",
       "    <tr style=\"text-align: right;\">\n",
       "      <th></th>\n",
       "      <th>x</th>\n",
       "      <th>waterdepth</th>\n",
       "      <th>y</th>\n",
       "    </tr>\n",
       "  </thead>\n",
       "  <tbody>\n",
       "    <tr>\n",
       "      <th>0</th>\n",
       "      <td>400933.574673</td>\n",
       "      <td>11.000111</td>\n",
       "      <td>7.161238e+06</td>\n",
       "    </tr>\n",
       "    <tr>\n",
       "      <th>1</th>\n",
       "      <td>400936.651596</td>\n",
       "      <td>11.000111</td>\n",
       "      <td>7.161238e+06</td>\n",
       "    </tr>\n",
       "    <tr>\n",
       "      <th>2</th>\n",
       "      <td>400939.728520</td>\n",
       "      <td>11.000111</td>\n",
       "      <td>7.161238e+06</td>\n",
       "    </tr>\n",
       "    <tr>\n",
       "      <th>3</th>\n",
       "      <td>400942.805443</td>\n",
       "      <td>11.000111</td>\n",
       "      <td>7.161238e+06</td>\n",
       "    </tr>\n",
       "    <tr>\n",
       "      <th>4</th>\n",
       "      <td>400945.882366</td>\n",
       "      <td>11.000111</td>\n",
       "      <td>7.161238e+06</td>\n",
       "    </tr>\n",
       "    <tr>\n",
       "      <th>...</th>\n",
       "      <td>...</td>\n",
       "      <td>...</td>\n",
       "      <td>...</td>\n",
       "    </tr>\n",
       "    <tr>\n",
       "      <th>10235</th>\n",
       "      <td>401041.266981</td>\n",
       "      <td>0.160651</td>\n",
       "      <td>7.161238e+06</td>\n",
       "    </tr>\n",
       "    <tr>\n",
       "      <th>10236</th>\n",
       "      <td>401044.343904</td>\n",
       "      <td>0.160651</td>\n",
       "      <td>7.161238e+06</td>\n",
       "    </tr>\n",
       "    <tr>\n",
       "      <th>10237</th>\n",
       "      <td>401047.420827</td>\n",
       "      <td>0.160651</td>\n",
       "      <td>7.161238e+06</td>\n",
       "    </tr>\n",
       "    <tr>\n",
       "      <th>10238</th>\n",
       "      <td>401050.497750</td>\n",
       "      <td>0.160651</td>\n",
       "      <td>7.161238e+06</td>\n",
       "    </tr>\n",
       "    <tr>\n",
       "      <th>10239</th>\n",
       "      <td>401053.574673</td>\n",
       "      <td>0.160651</td>\n",
       "      <td>7.161238e+06</td>\n",
       "    </tr>\n",
       "  </tbody>\n",
       "</table>\n",
       "<p>10240 rows × 3 columns</p>\n",
       "</div>"
      ],
      "text/plain": [
       "                   x  waterdepth             y\n",
       "0      400933.574673   11.000111  7.161238e+06\n",
       "1      400936.651596   11.000111  7.161238e+06\n",
       "2      400939.728520   11.000111  7.161238e+06\n",
       "3      400942.805443   11.000111  7.161238e+06\n",
       "4      400945.882366   11.000111  7.161238e+06\n",
       "...              ...         ...           ...\n",
       "10235  401041.266981    0.160651  7.161238e+06\n",
       "10236  401044.343904    0.160651  7.161238e+06\n",
       "10237  401047.420827    0.160651  7.161238e+06\n",
       "10238  401050.497750    0.160651  7.161238e+06\n",
       "10239  401053.574673    0.160651  7.161238e+06\n",
       "\n",
       "[10240 rows x 3 columns]"
      ]
     },
     "execution_count": 24,
     "metadata": {},
     "output_type": "execute_result"
    }
   ],
   "source": [
    "sample_points"
   ]
  },
  {
   "cell_type": "code",
   "execution_count": 29,
   "id": "0afc9731-6474-453f-ada3-afe04d6e6470",
   "metadata": {},
   "outputs": [
    {
     "data": {
      "text/plain": [
       "array([1, 2, 3, 4, 1, 2, 3, 4, 1, 2, 3, 4])"
      ]
     },
     "execution_count": 29,
     "metadata": {},
     "output_type": "execute_result"
    }
   ],
   "source": [
    "np.tile([1, 2,3,4],3)"
   ]
  },
  {
   "cell_type": "code",
   "execution_count": 20,
   "id": "49d81792-2267-4f75-ab7b-ee9bc63c35bf",
   "metadata": {},
   "outputs": [
    {
     "data": {
      "text/plain": [
       "<matplotlib.collections.PathCollection at 0x2535886ea60>"
      ]
     },
     "execution_count": 20,
     "metadata": {},
     "output_type": "execute_result"
    },
    {
     "data": {
      "image/png": "[encoded data removed]",
      "text/plain": [
       "<Figure size 432x288 with 1 Axes>"
      ]
     },
     "metadata": {
      "needs_background": "light"
     },
     "output_type": "display_data"
    }
   ],
   "source": [
    "plt.scatter(var_data_df.x,var_data_df.y,var_data_df.waterdepth)\n",
    "plt.scatter(Lat, Long)"
   ]
  },
  {
   "cell_type": "code",
   "execution_count": 18,
   "id": "1d18d21e-ff12-4fde-922e-bc7f3ef0d559",
   "metadata": {},
   "outputs": [
    {
     "data": {
      "text/plain": [
       "579"
      ]
     },
     "execution_count": 18,
     "metadata": {},
     "output_type": "execute_result"
    }
   ],
   "source": [
    "np.size(Lat)"
   ]
  },
  {
   "cell_type": "code",
   "execution_count": 19,
   "id": "80748227-e850-47b8-8eb4-2033e5091cd6",
   "metadata": {},
   "outputs": [
    {
     "data": {
      "text/plain": [
       "579"
      ]
     },
     "execution_count": 19,
     "metadata": {},
     "output_type": "execute_result"
    }
   ],
   "source": [
    "np.size(Long)"
   ]
  },
  {
   "cell_type": "code",
   "execution_count": null,
   "id": "9a553b08-6352-403c-a694-00661eafbc29",
   "metadata": {},
   "outputs": [],
   "source": []
  }
 ],
 "metadata": {
  "kernelspec": {
   "display_name": "Python 3",
   "language": "python",
   "name": "python3"
  },
  "language_info": {
   "codemirror_mode": {
    "name": "ipython",
    "version": 3
   },
   "file_extension": ".py",
   "mimetype": "text/x-python",
   "name": "python",
   "nbconvert_exporter": "python",
   "pygments_lexer": "ipython3",
   "version": "3.8.8"
  }
 },
 "nbformat": 4,
 "nbformat_minor": 5
}
