{
 "cells": [
  {
   "cell_type": "markdown",
   "id": "04f7bdf3",
   "metadata": {},
   "source": [
    "# Delft3D IO Module\n",
    "\n",
    "The following example will familiarize the user with using the Delft3D (d3d) toolbox in MHKiT-Python. `d3d` can be used to plot the data from a NetCDF output from Delft3D [SNL-D3D-CEC-FM](https://github.com/MHKiT-Software/MHKiT-Python). The example will walk through a flume case with a turbine. The flume is 18 m long, 4 m wide and 2m deep with the turbine placed at 6 m along the length and 3 m along the width. The turbine used for this simulation has a circular cross-section with a diameter of 0.7m, a thrust coefficient of 0.72, and a power coefficient of 0.45. The simulation was run with 5 depth layers and 5-time intervals over 4 min.\n",
    "\n",
    "This example will show how to create a centerline plot at a desired depth for different variables outputs of Delft3D using matplotlib. It will also show how to make a contour plot of a given plane or depth for the variable output by Delft3D and how to use those variables to calculate turbulence intensity. This module can be helpful to visualize the wake of a turbine and help predict how a turbine will affect the surrounding area. \n",
    "\n",
    "Start by importing the necessary python packages and MHKiT module.  "
   ]
  },
  {
   "cell_type": "code",
   "execution_count": 1,
   "id": "030973b3",
   "metadata": {},
   "outputs": [],
   "source": [
    "from os.path import abspath, dirname, join, normpath, relpath\n",
    "from mhkit.river.io import d3d \n",
    "from math import isclose\n",
    "import scipy.interpolate as interp\n",
    "import matplotlib.pyplot as plt\n",
    "import numpy as np\n",
    "import pandas as pd\n",
    "import netCDF4\n",
    "plt.rcParams.update({'font.size': 15}) # Set font size of plots title and labels "
   ]
  },
  {
   "cell_type": "markdown",
   "id": "59583289",
   "metadata": {},
   "source": [
    "## Loading Data from Delft3D as a NetCDF \n",
    "\n",
    " A NetCDF file has been saved in the [\\\\MHKiT-Python\\\\examples\\\\data\\\\river\\\\d3d](https://github.com/browniea/MHKiT-Python/tree/d3d/examples/data/river/d3d) directory of a simple flume case with a turbine for reference data. Here we are inputting strings for the file path `datadir`, and file name `filename`, so the NetCDF file can be saved as a NetCDF object using the python pack `netCDF4` under the variable `d3d_data`.    \n",
    " \n",
    "There are many variables saved in the NetCDF object `d3d_data`. The function `d3d_data.variables.keys()` returns a dictionary of the available data. Here we look at the dictionary keys output to see all the variables. "
   ]
  },
  {
   "cell_type": "code",
   "execution_count": 2,
   "id": "258b202f",
   "metadata": {},
   "outputs": [
    {
     "name": "stdout",
     "output_type": "stream",
     "text": [
      "\"mesh2d_enc_x\": x-coordinate\n",
      "\"mesh2d_enc_y\": y-coordinate\n",
      "\"mesh2d_enc_node_count\": count of coordinates in each instance geometry\n",
      "\"mesh2d_enc_part_node_count\": count of nodes in each geometry part\n",
      "\"mesh2d_enc_interior_ring\": type of each geometry part\n",
      "\"mesh2d_enclosure_container\"\n",
      "\"Mesh2D\"\n",
      "\"NetNode_x\": x-coordinate\n",
      "\"NetNode_y\": y-coordinate\n",
      "\"projected_coordinate_system\"\n",
      "\"NetNode_z\": bed level at net nodes (flow element corners)\n",
      "\"NetLink\": link between two netnodes\n",
      "\"NetLinkType\": type of netlink\n",
      "\"NetElemNode\": mapping from net cell to net nodes (counterclockwise)\n",
      "\"NetElemLink\": mapping from net cell to its net links (counterclockwise)\n",
      "\"NetLinkContour_x\": list of x-contour points of momentum control volume surrounding each net/flow link\n",
      "\"NetLinkContour_y\": list of y-contour points of momentum control volume surrounding each net/flow link\n",
      "\"NetLink_xu\": x-coordinate of net link center (velocity point)\n",
      "\"NetLink_yu\": y-coordinate of net link center (velocity point)\n",
      "\"BndLink\": netlinks that compose the net boundary\n",
      "\"FlowElem_xcc\": x-coordinate of flow element circumcenter\n",
      "\"FlowElem_ycc\": y-coordinate of flow element circumcenter\n",
      "\"FlowElem_zcc\": bed level of flow element\n",
      "\"FlowElem_bac\": flow element area\n",
      "\"FlowElem_xzw\": x-coordinate of flow element center of mass\n",
      "\"FlowElem_yzw\": y-coordinate of flow element center of mass\n",
      "\"FlowElemContour_x\": list of x-coordinates forming flow element\n",
      "\"FlowElemContour_y\": list of y-coordinates forming flow element\n",
      "\"FlowElem_bl\": Initial bed level at flow element circumcenter\n",
      "\"ElemLink\": flow nodes between/next to which link between two netnodes lies\n",
      "\"FlowLink\": link/interface between two flow elements\n",
      "\"FlowLinkType\": type of flowlink\n",
      "\"FlowLink_xu\": x-coordinate of flow link center (velocity point)\n",
      "\"FlowLink_yu\": y-coordinate of flow link center (velocity point)\n",
      "\"FlowLink_lonu\": longitude\n",
      "\"FlowLink_latu\": latitude\n",
      "\"time\"\n",
      "\"LayCoord_cc\": sigma layer coordinate at flow element center\n",
      "\"LayCoord_w\": sigma layer coordinate at vertical interface\n",
      "\"timestep\"\n",
      "\"s1\": water level\n",
      "\"waterdepth\": water depth\n",
      "\"unorm\": normal component of sea_water_speed\n",
      "\"ucz\": upward velocity on flow element center\n",
      "\"ucxa\": depth-averaged velocity on flow element center, x-component\n",
      "\"ucya\": depth-averaged velocity on flow element center, y-component\n",
      "\"ww1\": upward velocity on vertical interface\n",
      "\"ucx\": velocity on flow element center, x-component\n",
      "\"ucy\": velocity on flow element center, y-component\n",
      "\"turkin1\": turbulent kinetic energy\n",
      "\"vicwwu\": turbulent vertical eddy viscosity\n",
      "\"tureps1\": turbulent energy dissipation\n"
     ]
    }
   ],
   "source": [
    "# Downloading Data\n",
    "datadir = normpath(join(relpath(join('data', 'river', 'd3d'))))\n",
    "filename= 'turbineTest_map.nc'\n",
    "d3d_data = netCDF4.Dataset(join(datadir,filename)) \n",
    "\n",
    "# Printing variable and description\n",
    "for var in d3d_data.variables.keys():\n",
    "    try: \n",
    "        d3d_data[var].long_name\n",
    "    except:\n",
    "        print(f'\"{var}\"')        \n",
    "    else:\n",
    "        print(f'\"{var}\": {d3d_data[var].long_name}')"
   ]
  },
  {
   "cell_type": "markdown",
   "id": "356efd94",
   "metadata": {},
   "source": [
    "## Seconds Run and Time Index\n",
    "\n",
    "The `'time_index'` can be used to pull data from different instances in time. For the example data included there are 5-time steps meaning we have indexes in the range 0 and to 4. Each time index has an associated `'seconds_run'` that quantifies the number of seconds that passed from the start of the simulation. To get all of the `'seconds_run'` for a data set use the function `get_all_time` the output is an array of all the `'seconds_run'` for the input data set.  "
   ]
  },
  {
   "cell_type": "code",
   "execution_count": 3,
   "id": "5e0dabc1",
   "metadata": {},
   "outputs": [
    {
     "name": "stdout",
     "output_type": "stream",
     "text": [
      "[  0.  60. 120. 180. 240.]\n"
     ]
    }
   ],
   "source": [
    "time= d3d.get_all_time(d3d_data)\n",
    "print(time)"
   ]
  },
  {
   "cell_type": "markdown",
   "id": "bd9ee80b",
   "metadata": {},
   "source": [
    "To convert from a `'seconds_run'` to a `'time_index'` or vice versa. The inputs are a netcdf data set, then a `'time_index'`. This example shows what happens if you input a `'seconds_run'` that is close to but not exactly a `'seconds_run'` associated with a `'time_idex'`. The function will throw a warning and return the closest time index."
   ]
  },
  {
   "cell_type": "code",
   "execution_count": 4,
   "id": "ebbdc284",
   "metadata": {},
   "outputs": [
    {
     "name": "stdout",
     "output_type": "stream",
     "text": [
      "1\n"
     ]
    },
    {
     "name": "stderr",
     "output_type": "stream",
     "text": [
      "<ipython-input-4-f8084d84fcf8>:2: UserWarning: Warning: seconds_run not found. Closest time stampfound {times[idx]}\n",
      "  time_index=d3d._convert_time(d3d_data,seconds_run=seconds_run)\n"
     ]
    }
   ],
   "source": [
    "seconds_run = 62\n",
    "time_index=d3d._convert_time(d3d_data,seconds_run=seconds_run)\n",
    "print(time_index)"
   ]
  },
  {
   "cell_type": "markdown",
   "id": "c2134260",
   "metadata": {},
   "source": [
    "## Dataframe from NetCDF\n",
    "For this example we will create a DataFrame from the D3d NetCDF object using the variable `'ucx'`, the velocity in the x-direction (see available data in previous block output). MHKiT's `d3d` function `get_all_data_points` will pull all the raw data from the NetCDF file for the specified variable at a specific time index in a dataframe `var_data_df`. The `time_index` can be used to pull data from a different instances in time (the last valid time_index, `time_index`=-1, is the default setting). If an integer outside of the valid range is entered the code will output an error with the max valid output listed.  The output data from  `get_all_data_points` will be the position (x, y, z) in meters, the value of vairable in meters per second and the run time of the simulation in seconds or `'x'`, `'y'`, `'z'`, '`ucx`', and `'time'`. The time run in simulation varies based on the 'time_step'. \n",
    "\n",
    "The limits `max_plot_vel` and `min_plot_vel` are defined to bound the plots of the variable's data in the next 3 example plots."
   ]
  },
  {
   "cell_type": "code",
   "execution_count": 5,
   "id": "197ab8f9",
   "metadata": {},
   "outputs": [
    {
     "name": "stdout",
     "output_type": "stream",
     "text": [
      "           x      y         z       ucx   time\n",
      "0      0.125  1.125  0.204638  0.717881  240.0\n",
      "1      0.375  1.125  0.199927  0.689645  240.0\n",
      "2      0.125  1.375  0.204638  0.717881  240.0\n",
      "3      0.625  1.125  0.199497  0.694164  240.0\n",
      "4      0.375  1.375  0.199927  0.689645  240.0\n",
      "...      ...    ...       ...       ...    ...\n",
      "5755  17.625  4.625  1.800595  1.245117  240.0\n",
      "5756  17.375  4.875  1.800572  1.222989  240.0\n",
      "5757  17.875  4.625  1.800020  1.255866  240.0\n",
      "5758  17.625  4.875  1.800596  1.245292  240.0\n",
      "5759  17.875  4.875  1.800019  1.256067  240.0\n",
      "\n",
      "[5760 rows x 5 columns]\n"
     ]
    }
   ],
   "source": [
    "# Getting variable data \n",
    "variable= 'ucx' \n",
    "var_data_df= d3d.get_all_data_points(d3d_data, variable, time_index=4)\n",
    "print(var_data_df)\n",
    "\n",
    "# Setting plot limits \n",
    "max_plot_vel= 1.25\n",
    "min_plot_vel=0.5"
   ]
  },
  {
   "cell_type": "markdown",
   "id": "cbc478db",
   "metadata": {},
   "source": [
    "## Plotting a Line Plot Between Two Points \n",
    "To view the maximum wake effect of the turbine we can plot a velocity down the centerline of the flume. To do this we will create an array between two points down the center of the flume. We will then interpolate the grided data results onto our centerline array. Since the flume is retangular the centerline points are found by taking the average of the maximum and minimum value for the width, `y`, and height, `z`, of the flume. We will then input one array, `x`, and two points, `y` and `z` into the function `create_points` to create our centerline array to interpolate over. The function `create_points` will then output a dataframe, `cline_points`, with keys `'x'`, `'y'`, and `'z'`."
   ]
  },
  {
   "cell_type": "code",
   "execution_count": 6,
   "id": "26e1daba",
   "metadata": {},
   "outputs": [
    {
     "data": {
      "text/html": [
       "<div>\n",
       "<style scoped>\n",
       "    .dataframe tbody tr th:only-of-type {\n",
       "        vertical-align: middle;\n",
       "    }\n",
       "\n",
       "    .dataframe tbody tr th {\n",
       "        vertical-align: top;\n",
       "    }\n",
       "\n",
       "    .dataframe thead th {\n",
       "        text-align: right;\n",
       "    }\n",
       "</style>\n",
       "<table border=\"1\" class=\"dataframe\">\n",
       "  <thead>\n",
       "    <tr style=\"text-align: right;\">\n",
       "      <th></th>\n",
       "      <th>x</th>\n",
       "      <th>y</th>\n",
       "      <th>z</th>\n",
       "    </tr>\n",
       "  </thead>\n",
       "  <tbody>\n",
       "    <tr>\n",
       "      <th>0</th>\n",
       "      <td>17.875000</td>\n",
       "      <td>3.0</td>\n",
       "      <td>0.999069</td>\n",
       "    </tr>\n",
       "    <tr>\n",
       "      <th>1</th>\n",
       "      <td>17.512755</td>\n",
       "      <td>3.0</td>\n",
       "      <td>0.999069</td>\n",
       "    </tr>\n",
       "    <tr>\n",
       "      <th>2</th>\n",
       "      <td>17.150510</td>\n",
       "      <td>3.0</td>\n",
       "      <td>0.999069</td>\n",
       "    </tr>\n",
       "    <tr>\n",
       "      <th>3</th>\n",
       "      <td>16.788265</td>\n",
       "      <td>3.0</td>\n",
       "      <td>0.999069</td>\n",
       "    </tr>\n",
       "    <tr>\n",
       "      <th>4</th>\n",
       "      <td>16.426020</td>\n",
       "      <td>3.0</td>\n",
       "      <td>0.999069</td>\n",
       "    </tr>\n",
       "  </tbody>\n",
       "</table>\n",
       "</div>"
      ],
      "text/plain": [
       "           x    y         z\n",
       "0  17.875000  3.0  0.999069\n",
       "1  17.512755  3.0  0.999069\n",
       "2  17.150510  3.0  0.999069\n",
       "3  16.788265  3.0  0.999069\n",
       "4  16.426020  3.0  0.999069"
      ]
     },
     "execution_count": 6,
     "metadata": {},
     "output_type": "execute_result"
    }
   ],
   "source": [
    "# Use rectangular grid min and max to find flume centerline\n",
    "xmin=var_data_df.x.max()\n",
    "xmax=var_data_df.x.min()\n",
    "\n",
    "ymin=var_data_df.y.max()\n",
    "ymax=var_data_df.y.min()\n",
    "\n",
    "zmin=var_data_df.z.max()\n",
    "zmax=var_data_df.z.min()\n",
    "\n",
    "# Creating one array and 2 points \n",
    "x = np.linspace(xmin, xmax)\n",
    "y = np.mean([ymin,ymax])\n",
    "z = np.mean([zmin,zmax])\n",
    "\n",
    "# Creating an array of points  \n",
    "cline_points = d3d.create_points(x, y, z)\n",
    "cline_points.head()"
   ]
  },
  {
   "cell_type": "markdown",
   "id": "c11a827b",
   "metadata": {},
   "source": [
    "Next the variable `ucx` is interpolated onto the created `cline_points` using scipy interp function and saved as `cline_variable`. The results are then plotted for velocity in the x direction, `ucx`, along the length of the flume, `x`."
   ]
  },
  {
   "cell_type": "code",
   "execution_count": 7,
   "id": "199785ce",
   "metadata": {},
   "outputs": [
    {
     "data": {
      "text/plain": [
       "Text(0.5, 1.0, 'Centerline Velocity at: 240.0 s')"
      ]
     },
     "execution_count": 7,
     "metadata": {},
     "output_type": "execute_result"
    },
    {
     "data": {
      "image/png": "[encoded data removed]",
      "text/plain": [
       "<Figure size 864x360 with 1 Axes>"
      ]
     },
     "metadata": {
      "needs_background": "light"
     },
     "output_type": "display_data"
    }
   ],
   "source": [
    "# Interpolate raw data onto the centerline\n",
    "cline_variable = interp.griddata(\n",
    "    var_data_df[['x','y','z']], \n",
    "    var_data_df[variable],\n",
    "    cline_points[['x','y','z']]\n",
    ") \n",
    "\n",
    "# Plotting\n",
    "plt.figure(figsize=(12,5))\n",
    "plt.plot(x, cline_variable)\n",
    "\n",
    "plt.grid()\n",
    "plt.xlabel('x (m)')\n",
    "plt.ylabel('$u_x$ [m/s]' )\n",
    "plt.title(f'Centerline Velocity at: {var_data_df.time[1]} s')"
   ]
  },
  {
   "cell_type": "markdown",
   "id": "b7f3aa5d",
   "metadata": {},
   "source": [
    "## Contour Plot for a Given Sigma Layer \n",
    "\n",
    "Sometimes it is useful to plot only the raw data of a given layer. Using `get_layer_data` a single layer of raw data will be retrieved from the NetCDF object. The `d3d` function ,`get_layer_data` takes 3 inputs, the NetCDF object (`d3d_data`), a variable name as a string (`variable`), and the layer to retrieve (`layer`) as an integer. The variable is set to the velocity in the x direction, `'ucx'`, and the layer of data to plot as 2. Since there are 5 sigma layers in this example layer 2 is approximately the middle layer.  `layer` works as an index that begins at begins at 0 and ends at 4.  The `get_layer_data` then outputs a dataframe `layer_data` with the keys `'x'`, `'y'`, `z`, '`v`', and `'time'` as the length, width, depth, value, and run time of simulation of the specified variable in this case velocity in the x direction, 'ucx'.  \n",
    "\n",
    "To plot the data the maximum and minimum, `max_plot_vel` and `min_plot_vel`, values are pulled from above to limit bounds of the color bar to show the value of the specified variable, in this case it's velocity in the x direction. The type of plot is also defined as a string 'contour' to add to the title of the plot."
   ]
  },
  {
   "cell_type": "code",
   "execution_count": 8,
   "id": "26daf026",
   "metadata": {},
   "outputs": [
    {
     "data": {
      "text/plain": [
       "Text(0.5, 1.0, 'Velocity on Layer 2 at Time: 240.0 s')"
      ]
     },
     "execution_count": 8,
     "metadata": {},
     "output_type": "execute_result"
    },
    {
     "data": {
      "image/png": "[encoded data removed]",
      "text/plain": [
       "<Figure size 864x288 with 2 Axes>"
      ]
     },
     "metadata": {
      "needs_background": "light"
     },
     "output_type": "display_data"
    }
   ],
   "source": [
    "# Get layer data\n",
    "layer = 2\n",
    "layer_data = d3d.get_layer_data(d3d_data, variable, layer)\n",
    "\n",
    "# Plotting \n",
    "plt.figure(figsize=(12,4))\n",
    "contour_plot = plt.tricontourf(\n",
    "    layer_data.x,\n",
    "    layer_data.y, \n",
    "    layer_data.v, \n",
    "    vmin=min_plot_vel,\n",
    "    vmax=max_plot_vel,\n",
    "    levels=np.linspace(min_plot_vel,max_plot_vel,10)\n",
    ")\n",
    "    \n",
    "cbar = plt.colorbar(contour_plot)\n",
    "cbar.set_label('$u_x$ [m/s]')\n",
    "    \n",
    "plt.xlabel('x [m]')\n",
    "plt.ylabel('y [m]')\n",
    "plt.title(f'Velocity on Layer {layer} at Time: {layer_data.time[1]} s')"
   ]
  },
  {
   "cell_type": "markdown",
   "id": "ce9f6a5d",
   "metadata": {},
   "source": [
    "## Plotting a Contour Plot of a given Plane \n",
    "\n",
    "If you wanted to look at a contour plot of a specific depth you can create a contour plot over given points. Expanding on the centerline array points we can create a grid using the same `create_points` function by inputting two arrays along the length of the flume, `x`  , and width of the flume, `y_contour` , and one point for the depth we want to look at `z`.  `create_points` then outputs a dataframe `contour_points` of points to calculate the contour values over with the keys `'x'`, `'y'`, and `'z'`."
   ]
  },
  {
   "cell_type": "code",
   "execution_count": 9,
   "id": "baf1e542",
   "metadata": {},
   "outputs": [
    {
     "name": "stdout",
     "output_type": "stream",
     "text": [
      "[0, 1, 2]\n"
     ]
    }
   ],
   "source": [
    "# Create x-y plane at z level midpoint\n",
    "x2 = np.linspace(xmin, xmax, num=100)\n",
    "y_contour = np.linspace(ymin, ymax, num=40)\n",
    "z2 = np.mean([zmin,zmax])\n",
    "\n",
    "contour_points = d3d.create_points(x2, y_contour, z2) "
   ]
  },
  {
   "cell_type": "markdown",
   "id": "4e1972a6",
   "metadata": {},
   "source": [
    "Next the data is interpolated on to the points created and saved as an arrray under the variable name `contour_variable`. "
   ]
  },
  {
   "cell_type": "code",
   "execution_count": 10,
   "id": "441f059a",
   "metadata": {},
   "outputs": [],
   "source": [
    "contour_variable = interp.griddata(\n",
    "    var_data_df[['x','y','z']],\n",
    "    var_data_df[variable],\n",
    "    contour_points[['x','y','z']]\n",
    ")"
   ]
  },
  {
   "cell_type": "markdown",
   "id": "5658a7d5",
   "metadata": {},
   "source": [
    "The results are then plotted. The minimum and maximum values show on the graph are pulled from above (`max_plot_vel` and `min_plot_vel`) as in the previous example. The contour plot of the velocity is then output at the center depth of the flume. "
   ]
  },
  {
   "cell_type": "code",
   "execution_count": null,
   "id": "d04fa7ad",
   "metadata": {},
   "outputs": [],
   "source": [
    "# Plotting \n",
    "plt.figure(figsize=(12,4))\n",
    "contour_plot = plt.tricontourf(\n",
    "    contour_points.x,\n",
    "    contour_points.y,\n",
    "    contour_variable,\n",
    "    vmin=min_plot_vel,\n",
    "    vmax=max_plot_vel,\n",
    "    levels=np.linspace(min_plot_vel,max_plot_vel,10)\n",
    ")\n",
    "\n",
    "plt.xlabel('x (m)')\n",
    "plt.ylabel('y (m)')\n",
    "plt.title(f'Velocity on x-y Plane')\n",
    "\n",
    "cbar= plt.colorbar(contour_plot)\n",
    "cbar.set_label(f'$u_x$ [m/s]')"
   ]
  },
  {
   "cell_type": "markdown",
   "id": "24a70552",
   "metadata": {},
   "source": [
    "## Contour Plot of Turbulent Intensity \n",
    "\n",
    "Turbulent Intensity is the ratio of the magnitude of turbulent velocity to total velocity. The function `turbulent_intensity` takes the inputs of the NetCDF object, the points to caculate  over, the time index, and an optional boolian input to output `intermediate_values` used to calculate turbulent intensity. The fuction then pulls variables `'ucx'`, `'ucy'`, `'ucz'`, and `'turkin1'` as the velocity in the x, y, z and turbulence kinetic energy respectively. The function then calculates and outputs the turbulent intensity, `turbulent_intensity`, for any given time_index in the data_frame `TI`. The `TI` dataframe also includes the `x`,`y`, and `z` location. If the `intermediate_values` bollian is equal to true the turbulent kinetic energy `'turkin1'`, and velocity in the `'ucx'`, `'ucy'`, and `'ucz'` direction are also included.\n",
    "\n",
    "In this example it is calculating the turbulent intensity over the same contour_points used above, however it can also calculate over 'cells', the coordinate system for the raw velocity data, or 'faces', the coordinate system for the raw turbulence data. If nothing is specified for `points`, `'cells'` is the default coordinate system.    \n",
    "\n",
    "Following the same format as the previous two contour plots the limits of the maximum and minimum values are defined by user as well as a string for the type of plot. The code then outputs a contour plot of the turbulent intensity."
   ]
  },
  {
   "cell_type": "code",
   "execution_count": null,
   "id": "857acdd2",
   "metadata": {},
   "outputs": [],
   "source": [
    "# Calculating turbulent intensity \n",
    "TI=d3d.turbulent_intensity(\n",
    "   d3d_data,\n",
    "   points=contour_points,\n",
    "   intermediate_values=True\n",
    ") \n",
    "\n",
    "# Creating new plot limits \n",
    "max_plot_TI=27\n",
    "min_plot_TI=0\n",
    "\n",
    "# Plotting \n",
    "plt.figure(figsize=(12,4))\n",
    "contour_plot = plt.tricontourf(\n",
    "    TI.x, \n",
    "    TI.y, \n",
    "    TI.turbulent_intensity,\n",
    "    vmin=min_plot_TI, \n",
    "    vmax=max_plot_TI,\n",
    "    levels=np.linspace(min_plot_TI,max_plot_TI,10)\n",
    ")\n",
    "\n",
    "plt.xlabel('x (m)')\n",
    "plt.ylabel('y (m)')\n",
    "plt.title('Turbulent Intensity')\n",
    "cbar= plt.colorbar(contour_plot)\n",
    "cbar.set_label('Turbulent Intensity [%]')\n",
    "\n",
    "TI"
   ]
  },
  {
   "cell_type": "markdown",
   "id": "d2fd1c2f",
   "metadata": {},
   "source": [
    "## Comparing Face Data to Cell Data \n",
    "In Delft3D there is a staggered grid where some variables are stored on the faces and some are stored on the cells. The `d3d.variable_interpolation` function allows you to interpolate face data onto the cell locations or vice versa. For this example, we input the variable names, `'ucx'`, `'ucy'`,`'ucz'`, and `'turkin1'`, which are pulled from the NetCDF object (`d3d_data`) and are to be interpolated on to the coordinate system `'faces'`. The output is a data frame, `Var`, with the interpolated data. \n",
    "\n",
    "Near the boundaries linear linterpolate will sometimes return negative values. When calculating turbulent intensity negative turbulent kinetic energy values (`turkin1`) will have and invalid answered. To filter out any negative values the index of where the negative numbers are located are calculated as `neg_index`. If the value is close to 0 (greater then -1.0e-4) the values is replaced with zero, if not it is replaced with nan. `zero_bool` determines if the negative number is close to 0. `zero_ind` is the location of the negative numbers to be replaced with zero and `non_zero_bool` are the locations of the numbers to replace with nan. To calculate turbulent intensity the magnitude of the velocity is calculated with `'ucx'`, `'ucy'`, `'ucz'` and saved as `u_mag`.Turbulent intensity is then calculated with `u_mag` and `turkin1` and saved as `turbulent_intensity`. \n",
    "\n",
    "The data can be called, as shown, with `Var`.  We now have `'ucx'` and  `'turkin1'` on the same grid so then can be compared and used in calculations. "
   ]
  },
  {
   "cell_type": "code",
   "execution_count": null,
   "id": "941d76b7",
   "metadata": {},
   "outputs": [],
   "source": [
    "variables= ['turkin1', 'ucx', 'ucy', 'ucz']\n",
    "\n",
    "Var= d3d.variable_interpolation(d3d_data, variables, points='faces')\n",
    "\n",
    "# Replacing negative numbers close to zero with zero\n",
    "neg_index=np.where(Var['turkin1']<0)# Finding negative numbers\n",
    "\n",
    "# Determining if negative number are close to zero \n",
    "zero_bool= np.isclose(\n",
    "    Var['turkin1'][Var['turkin1']<0].array, \n",
    "    np.zeros(len(Var['turkin1'][Var['turkin1']<0].array)),\n",
    "    atol=1.0e-4\n",
    ")\n",
    "\n",
    "# Identifying the location of negative values close to zero \n",
    "zero_ind= neg_index[0][zero_bool] \n",
    "\n",
    "# Identifying the location of negative number that are not close to zero\n",
    "non_zero_ind= neg_index[0][~zero_bool]\n",
    "\n",
    "# Replacing negative number close to zero with zero \n",
    "Var.loc[zero_ind,'turkin1']=np.zeros(len(zero_ind)) \n",
    "\n",
    "# Replacing negative numbers not close to zero with nan \n",
    "Var.loc[non_zero_ind,'turkin1']=[np.nan]*len(non_zero_ind)\n",
    "\n",
    "# Calculating the root mean squared velocity \n",
    "Var['u_mag']=d3d.unorm(np.array(Var['ucx']),np.array(Var['ucy']), np.array(Var['ucz']))\n",
    "\n",
    "# Calculating turbulent intensity as a percent \n",
    "Var['turbulent_intensity']= (np.sqrt(2/3*Var['turkin1'])/Var['u_mag'])*100 \n",
    "\n",
    "Var"
   ]
  },
  {
   "cell_type": "markdown",
   "id": "947e8188",
   "metadata": {},
   "source": [
    "When plotting data using `d3d.variable_interpolation`it is helpful to define points to interpolate onto as the `'cell'` and `'face'` grids contain a 3 dimensional grid of points. In this next example we will use the `d3d.variable_interpolation` function to plot a contour plot of tubulent intesity normal to turbine (y-z cross section) `n` turbine diameters downstream of the turbine.\n",
    "\n",
    "As stated in the intro, the turbine is located at 6m along the length `turbine_x_loc` with a diameter of 0.7m  (`turbine_diameter`). Similar to the previous example, we input the variable names `variables` `'ucx'`, `'ucy'`,`'ucz'`, and `'turkin1'`, which are pulled from the NetCDF object (`d3d_data`). Unlike the previous example, the points are defined as `sample_points` created using `create_points` from `x_sample`, `y_sample`, and `z_sample` with `x_sample` at a constant point of 1 (`N`) turbine diameters downstream of the turbine (6.7m) and `y_sample` and `z_sample` being arrays between the minimum and maximum values for that flume dimension. The interpolated data is the saved from `d3d.variable_interpolation` as `Var_sample`and used to calculate turbulent intensity as in the previous example. The data is then plotted along the y and z axis."
   ]
  },
  {
   "cell_type": "code",
   "execution_count": null,
   "id": "75433d08",
   "metadata": {
    "scrolled": true
   },
   "outputs": [],
   "source": [
    "turbine_x_loc= 6 \n",
    "turbine_diameter= 0.7\n",
    "N=1\n",
    "x_sample = turbine_x_loc+N*turbine_diameter\n",
    "y_samples = np.linspace(ymin, ymax, num=40)\n",
    "z_samples = np.linspace(zmin,zmax, num=256)\n",
    "\n",
    "variables= ['turkin1', 'ucx', 'ucy', 'ucz']\n",
    "sample_points = d3d.create_points(x_sample, y_samples, z_samples) \n",
    "\n",
    "Var_sample= d3d.variable_interpolation(d3d_data, variables, points= sample_points)\n",
    "\n",
    "#root mean squared calculation \n",
    "Var_sample['u_mag']=d3d.unorm(\n",
    "    np.array(Var_sample['ucx']),\n",
    "    np.array(Var_sample['ucy']), \n",
    "    np.array(Var_sample['ucz'])\n",
    ") \n",
    "# turbulent intesity calculation\n",
    "Var_sample['turbulent_intensity']= np.sqrt(2/3*Var_sample['turkin1'])/Var_sample['u_mag']*100  \n",
    "\n",
    "# Plotting \n",
    "plt.figure(figsize=(10,4.4))\n",
    "contour_plot = plt.tricontourf(\n",
    "    Var_sample.y, \n",
    "    Var_sample.z, \n",
    "    Var_sample.turbulent_intensity,\n",
    "    vmin=min_plot_TI, \n",
    "    vmax=max_plot_TI,\n",
    "    levels=np.linspace(min_plot_TI,max_plot_TI,10)\n",
    ")\n",
    "\n",
    "plt.xlabel('y (m)')\n",
    "plt.ylabel('z (m)')\n",
    "plt.title('Turbulent Intensity')\n",
    "cbar= plt.colorbar(contour_plot)\n",
    "cbar.set_label('Turbulent Intensity [%]')"
   ]
  },
  {
   "cell_type": "markdown",
   "id": "94fc1f99",
   "metadata": {},
   "source": [
    "This sample data used in this example is not spatial or temporally resolved and is for demonstration purposes only. In this example there are 5 sigma layers. The low level of discretization can be seen in in the sharp edges in the turbulent intensity plot above around the turbine."
   ]
  }
 ],
 "metadata": {
  "kernelspec": {
   "display_name": "Python 3",
   "language": "python",
   "name": "python3"
  },
  "language_info": {
   "codemirror_mode": {
    "name": "ipython",
    "version": 3
   },
   "file_extension": ".py",
   "mimetype": "text/x-python",
   "name": "python",
   "nbconvert_exporter": "python",
   "pygments_lexer": "ipython3",
   "version": "3.8.8"
  }
 },
 "nbformat": 4,
 "nbformat_minor": 5
}
