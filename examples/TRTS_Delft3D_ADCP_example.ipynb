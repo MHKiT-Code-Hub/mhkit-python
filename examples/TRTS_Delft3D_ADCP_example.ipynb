{
 "cells": [
  {
   "cell_type": "markdown",
   "id": "70a6ebdd-7295-44ee-9654-65645b559196",
   "metadata": {},
   "source": [
    "# Comparing Transect Data at the Tanana River Test Site \n",
    "\n",
    "The following example will familiarize the user with the MHKiT DOLfYN and Delft3D modules by performing a Deflt3d numerical model validation of the Tanana River Test Site against field data.\n",
    "\n",
    "Start by importing the necessary python packages and MHKiT module."
   ]
  },
  {
   "cell_type": "code",
   "execution_count": null,
   "id": "447c788c-a042-4649-81c6-532fcd464c0e",
   "metadata": {},
   "outputs": [],
   "source": [
    "from os.path import abspath, dirname, join, normpath, relpath\n",
    "from matplotlib.pyplot import figure\n",
    "import scipy.interpolate as interp\n",
    "import matplotlib.pyplot as plt\n",
    "from datetime import datetime\n",
    "from dolfyn.adp import api\n",
    "import xarray as xr\n",
    "import pandas as pd\n",
    "import numpy as np\n",
    "import scipy.io\n",
    "import netCDF4\n",
    "import math \n",
    "import utm\n",
    "# MHKiT Imports\n",
    "from mhkit.dolfyn.rotate import api as ap\n",
    "from mhkit import dolfyn as dlfn\n",
    "from mhkit.river.io import d3d \n",
    "from mhkit import river"
   ]
  },
  {
   "cell_type": "markdown",
   "id": "552c226f-c933-4411-bcb0-bc012e74cfa4",
   "metadata": {},
   "source": [
    "## Preparing the Field Data\n",
    "\n",
    "Field data was collected in 2010. As can be seen below 2 passes were collected across the river. In the next section we will import this data into MHKiT and then interpolate these two passes into a single idealized transect for comparison with the simulated Deflt3D data.\n",
    "\n",
    "<img src=\"TRTS_transect_map.png\" width=720 height=640 />"
   ]
  },
  {
   "cell_type": "markdown",
   "id": "e7cbf99b-302c-42a9-bc9a-f2029fbd5ed9",
   "metadata": {},
   "source": [
    "### Importing ADCP Data\n",
    "\n",
    "The MHKiT DOLfYN api module can import .PDO and other ADCP and ADV binary formats to an xarray. For this analysis we import two transect passes stored in the 'data' folder in .PDO format. For comparison to the numerical model we want to average the two transects into one xarray ('ds_02_03')."
   ]
  },
  {
   "cell_type": "code",
   "execution_count": null,
   "id": "079e0248-bb41-4c99-a954-19735dbe5e90",
   "metadata": {},
   "outputs": [],
   "source": [
    "# Read in the two transect passes\n",
    "ds_02 = api.read('data/tanana_transects_08_10_10_0_002_10-08-10_142214.PD0')\n",
    "ds_03 = api.read('data/tanana_transects_08_10_10_0_003_10-08-10_143335.PD0')\n",
    "# Create one dataset from the two passes\n",
    "ds_02_03= xr.merge([ds_02,ds_03])\n",
    "# Print the xarray data\n",
    "ds_02_03"
   ]
  },
  {
   "cell_type": "markdown",
   "id": "b6d6ddf5-15ef-4177-afbe-a29173ebf0a2",
   "metadata": {},
   "source": [
    "### Convert the the coordinate system to UTM\n",
    "\n",
    "The ADCP location data is stored in longitude and latitude coordinates by default. However, latitude and longitude cannot be directly converted to a distance therefor here we convert from latitude and longitude to $UTM_x$ and $UTM_y$. This gives us the ability to calculate the linear line of best fit for the idealized transect."
   ]
  },
  {
   "cell_type": "code",
   "execution_count": null,
   "id": "158b216f-f71a-44aa-93ec-a81e5c1f45c9",
   "metadata": {},
   "outputs": [],
   "source": [
    "data=utm.from_latlon(ds_02_03.latitude_gps, ds_02_03.longitude_gps, 6, 'W') # combined transects \n",
    "latitude=data[0]\n",
    "longitude=data[1]"
   ]
  },
  {
   "cell_type": "markdown",
   "id": "4a07f8c9-1103-4232-ae35-12e8f7478a3f",
   "metadata": {},
   "source": [
    "Calculate ideal linear transect using combined ds_02_03 data set. Using the numpy polyfit function to find the slop and intercept we can then use those to recalculate the UTM y coordinated to be the ideal linear transect."
   ]
  },
  {
   "cell_type": "code",
   "execution_count": null,
   "id": "afa77384-5c3f-424b-a775-16e03c2a6699",
   "metadata": {},
   "outputs": [],
   "source": [
    "# Linear regression using first order polyfit\n",
    "a,b = np.polyfit(latitude, longitude,1)\n",
    "\n",
    "# Initialize the figure\n",
    "figure(figsize=(8,6))\n",
    "\n",
    "# Plot the original transect data for comparison\n",
    "transect_1 = utm.from_latlon(ds_02.latitude_gps, ds_02.longitude_gps, 6, 'W') \n",
    "transect_2=utm.from_latlon(ds_03.latitude_gps, ds_03.longitude_gps, 6, 'W') \n",
    "\n",
    "latitude_1=transect_1[0]\n",
    "longitude_1=transect_1[1]\n",
    "\n",
    "latitude_2=transect_2[0]\n",
    "longitude_2=transect_2[1]\n",
    "\n",
    "plt.plot(latitude_1,longitude_1, label= 'GPS Transect 1')\n",
    "plt.plot(latitude_2,longitude_2, label= 'GPS Transect 2')\n",
    "\n",
    "# Plot the Idealized Transect\n",
    "plt.plot(latitude,a*latitude+b, label= 'Linear Regression')\n",
    "plt.legend()\n",
    "plt.xlabel('UTM x (m)')\n",
    "plt.ylabel('UTM y (m)')"
   ]
  },
  {
   "cell_type": "markdown",
   "id": "94d50841-cfec-4c35-bab5-68079e232a59",
   "metadata": {},
   "source": [
    "### Get GPS & Ideal point\n",
    "\n",
    "Why are we doing this here? We do not seem to use this data."
   ]
  },
  {
   "cell_type": "code",
   "execution_count": null,
   "id": "ed0eacb9-f941-4829-ac2e-5fc588ba787b",
   "metadata": {},
   "outputs": [],
   "source": [
    "gps = np.array([\n",
    "    [lat, lon] for lat, lon in zip(latitude, longitude)\n",
    "    ]) \n",
    "gps_points = pd.DataFrame(gps, columns= ['latitude','longitude'])\n",
    "\n",
    "ideal= np.array([ \n",
    "    [lat, lon] for lat, lon in zip(latitude, a*latitude+b)\n",
    "    ]) \n",
    "ideal_sampled_points = pd.DataFrame(ideal, columns= ['latitude','longitude'])"
   ]
  },
  {
   "cell_type": "markdown",
   "id": "1f4a7b28-63af-498f-bf82-574d0a428dd9",
   "metadata": {},
   "source": [
    "### Range offset\n",
    "\n",
    "What is range offset?"
   ]
  },
  {
   "cell_type": "code",
   "execution_count": null,
   "id": "67f37e4f-a889-4676-9797-82d7c13fbe94",
   "metadata": {},
   "outputs": [],
   "source": [
    "# What is this doing?\n",
    "api.clean.set_range_offset(ds_02_03,0)\n",
    "# why is this being shown?\n",
    "ds_02_03.range"
   ]
  },
  {
   "cell_type": "markdown",
   "id": "2f20082e-0d10-4b50-85c2-744179a6f91d",
   "metadata": {},
   "source": [
    "### Correlation filter \n",
    "\n",
    "Data is fileted for a minimum colleation of 40 counts \n",
    "\n",
    "Why are we showing this to the reader?"
   ]
  },
  {
   "cell_type": "code",
   "execution_count": null,
   "id": "87eb43c7-486f-497f-b1b6-dd93330a2d18",
   "metadata": {},
   "outputs": [],
   "source": [
    "# You plot first\n",
    "ds_02_03.corr.sel(beam=1, range=slice(0,10)).plot()\n",
    "# then rotate the data...is this important to do after the plot?\n",
    "api.rotate2(ds_02_03, 'earth', inplace=True)\n",
    "ds_02_03 = api.clean.correlation_filter(ds_02_03, thresh=40)"
   ]
  },
  {
   "cell_type": "markdown",
   "id": "6294abc2-e7e5-4774-9a81-aa536caa156e",
   "metadata": {},
   "source": [
    "### Declination \n",
    "\n",
    "If your declination is not already set you can correct for declination with the MHKIT DOLfYN ap's set_declination. If it was already been set with the deployment software it will be saved under the attributes  `magnetic_var_deg` \n",
    "> Is this only for Teledyn or always under this variable?"
   ]
  },
  {
   "cell_type": "code",
   "execution_count": null,
   "id": "c3440ed6-d655-4f6c-bb0e-6c5e533d5bac",
   "metadata": {},
   "outputs": [],
   "source": [
    "ap.set_declination(ds_02_03, 15.7, inplace=True) # 15.7 deg East for Nenana Alaska "
   ]
  },
  {
   "cell_type": "markdown",
   "id": "85175b94-e0fa-488c-929c-a33a20a8bfe0",
   "metadata": {},
   "source": [
    "### Bottom Filter \n",
    "MHKiT DOLfYN has the functionality to find the river bottom based on the along-beam acoustic amplitude data recorded from the ADCP. However, if depth sounder data is available it can be more reliable at representing the river bottom. Here we use the depth sounder `single_beam` to create an array that can be used as a filter when multiplied with the velocity data."
   ]
  },
  {
   "cell_type": "code",
   "execution_count": null,
   "id": "88c8358f-d05f-47c9-9ce3-66f5c9a491e7",
   "metadata": {},
   "outputs": [],
   "source": [
    "# Explain inline what is happening\n",
    "single_beam = ds_02_03.where(ds_02_03.dist_bt > 0 )\n",
    "bottom=np.min(single_beam.dist_bt,axis=0)\n",
    "bottom_avg= interp.griddata(gps_points,bottom,ideal_sampled_points, method='linear')\n",
    "bottom_filter = d3d.create_points(x=bottom_avg, y=ds_02_03.range.to_numpy(), waterdepth=1)\n",
    "river_bottom_filter= []\n",
    "\n",
    "for index, row in  bottom_filter.iterrows():\n",
    "    if row['x'] > row['y']: \n",
    "        filter = 1    \n",
    "    else: \n",
    "        filter= float(\"nan\")\n",
    "    river_bottom_filter= np.append(river_bottom_filter, filter)"
   ]
  },
  {
   "cell_type": "markdown",
   "id": "ae0fef1b-ffb2-4d25-adb9-378e54972ba0",
   "metadata": {},
   "source": [
    "### Raw Points\n",
    "\n",
    "Why are we getting raw point?"
   ]
  },
  {
   "cell_type": "code",
   "execution_count": null,
   "id": "609dc780-401c-4814-a3ca-46d0bcdcb3be",
   "metadata": {},
   "outputs": [],
   "source": [
    "# what are these tiles doing?\n",
    "lat= np.tile(latitude, np.size( ds_02_03.range))\n",
    "long= np.tile(longitude, np.size( ds_02_03.range))\n",
    "depth =np.repeat( ds_02_03.range,np.size(latitude))\n",
    "Point={'latitude': lat, 'longitude': long, 'waterdepth': depth}\n",
    "points=pd.DataFrame(Point)\n",
    "\n",
    "# If we are multiplying by river_bottom_filter are these truely raw?\n",
    "points['north']= np.ravel(ds_02_03.vel[1, :,:])* river_bottom_filter\n",
    "points['east']= np.ravel(ds_02_03.vel[0, :,:])* river_bottom_filter\n",
    "  # You call it depth above... Maybe keep the same name?\n",
    "points['vert']= np.ravel(ds_02_03.vel[2, :,:])* river_bottom_filter\n",
    "points= points.dropna()\n",
    "# Show points\n",
    "points"
   ]
  },
  {
   "cell_type": "markdown",
   "id": "ab56f5dc-8ba1-4430-8863-066532a55121",
   "metadata": {},
   "source": [
    "### Ideal Transect \n",
    "\n",
    "Why is this all the way up down here away from the work relevant to it above?"
   ]
  },
  {
   "cell_type": "code",
   "execution_count": null,
   "id": "2b95ffe7-5607-4d6c-8e8d-84836d118891",
   "metadata": {},
   "outputs": [],
   "source": [
    "lat_points = np.tile(latitude, np.size(ds_02_03.range))\n",
    "long_points = np.tile(a*latitude+b, np.size(ds_02_03.range))\n",
    "depth_points = np.repeat( ds_02_03.range, np.size(latitude))\n",
    "\n",
    "ADCP_points={\n",
    "    'latitude': lat_points, \n",
    "    'longitude': long_points, \n",
    "    'waterdepth': depth_points\n",
    "    }\n",
    "ADCP_points=pd.DataFrame(ADCP_points)\n",
    "ADCP_points"
   ]
  },
  {
   "cell_type": "markdown",
   "id": "3dc22491-18ac-459d-a223-e251a89a309c",
   "metadata": {},
   "source": [
    "### Ideal Transect Downsampled\n",
    "\n",
    "Discuss why we are down sampling"
   ]
  },
  {
   "cell_type": "code",
   "execution_count": null,
   "id": "aeef1dfc-81a3-402a-8337-d74f381052d5",
   "metadata": {},
   "outputs": [],
   "source": [
    "# Interpolate points by getting min & max first\n",
    "stat_lat = min(ADCP_points.latitude)\n",
    "start_long= min(ADCP_points.longitude)\n",
    "\n",
    "end_lat= max(ADCP_points.latitude)\n",
    "end_long= min(ADCP_points.longitude)\n",
    "\n",
    "# Why are we printing this?\n",
    "(end_lat-stat_lat)/(math.cos(math.atan(a))*15)"
   ]
  },
  {
   "cell_type": "code",
   "execution_count": null,
   "id": "3870861e-3476-4e47-95e8-ed9f4534dc0b",
   "metadata": {},
   "outputs": [],
   "source": [
    "lat_downsampeled = np.linspace(stat_lat,end_lat,10)\n",
    "long_downsampeled= a*lat_downsampeled+b"
   ]
  },
  {
   "cell_type": "code",
   "execution_count": null,
   "id": "aa4dfcc6-6a96-4240-b208-86a33fcc4a3f",
   "metadata": {},
   "outputs": [],
   "source": [
    "lat_points_downsampled= np.tile(lat_downsampeled, np.size( ds_02_03.range))\n",
    "long_points_downsampled= np.tile(long_downsampeled, np.size( ds_02_03.range))\n",
    "depth_points_downsampled =np.repeat( ds_02_03.range,np.size(lat_downsampeled))\n",
    "\n",
    "ADCP_points_downsamples={'latitude': lat_points_downsampled, 'longitude': long_points_downsampled, 'waterdepth': depth_points_downsampled}\n",
    "ADCP_points_downsamples=pd.DataFrame(ADCP_points_downsamples)\n",
    "ADCP_points_downsamples"
   ]
  },
  {
   "cell_type": "markdown",
   "id": "1880fb38-d487-415f-b011-4de37fc44878",
   "metadata": {},
   "source": [
    "# Interpolating Velocities for Ideal Transect "
   ]
  },
  {
   "cell_type": "code",
   "execution_count": null,
   "id": "767587a8-2248-4ad5-850e-68e7dda56441",
   "metadata": {},
   "outputs": [],
   "source": [
    "# Project velocity onto ideal tansect \n",
    "ADCP= pd.DataFrame()\n",
    "ADCP['East']=  interp.griddata(points[['latitude','longitude','waterdepth']],points['east'],ADCP_points, method='linear', fill_value=0)\n",
    "ADCP['North']= interp.griddata(points[['latitude','longitude','waterdepth']],points['north'],ADCP_points, method='linear', fill_value=0)\n",
    "ADCP['Vertical']=  interp.griddata(points[['latitude','longitude','waterdepth']],points['vert'],ADCP_points, method='linear', fill_value=0)\n",
    "ADCP['Magnitude']= np.sqrt(ADCP.East**2+ADCP.North**2+ADCP.Vertical**2)\n",
    "ADCP"
   ]
  },
  {
   "cell_type": "code",
   "execution_count": null,
   "id": "c70be4c3-3082-4ec0-bacf-e40592838abd",
   "metadata": {},
   "outputs": [],
   "source": [
    "max_plot=3\n",
    "min_plot=0\n",
    "\n",
    "# Plotting \n",
    "plt.figure(figsize=(10,4.4))\n",
    "contour_plot = plt.tripcolor(\n",
    "    ADCP_points.latitude, \n",
    "    -ADCP_points.waterdepth, \n",
    "     ADCP.Magnitude*river_bottom_filter,\n",
    "    vmin=min_plot,\n",
    "    vmax=max_plot\n",
    ")\n",
    "\n",
    "plt.xlabel('UTM x (m)')\n",
    "plt.ylabel('Water Depth (m)')\n",
    "cbar= plt.colorbar(contour_plot)\n",
    "cbar.set_label('velocity [m/s]')\n",
    "plt.ylim([-8.5,-1])\n",
    "plt.xlim([400950,401090])\n",
    "plt.plot(ideal_sampled_points.latitude,-bottom_avg,'k', label= 'river bottom')\n",
    "plt.legend(loc= 7)"
   ]
  },
  {
   "cell_type": "markdown",
   "id": "58d92d94-478f-4b48-a6b1-c691badbbac1",
   "metadata": {},
   "source": [
    "# Interpolating Downsampled Velocites for ideal transect "
   ]
  },
  {
   "cell_type": "code",
   "execution_count": null,
   "id": "69b668e7-8a41-40bb-841e-de8fc62e7b01",
   "metadata": {},
   "outputs": [],
   "source": [
    "lat_downsampeled = np.linspace(stat_lat,end_lat,10)\n",
    "long_downsampeled= a*lat_downsampeled+b\n",
    "\n",
    "ideal_downsampeled= np.array([ [lat, long] for lat, long in zip(lat_downsampeled,\n",
    "                            a*lat_downsampeled+b)]) \n",
    "ideal_sampled_points_downsampled = pd.DataFrame(ideal_downsampeled, columns= ['latitude','longitude'])\n",
    "\n",
    "bottom_avg_downsampled= interp.griddata(gps_points, bottom, ideal_sampled_points_downsampled, method='linear')\n",
    "bottom_filter_downsampled = d3d.create_points(x=bottom_avg_downsampled, y=ds_02_03.range.to_numpy(), waterdepth=1)\n",
    "river_bottom_filter_downsampled= []\n",
    "\n",
    "for index, row in  bottom_filter_downsampled.iterrows():\n",
    "    if row['x'] > row['y']: \n",
    "        filter= 1\n",
    "    \n",
    "    else: \n",
    "        filter= float(\"nan\")\n",
    "    river_bottom_filter_downsampled= np.append(river_bottom_filter_downsampled, filter)"
   ]
  },
  {
   "cell_type": "code",
   "execution_count": null,
   "id": "c854c7d9-9efe-4540-a533-f7d7ab39486c",
   "metadata": {},
   "outputs": [],
   "source": [
    "ADCP_downsamples= pd.DataFrame()\n",
    "\n",
    "ADCP_downsamples['East']=  interp.griddata(points[['latitude','longitude','waterdepth']],points['east'],ADCP_points_downsamples, method='linear', fill_value=0)\n",
    "ADCP_downsamples['North']= interp.griddata(points[['latitude','longitude','waterdepth']],points['north'],ADCP_points_downsamples, method='linear', fill_value=0)\n",
    "ADCP_downsamples['Vertical']=  interp.griddata(points[['latitude','longitude','waterdepth']],points['vert'],ADCP_points_downsamples, method='linear', fill_value=0)\n",
    "ADCP_downsamples['Magnitude']= np.sqrt(ADCP_downsamples.East**2+ADCP_downsamples.North**2+ADCP_downsamples.Vertical**2)\n",
    "ADCP_downsamples"
   ]
  },
  {
   "cell_type": "code",
   "execution_count": null,
   "id": "e90c6c52-3af2-4a06-ba5f-ff364256c2c5",
   "metadata": {},
   "outputs": [],
   "source": [
    "max_plot=3\n",
    "min_plot=0\n",
    "\n",
    "# Plotting \n",
    "plt.figure(figsize=(10,4.4))\n",
    "contour_plot = plt.tripcolor(\n",
    "    ADCP_points_downsamples.latitude, \n",
    "    -ADCP_points_downsamples.waterdepth, \n",
    "     ADCP_downsamples.Magnitude*river_bottom_filter_downsampled,\n",
    "    vmin=min_plot,\n",
    "    vmax=max_plot\n",
    ")\n",
    "\n",
    "plt.xlabel('UTM x (m)')\n",
    "plt.ylabel('Water Depth (m)')\n",
    "cbar= plt.colorbar(contour_plot)\n",
    "cbar.set_label('velocity [m/s]')\n",
    "plt.ylim([-8.5,-1])\n",
    "plt.xlim([400950,401090])\n",
    "plt.plot(ideal_sampled_points.latitude,-bottom_avg,'k', label= 'river bottom')\n",
    "plt.legend(loc= 7)"
   ]
  },
  {
   "cell_type": "markdown",
   "id": "0382e60e-a57a-4899-baf9-1281f39f82ae",
   "metadata": {},
   "source": [
    "# USGS Water Level"
   ]
  },
  {
   "cell_type": "code",
   "execution_count": null,
   "id": "2727bb7b-9994-450f-8cf7-43bdf0934b2e",
   "metadata": {},
   "outputs": [],
   "source": [
    "# Use the requests method to obtain 10 years of daily discharge data\n",
    "data = river.io.usgs.request_usgs_data(station=\"15515500\",\n",
    "                            parameter='00065',\n",
    "                            start_date='2010-08-10',\n",
    "                            end_date='2010-08-10',\n",
    "                            data_type='Instantaneous')\n",
    "\n",
    "# Print data\n",
    "print(data)"
   ]
  },
  {
   "cell_type": "markdown",
   "id": "d152f9f1-aa68-4504-bfbf-cad381d56d4c",
   "metadata": {},
   "source": [
    " # Delft3D data"
   ]
  },
  {
   "cell_type": "code",
   "execution_count": null,
   "id": "745835ce-0224-4121-9d1b-a135c8ee3e0c",
   "metadata": {},
   "outputs": [],
   "source": [
    "# Simulated data\n",
    "# Downloading Data\n",
    "d3d_data = netCDF4.Dataset('data/tanana81010_final_map.nc')"
   ]
  },
  {
   "cell_type": "code",
   "execution_count": null,
   "id": "8ab3d55e-0242-4ea5-be85-1b242e40c69b",
   "metadata": {},
   "outputs": [],
   "source": [
    "# Printing variable and description\n",
    "for var in d3d_data.variables.keys():\n",
    "    try: \n",
    "        d3d_data[var].long_name\n",
    "    except:\n",
    "        print(f'\"{var}\"')        \n",
    "    else:\n",
    "        print(f'\"{var}\": {d3d_data[var].long_name}')"
   ]
  },
  {
   "cell_type": "code",
   "execution_count": null,
   "id": "8b49e0b0-fab8-47e2-8161-bc95faa4bb71",
   "metadata": {},
   "outputs": [],
   "source": [
    "ADCP_points_downsamples_xy= ADCP_points_downsamples.rename(columns={\"latitude\": \"x\", \"longitude\": \"y\"})\n"
   ]
  },
  {
   "cell_type": "code",
   "execution_count": null,
   "id": "51f8230e-8074-42dc-a094-dc10393d050c",
   "metadata": {},
   "outputs": [],
   "source": [
    "variables= ['ucy', 'ucx','ucz']\n",
    "D3d= d3d.variable_interpolation(d3d_data, variables, points= ADCP_points_downsamples_xy)"
   ]
  },
  {
   "cell_type": "code",
   "execution_count": null,
   "id": "ae44768c-b1f6-4bbb-a1c0-f0fc74f042f1",
   "metadata": {},
   "outputs": [],
   "source": [
    "D3d['Magnitude']=  np.sqrt(D3d.ucy**2+D3d.ucx**2+D3d.ucz**2)"
   ]
  },
  {
   "cell_type": "code",
   "execution_count": null,
   "id": "69a3a77d-2a2a-4944-8923-05159d52ad8d",
   "metadata": {},
   "outputs": [],
   "source": [
    "max_plot=3\n",
    "min_plot=0\n",
    "\n",
    "# Plotting \n",
    "plt.figure(figsize=(10,4.4))\n",
    "contour_plot = plt.tripcolor(\n",
    "    D3d.x, \n",
    "    -D3d.waterdepth, \n",
    "    D3d.Magnitude*river_bottom_filter_downsampled,\n",
    "    vmin=min_plot,\n",
    "    vmax=max_plot,\n",
    "    #shading='gouraud'\n",
    "    alpha=1\n",
    ")\n",
    "#*river_bottom_filter_downsampled\n",
    "\n",
    "plt.xlabel('UTM x (m)')\n",
    "plt.ylabel('Water Depth (m)')\n",
    "#plt.title('Velocity in the Y direction')\n",
    "cbar= plt.colorbar(contour_plot)\n",
    "cbar.set_label('velocity [m/s]')\n",
    "plt.ylim([-8.5,-1])\n",
    "plt.xlim([400960,401090])\n",
    "plt.plot(ideal_sampled_points.latitude,-bottom_avg,'k', label= 'river bottom')\n",
    "plt.legend(loc= 7)"
   ]
  },
  {
   "cell_type": "markdown",
   "id": "d419e6b1-09fa-44c2-955f-178aaf378976",
   "metadata": {},
   "source": [
    "# L1 Error Calulations"
   ]
  },
  {
   "cell_type": "code",
   "execution_count": null,
   "id": "d01e3d76-daab-4597-8b5d-5b588f6c81c2",
   "metadata": {},
   "outputs": [],
   "source": [
    "# L1\n",
    "\n",
    "#north \n",
    "L1_Magnitude= abs(ADCP_downsamples.Magnitude-D3d.Magnitude)/ADCP_downsamples.Magnitude\n"
   ]
  },
  {
   "cell_type": "code",
   "execution_count": null,
   "id": "147f4bf3-7ad3-4cb0-8c08-fd946557e2f8",
   "metadata": {},
   "outputs": [],
   "source": [
    "bottom_filter_downsampled= []\n",
    "for i in  L1_Magnitude:\n",
    "    if 1 > i: \n",
    "        filter= 1\n",
    "    \n",
    "    else: \n",
    "        filter= float(\"nan\")\n",
    "    bottom_filter_downsampled= np.append(bottom_filter_downsampled, filter)"
   ]
  },
  {
   "cell_type": "code",
   "execution_count": null,
   "id": "0acdaf51-d08e-4d9e-8070-4d2e5477b456",
   "metadata": {},
   "outputs": [],
   "source": [
    "max_plot=1\n",
    "min_plot=0\n",
    "# Plotting \n",
    "plt.figure(figsize=(10,4.4))\n",
    "contour_plot_L1 = plt.tripcolor(\n",
    "    D3d.x, \n",
    "    -D3d.waterdepth, \n",
    "    L1_Magnitude*bottom_filter_downsampled*river_bottom_filter_downsampled,\n",
    "        vmin=min_plot,\n",
    "    vmax=max_plot\n",
    ")\n",
    "\n",
    "plt.xlim([400960,401090])\n",
    "plt.ylim([-8.5,-1])\n",
    "plt.xlabel('UTM x (m)')\n",
    "plt.ylabel('Water Depth (m)')\n",
    "#plt.title('L1 error between Delft3D and ADCP data for North velocity')\n",
    "cbar= plt.colorbar(contour_plot_L1)\n",
    "cbar.set_label('L1 velocity error')\n",
    "plt.plot(ideal_sampled_points.latitude,-bottom_avg,'k', label= 'river bottom')\n",
    "plt.legend(loc= 7)\n",
    "\n",
    "MAE= np.sum(L1_Magnitude*bottom_filter_downsampled*river_bottom_filter_downsampled)/len(L1_Magnitude[L1_Magnitude< 1000 ])\n",
    "MAE"
   ]
  },
  {
   "cell_type": "markdown",
   "id": "45185463-73d7-4851-85c8-083ade7a50f2",
   "metadata": {},
   "source": [
    "# L2 Error Calculations"
   ]
  },
  {
   "cell_type": "code",
   "execution_count": null,
   "id": "3921f31e-1f0e-45a6-9394-c7e42e1ebb2d",
   "metadata": {},
   "outputs": [],
   "source": [
    "# L2 \n",
    "\n",
    "L2_Magnitude= ((ADCP_downsamples.Magnitude-D3d.Magnitude)/ADCP_downsamples.Magnitude)**2\n",
    "\n",
    "MSE=np.sum(L2_Magnitude*bottom_filter_downsampled*river_bottom_filter_downsampled)/np.size(L2_Magnitude[L2_Magnitude< 1000])\n",
    "\n",
    "print(MSE)\n",
    "L2_Mag=L2_Magnitude[L2_Magnitude>1]= float('nan')\n",
    "\n",
    "max_plot=1\n",
    "min_plot=0\n",
    "# Plotting \n",
    "plt.figure(figsize=(10,4.4))\n",
    "contour_plot_L2 = plt.tripcolor(\n",
    "    D3d.x, \n",
    "    -D3d.waterdepth, \n",
    "    L2_Magnitude*bottom_filter_downsampled*river_bottom_filter_downsampled,\n",
    "    vmin=min_plot,\n",
    "    vmax=max_plot\n",
    ")\n",
    "\n",
    "plt.xlim([400960,401090])\n",
    "plt.ylim([-8.5,-1])\n",
    "plt.xlabel('UTM x (m)')\n",
    "plt.ylabel('Water Depth (m)')\n",
    "#plt.title('L2 error between Delft3D and ADCP data for North velocity')\n",
    "cbar= plt.colorbar(contour_plot_L1)\n",
    "cbar.set_label('L2 velocity error')\n",
    "plt.plot(ideal_sampled_points.latitude,-bottom_avg,'k', label= 'river bottom')\n",
    "plt.legend(loc= 7)"
   ]
  },
  {
   "cell_type": "code",
   "execution_count": null,
   "id": "de8f93fc-8254-4181-817c-dae48b39456b",
   "metadata": {},
   "outputs": [],
   "source": [
    "# L inf\n",
    "\n",
    "L_inf=np.nanmax(L1_Magnitude[L1_Magnitude< 1000 ])\n",
    "L_inf"
   ]
  }
 ],
 "metadata": {
  "kernelspec": {
   "display_name": "Python 3 (ipykernel)",
   "language": "python",
   "name": "python3"
  },
  "language_info": {
   "codemirror_mode": {
    "name": "ipython",
    "version": 3
   },
   "file_extension": ".py",
   "mimetype": "text/x-python",
   "name": "python",
   "nbconvert_exporter": "python",
   "pygments_lexer": "ipython3",
   "version": "3.8.8"
  }
 },
 "nbformat": 4,
 "nbformat_minor": 5
}
