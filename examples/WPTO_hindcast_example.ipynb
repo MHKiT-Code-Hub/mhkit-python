{
 "cells": [
  {
   "cell_type": "markdown",
   "metadata": {},
   "source": [
    "# MHKiT WPTO Hindcast Example\n",
    "\n",
    "This example loads data from the [WPTO hindcast data set](https://registry.opendata.aws/wpto-pds-us-wave/), hosted on AWS.  \n",
    "\n",
    "## Dataset Description\n",
    "\n",
    "The high-spatial-resolution dataset (hereafter the *'3-hour' dataset*) currently spans the U.S. Exclusive Economic Zone (EEZ) along the West coast and around Hawaii with an unstructured grid that has ~200 m resolution in shallow water. The time step resolution for this spatial data is 3-hours and spans 32 years, 01/01/1979  - 12/31/2010.\n",
    "\n",
    "The 'virtual buoy dataset' (hereafter the *'1-hour' dataset*) is also available at specific locations within the large spatial domain. These virtual buoys span the same 32-years of the spatial dataset however the time resolution is 1-hour.\n",
    "\n",
    "### Included 3-hour Variables: \n",
    "- Dataset variables included are indexed by **'coordinates'** (latitude and longitude), and a **'time_index'**\n",
    "\n",
    "| Variable Name | Units |\n",
    "| :------------ | :---: |\n",
    "| energy_period | seconds |\n",
    "| maximum_energy_period | degrees_true |\n",
    "| mean_absolute_period | seconds |\n",
    "| mean_zero-crossing_period | seconds |\n",
    "| omni-directional_wave_power | Watts |\n",
    "| peak_period | seconds |\n",
    "| significant_wave_height | meters |\n",
    "| water_depth | meters |\n",
    "| spectral_width | none |\n",
    "| directionality_coefficient | none |\n",
    "\n",
    "\n",
    "### Included 1-hour Variables:\n",
    "- This dataset includes **all variables** in the spatial dataset as well as:\n",
    "  \n",
    "| Variable Name | Units |\n",
    "| :------------ | :---: |\n",
    "| maximum_energy_direction | degrees_true |\n",
    "| mean_wave_direction | degrees_true |\n",
    "| frequency_bin_edges | Hz |\n",
    "\n",
    "\n",
    "\n",
    "### Setting up Access to WPTO Hindcast Data\n",
    "To access the WPTO hindcast data, you will need to configure h5pyd for data access on HSDS. \n",
    "        To get your own API key, visit https://developer.nrel.gov/signup/. \n",
    "\n",
    "To configure h5phd type:\n",
    "\n",
    "    hsconfigure\n",
    "        \n",
    "and enter at the prompt:\n",
    "\n",
    "    hs_endpoint = https://developer.nrel.gov/api/hsds\n",
    "    hs_username = None\n",
    "    hs_password = None\n",
    "    hs_api_key = {your key}\n",
    "\n",
    " \n",
    "## Using the WPTO Hindcast MHKiT Function\n",
    "\n",
    "In this section we will walk through an example to request hindcast data at a point using MHKiT. To start we will import the MHKiT wave module."
   ]
  },
  {
   "cell_type": "code",
   "execution_count": 1,
   "metadata": {},
   "outputs": [],
   "source": [
    "from mhkit import wave"
   ]
  },
  {
   "cell_type": "markdown",
   "metadata": {},
   "source": [
    "### 1. Download WPTO Hindcast Data from a Single Location\n",
    "\n",
    "In this example we will request 3-hour significant wave height for 1995 at the point (44.624076,-124.280097, near the PacWave site). We will speficy each of these as a variable and pass them to the wave IO hindacast function `request_wpto_dataset`. The data type will be a high-spatial-resolution dataset,  year(s) will be 1995,  latitude/longitude pairs will be for a point near PacWave, and the parameter will be significant wave height."
   ]
  },
  {
   "cell_type": "code",
   "execution_count": 2,
   "metadata": {},
   "outputs": [],
   "source": [
    "data_type = '3-hour' # setting the data type to the 3-hour dataset\n",
    "years = [1995]\n",
    "lat_lon = (44.624076,-124.280097) \n",
    "parameter = 'significant_wave_height' \n",
    "\n",
    "Hs, metadata= wave.io.hindcast.request_wpto_point_data(data_type,parameter,lat_lon,years)"
   ]
  },
  {
   "cell_type": "markdown",
   "metadata": {},
   "source": [
    "#### View the metadata\n",
    "We can check the metadata of our request to find information such as water depth, distance to shore, timezone (offset from UTC), and jurisdiction. "
   ]
  },
  {
   "cell_type": "code",
   "execution_count": 3,
   "metadata": {},
   "outputs": [
    {
     "data": {
      "text/html": [
       "<div>\n",
       "<style scoped>\n",
       "    .dataframe tbody tr th:only-of-type {\n",
       "        vertical-align: middle;\n",
       "    }\n",
       "\n",
       "    .dataframe tbody tr th {\n",
       "        vertical-align: top;\n",
       "    }\n",
       "\n",
       "    .dataframe thead th {\n",
       "        text-align: right;\n",
       "    }\n",
       "</style>\n",
       "<table border=\"1\" class=\"dataframe\">\n",
       "  <thead>\n",
       "    <tr style=\"text-align: right;\">\n",
       "      <th></th>\n",
       "      <th>water_depth</th>\n",
       "      <th>latitude</th>\n",
       "      <th>longitude</th>\n",
       "      <th>distance_to_shore</th>\n",
       "      <th>timezone</th>\n",
       "      <th>jurisdiction</th>\n",
       "    </tr>\n",
       "  </thead>\n",
       "  <tbody>\n",
       "    <tr>\n",
       "      <th>0</th>\n",
       "      <td>77.429497</td>\n",
       "      <td>44.624298</td>\n",
       "      <td>-124.278999</td>\n",
       "      <td>15622.175781</td>\n",
       "      <td>-8</td>\n",
       "      <td>Federal</td>\n",
       "    </tr>\n",
       "  </tbody>\n",
       "</table>\n",
       "</div>"
      ],
      "text/plain": [
       "   water_depth   latitude   longitude  distance_to_shore  timezone  \\\n",
       "0    77.429497  44.624298 -124.278999       15622.175781        -8   \n",
       "\n",
       "  jurisdiction  \n",
       "0      Federal  "
      ]
     },
     "execution_count": 3,
     "metadata": {},
     "output_type": "execute_result"
    }
   ],
   "source": [
    "metadata"
   ]
  },
  {
   "cell_type": "markdown",
   "metadata": {},
   "source": [
    "#### Hindacast Data Returned \n",
    "\n",
    "We can also take a look at the first 5 rows of the returned data by call the `head()` method on the returned data. By calling this below we can see that the returned data has a time index and a single column of significant wave height. The siginifcant wave height column has a 0 integer on the end of it reffering to the index in the metadata. In out next example the importance of this integer will become more clear as we begin to request multiple locations."
   ]
  },
  {
   "cell_type": "code",
   "execution_count": 4,
   "metadata": {},
   "outputs": [
    {
     "data": {
      "text/html": [
       "<div>\n",
       "<style scoped>\n",
       "    .dataframe tbody tr th:only-of-type {\n",
       "        vertical-align: middle;\n",
       "    }\n",
       "\n",
       "    .dataframe tbody tr th {\n",
       "        vertical-align: top;\n",
       "    }\n",
       "\n",
       "    .dataframe thead th {\n",
       "        text-align: right;\n",
       "    }\n",
       "</style>\n",
       "<table border=\"1\" class=\"dataframe\">\n",
       "  <thead>\n",
       "    <tr style=\"text-align: right;\">\n",
       "      <th></th>\n",
       "      <th>significant_wave_height_0</th>\n",
       "    </tr>\n",
       "    <tr>\n",
       "      <th>time_index</th>\n",
       "      <th></th>\n",
       "    </tr>\n",
       "  </thead>\n",
       "  <tbody>\n",
       "    <tr>\n",
       "      <th>1995-01-01 00:00:00+00:00</th>\n",
       "      <td>2.35354</td>\n",
       "    </tr>\n",
       "    <tr>\n",
       "      <th>1995-01-01 03:00:00+00:00</th>\n",
       "      <td>2.39468</td>\n",
       "    </tr>\n",
       "    <tr>\n",
       "      <th>1995-01-01 06:00:00+00:00</th>\n",
       "      <td>2.45756</td>\n",
       "    </tr>\n",
       "    <tr>\n",
       "      <th>1995-01-01 09:00:00+00:00</th>\n",
       "      <td>2.55913</td>\n",
       "    </tr>\n",
       "    <tr>\n",
       "      <th>1995-01-01 12:00:00+00:00</th>\n",
       "      <td>2.66992</td>\n",
       "    </tr>\n",
       "  </tbody>\n",
       "</table>\n",
       "</div>"
      ],
      "text/plain": [
       "                           significant_wave_height_0\n",
       "time_index                                          \n",
       "1995-01-01 00:00:00+00:00                    2.35354\n",
       "1995-01-01 03:00:00+00:00                    2.39468\n",
       "1995-01-01 06:00:00+00:00                    2.45756\n",
       "1995-01-01 09:00:00+00:00                    2.55913\n",
       "1995-01-01 12:00:00+00:00                    2.66992"
      ]
     },
     "execution_count": 4,
     "metadata": {},
     "output_type": "execute_result"
    }
   ],
   "source": [
    "Hs.head()"
   ]
  },
  {
   "cell_type": "markdown",
   "metadata": {},
   "source": [
    "## 2. Download WPTO Hindcast Data from Multiple Locations\n",
    "\n",
    "Multiple locations can be requested by passing a list or tuple of lat/lon pairs. This time we will request the 3-hour energy period at two points. The data type and years requested remanin the same as before. By looking at the `head` of the returned DataFrame we can see that this time two energy periods are returned. The integers on each of the energy periods refer to the index in the metadata. This allows the user to connect the quantities of interest and the metadata fro each point."
   ]
  },
  {
   "cell_type": "code",
   "execution_count": 5,
   "metadata": {},
   "outputs": [
    {
     "data": {
      "text/html": [
       "<div>\n",
       "<style scoped>\n",
       "    .dataframe tbody tr th:only-of-type {\n",
       "        vertical-align: middle;\n",
       "    }\n",
       "\n",
       "    .dataframe tbody tr th {\n",
       "        vertical-align: top;\n",
       "    }\n",
       "\n",
       "    .dataframe thead th {\n",
       "        text-align: right;\n",
       "    }\n",
       "</style>\n",
       "<table border=\"1\" class=\"dataframe\">\n",
       "  <thead>\n",
       "    <tr style=\"text-align: right;\">\n",
       "      <th></th>\n",
       "      <th>energy_period_0</th>\n",
       "      <th>energy_period_1</th>\n",
       "    </tr>\n",
       "    <tr>\n",
       "      <th>time_index</th>\n",
       "      <th></th>\n",
       "      <th></th>\n",
       "    </tr>\n",
       "  </thead>\n",
       "  <tbody>\n",
       "    <tr>\n",
       "      <th>1995-01-01 00:00:00+00:00</th>\n",
       "      <td>10.3433</td>\n",
       "      <td>10.1760</td>\n",
       "    </tr>\n",
       "    <tr>\n",
       "      <th>1995-01-01 03:00:00+00:00</th>\n",
       "      <td>10.2281</td>\n",
       "      <td>10.2641</td>\n",
       "    </tr>\n",
       "    <tr>\n",
       "      <th>1995-01-01 06:00:00+00:00</th>\n",
       "      <td>10.0164</td>\n",
       "      <td>10.1792</td>\n",
       "    </tr>\n",
       "    <tr>\n",
       "      <th>1995-01-01 09:00:00+00:00</th>\n",
       "      <td>10.0484</td>\n",
       "      <td>10.2410</td>\n",
       "    </tr>\n",
       "    <tr>\n",
       "      <th>1995-01-01 12:00:00+00:00</th>\n",
       "      <td>10.6579</td>\n",
       "      <td>10.5877</td>\n",
       "    </tr>\n",
       "  </tbody>\n",
       "</table>\n",
       "</div>"
      ],
      "text/plain": [
       "                           energy_period_0  energy_period_1\n",
       "time_index                                                 \n",
       "1995-01-01 00:00:00+00:00          10.3433          10.1760\n",
       "1995-01-01 03:00:00+00:00          10.2281          10.2641\n",
       "1995-01-01 06:00:00+00:00          10.0164          10.1792\n",
       "1995-01-01 09:00:00+00:00          10.0484          10.2410\n",
       "1995-01-01 12:00:00+00:00          10.6579          10.5877"
      ]
     },
     "execution_count": 5,
     "metadata": {},
     "output_type": "execute_result"
    }
   ],
   "source": [
    "parameter = 'energy_period'\n",
    "lat_lon = ((44.624076,-124.280097),\n",
    "           (43.489171,-125.152137)) \n",
    "\n",
    "Te, metadata = wave.io.hindcast.request_wpto_point_data(data_type, parameter, lat_lon, years)\n",
    "\n",
    "# View Te from two locations\n",
    "Te.head()"
   ]
  },
  {
   "cell_type": "code",
   "execution_count": 6,
   "metadata": {},
   "outputs": [
    {
     "data": {
      "text/html": [
       "<div>\n",
       "<style scoped>\n",
       "    .dataframe tbody tr th:only-of-type {\n",
       "        vertical-align: middle;\n",
       "    }\n",
       "\n",
       "    .dataframe tbody tr th {\n",
       "        vertical-align: top;\n",
       "    }\n",
       "\n",
       "    .dataframe thead th {\n",
       "        text-align: right;\n",
       "    }\n",
       "</style>\n",
       "<table border=\"1\" class=\"dataframe\">\n",
       "  <thead>\n",
       "    <tr style=\"text-align: right;\">\n",
       "      <th></th>\n",
       "      <th>water_depth</th>\n",
       "      <th>latitude</th>\n",
       "      <th>longitude</th>\n",
       "      <th>distance_to_shore</th>\n",
       "      <th>timezone</th>\n",
       "      <th>jurisdiction</th>\n",
       "    </tr>\n",
       "  </thead>\n",
       "  <tbody>\n",
       "    <tr>\n",
       "      <th>0</th>\n",
       "      <td>77.429497</td>\n",
       "      <td>44.624298</td>\n",
       "      <td>-124.278999</td>\n",
       "      <td>15622.175781</td>\n",
       "      <td>-8</td>\n",
       "      <td>Federal</td>\n",
       "    </tr>\n",
       "    <tr>\n",
       "      <th>1</th>\n",
       "      <td>1337.407959</td>\n",
       "      <td>43.496300</td>\n",
       "      <td>-125.152000</td>\n",
       "      <td>64236.390625</td>\n",
       "      <td>-8</td>\n",
       "      <td>Federal</td>\n",
       "    </tr>\n",
       "  </tbody>\n",
       "</table>\n",
       "</div>"
      ],
      "text/plain": [
       "   water_depth   latitude   longitude  distance_to_shore  timezone  \\\n",
       "0    77.429497  44.624298 -124.278999       15622.175781        -8   \n",
       "1  1337.407959  43.496300 -125.152000       64236.390625        -8   \n",
       "\n",
       "  jurisdiction  \n",
       "0      Federal  \n",
       "1      Federal  "
      ]
     },
     "execution_count": 6,
     "metadata": {},
     "output_type": "execute_result"
    }
   ],
   "source": [
    "metadata"
   ]
  },
  {
   "cell_type": "markdown",
   "metadata": {},
   "source": [
    "## 3. Download WPTO Hindcast Data from Multiple Years\n",
    "\n",
    "Multiple years can be requested simply by adding years to the passed list. Recall the hindcast data spans  01/01/1979  - 12/31/2010. A demonstration of requesting multiple years of 3-hour data for a single point is shown below. By looking at the the returned data we can see that the data is returned in the order of the years passed to the function. "
   ]
  },
  {
   "cell_type": "code",
   "execution_count": 7,
   "metadata": {},
   "outputs": [
    {
     "data": {
      "text/html": [
       "<div>\n",
       "<style scoped>\n",
       "    .dataframe tbody tr th:only-of-type {\n",
       "        vertical-align: middle;\n",
       "    }\n",
       "\n",
       "    .dataframe tbody tr th {\n",
       "        vertical-align: top;\n",
       "    }\n",
       "\n",
       "    .dataframe thead th {\n",
       "        text-align: right;\n",
       "    }\n",
       "</style>\n",
       "<table border=\"1\" class=\"dataframe\">\n",
       "  <thead>\n",
       "    <tr style=\"text-align: right;\">\n",
       "      <th></th>\n",
       "      <th>omni-directional_wave_power_0</th>\n",
       "    </tr>\n",
       "    <tr>\n",
       "      <th>time_index</th>\n",
       "      <th></th>\n",
       "    </tr>\n",
       "  </thead>\n",
       "  <tbody>\n",
       "    <tr>\n",
       "      <th>1995-01-01 00:00:00+00:00</th>\n",
       "      <td>30134.0</td>\n",
       "    </tr>\n",
       "    <tr>\n",
       "      <th>1995-01-01 03:00:00+00:00</th>\n",
       "      <td>30805.0</td>\n",
       "    </tr>\n",
       "    <tr>\n",
       "      <th>1995-01-01 06:00:00+00:00</th>\n",
       "      <td>31709.0</td>\n",
       "    </tr>\n",
       "    <tr>\n",
       "      <th>1995-01-01 09:00:00+00:00</th>\n",
       "      <td>34476.0</td>\n",
       "    </tr>\n",
       "    <tr>\n",
       "      <th>1995-01-01 12:00:00+00:00</th>\n",
       "      <td>39892.0</td>\n",
       "    </tr>\n",
       "    <tr>\n",
       "      <th>...</th>\n",
       "      <td>...</td>\n",
       "    </tr>\n",
       "    <tr>\n",
       "      <th>1996-12-31 09:00:00+00:00</th>\n",
       "      <td>154849.0</td>\n",
       "    </tr>\n",
       "    <tr>\n",
       "      <th>1996-12-31 12:00:00+00:00</th>\n",
       "      <td>120543.0</td>\n",
       "    </tr>\n",
       "    <tr>\n",
       "      <th>1996-12-31 15:00:00+00:00</th>\n",
       "      <td>108288.0</td>\n",
       "    </tr>\n",
       "    <tr>\n",
       "      <th>1996-12-31 18:00:00+00:00</th>\n",
       "      <td>105609.0</td>\n",
       "    </tr>\n",
       "    <tr>\n",
       "      <th>1996-12-31 21:00:00+00:00</th>\n",
       "      <td>111097.0</td>\n",
       "    </tr>\n",
       "  </tbody>\n",
       "</table>\n",
       "<p>5848 rows × 1 columns</p>\n",
       "</div>"
      ],
      "text/plain": [
       "                           omni-directional_wave_power_0\n",
       "time_index                                              \n",
       "1995-01-01 00:00:00+00:00                        30134.0\n",
       "1995-01-01 03:00:00+00:00                        30805.0\n",
       "1995-01-01 06:00:00+00:00                        31709.0\n",
       "1995-01-01 09:00:00+00:00                        34476.0\n",
       "1995-01-01 12:00:00+00:00                        39892.0\n",
       "...                                                  ...\n",
       "1996-12-31 09:00:00+00:00                       154849.0\n",
       "1996-12-31 12:00:00+00:00                       120543.0\n",
       "1996-12-31 15:00:00+00:00                       108288.0\n",
       "1996-12-31 18:00:00+00:00                       105609.0\n",
       "1996-12-31 21:00:00+00:00                       111097.0\n",
       "\n",
       "[5848 rows x 1 columns]"
      ]
     },
     "execution_count": 7,
     "metadata": {},
     "output_type": "execute_result"
    }
   ],
   "source": [
    "years = [1995, 1996] \n",
    "parameter = 'omni-directional_wave_power'\n",
    "lat_lon = (44.624076,-124.280097) \n",
    "\n",
    "J, metadata= wave.io.hindcast.request_wpto_point_data(data_type,parameter,lat_lon,years) \n",
    "\n",
    "J"
   ]
  },
  {
   "cell_type": "code",
   "execution_count": 8,
   "metadata": {},
   "outputs": [
    {
     "data": {
      "text/html": [
       "<div>\n",
       "<style scoped>\n",
       "    .dataframe tbody tr th:only-of-type {\n",
       "        vertical-align: middle;\n",
       "    }\n",
       "\n",
       "    .dataframe tbody tr th {\n",
       "        vertical-align: top;\n",
       "    }\n",
       "\n",
       "    .dataframe thead th {\n",
       "        text-align: right;\n",
       "    }\n",
       "</style>\n",
       "<table border=\"1\" class=\"dataframe\">\n",
       "  <thead>\n",
       "    <tr style=\"text-align: right;\">\n",
       "      <th></th>\n",
       "      <th>water_depth</th>\n",
       "      <th>latitude</th>\n",
       "      <th>longitude</th>\n",
       "      <th>distance_to_shore</th>\n",
       "      <th>timezone</th>\n",
       "      <th>jurisdiction</th>\n",
       "    </tr>\n",
       "  </thead>\n",
       "  <tbody>\n",
       "    <tr>\n",
       "      <th>0</th>\n",
       "      <td>77.429497</td>\n",
       "      <td>44.624298</td>\n",
       "      <td>-124.278999</td>\n",
       "      <td>15622.175781</td>\n",
       "      <td>-8</td>\n",
       "      <td>Federal</td>\n",
       "    </tr>\n",
       "  </tbody>\n",
       "</table>\n",
       "</div>"
      ],
      "text/plain": [
       "   water_depth   latitude   longitude  distance_to_shore  timezone  \\\n",
       "0    77.429497  44.624298 -124.278999       15622.175781        -8   \n",
       "\n",
       "  jurisdiction  \n",
       "0      Federal  "
      ]
     },
     "execution_count": 8,
     "metadata": {},
     "output_type": "execute_result"
    }
   ],
   "source": [
    "metadata"
   ]
  },
  {
   "cell_type": "markdown",
   "metadata": {},
   "source": [
    "## 4. Download 1-hour data\n",
    "1-hour temporal resolutions data can be requested by passing '1-hour' as the data_type. An example for requesting this higer temporal data is below. "
   ]
  },
  {
   "cell_type": "code",
   "execution_count": 9,
   "metadata": {},
   "outputs": [],
   "source": [
    "data_type = '1-hour' # Setting the data_type to 1 hour data\n",
    "years = [1995] \n",
    "parameter = 'omni-directional_wave_power'\n",
    "lat_lon = (44.624076,-124.280097) \n",
    "\n",
    "J, metadata= wave.io.hindcast.request_wpto_point_data(data_type,parameter,lat_lon,years) "
   ]
  },
  {
   "cell_type": "markdown",
   "metadata": {},
   "source": [
    "In looking at the returned data we see that the data is at an hourly temporal resolution. \n"
   ]
  },
  {
   "cell_type": "code",
   "execution_count": 10,
   "metadata": {},
   "outputs": [
    {
     "data": {
      "text/html": [
       "<div>\n",
       "<style scoped>\n",
       "    .dataframe tbody tr th:only-of-type {\n",
       "        vertical-align: middle;\n",
       "    }\n",
       "\n",
       "    .dataframe tbody tr th {\n",
       "        vertical-align: top;\n",
       "    }\n",
       "\n",
       "    .dataframe thead th {\n",
       "        text-align: right;\n",
       "    }\n",
       "</style>\n",
       "<table border=\"1\" class=\"dataframe\">\n",
       "  <thead>\n",
       "    <tr style=\"text-align: right;\">\n",
       "      <th></th>\n",
       "      <th>omni-directional_wave_power_0</th>\n",
       "    </tr>\n",
       "    <tr>\n",
       "      <th>time_index</th>\n",
       "      <th></th>\n",
       "    </tr>\n",
       "  </thead>\n",
       "  <tbody>\n",
       "    <tr>\n",
       "      <th>1995-01-01 00:00:00+00:00</th>\n",
       "      <td>33531.0</td>\n",
       "    </tr>\n",
       "    <tr>\n",
       "      <th>1995-01-01 01:00:00+00:00</th>\n",
       "      <td>33828.0</td>\n",
       "    </tr>\n",
       "    <tr>\n",
       "      <th>1995-01-01 02:00:00+00:00</th>\n",
       "      <td>34563.0</td>\n",
       "    </tr>\n",
       "    <tr>\n",
       "      <th>1995-01-01 03:00:00+00:00</th>\n",
       "      <td>35494.0</td>\n",
       "    </tr>\n",
       "    <tr>\n",
       "      <th>1995-01-01 04:00:00+00:00</th>\n",
       "      <td>36117.0</td>\n",
       "    </tr>\n",
       "  </tbody>\n",
       "</table>\n",
       "</div>"
      ],
      "text/plain": [
       "                           omni-directional_wave_power_0\n",
       "time_index                                              \n",
       "1995-01-01 00:00:00+00:00                        33531.0\n",
       "1995-01-01 01:00:00+00:00                        33828.0\n",
       "1995-01-01 02:00:00+00:00                        34563.0\n",
       "1995-01-01 03:00:00+00:00                        35494.0\n",
       "1995-01-01 04:00:00+00:00                        36117.0"
      ]
     },
     "execution_count": 10,
     "metadata": {},
     "output_type": "execute_result"
    }
   ],
   "source": [
    "J.head()"
   ]
  },
  {
   "cell_type": "code",
   "execution_count": null,
   "metadata": {},
   "outputs": [],
   "source": []
  }
 ],
 "metadata": {
  "kernelspec": {
   "display_name": "Python 3",
   "language": "python",
   "name": "python3"
  },
  "language_info": {
   "codemirror_mode": {
    "name": "ipython",
    "version": 3
   },
   "file_extension": ".py",
   "mimetype": "text/x-python",
   "name": "python",
   "nbconvert_exporter": "python",
   "pygments_lexer": "ipython3",
   "version": "3.7.5"
  }
 },
 "nbformat": 4,
 "nbformat_minor": 4
}
