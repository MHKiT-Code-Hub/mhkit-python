{
 "cells": [
  {
   "cell_type": "markdown",
   "metadata": {},
   "source": [
    "# ADCP Disharge Example"
   ]
  },
  {
   "cell_type": "code",
   "execution_count": 2,
   "metadata": {},
   "outputs": [
    {
     "name": "stdout",
     "output_type": "stream",
     "text": [
      "\n",
      "Reading file c:\\users\\mcve343\\mhkit-python\\examples\\data\\dolfyn/RiverPro_test01.PD0 ...\n"
     ]
    }
   ],
   "source": [
    "from mhkit import dolfyn\n",
    "\n",
    "ds = dolfyn.read_example(\"RiverPro_test01.PD0\")\n",
    "ds.velds.rotate2(\"earth\")\n",
    "ds.attrs[\"principal_heading\"] = dolfyn.calc_principal_heading(ds[\"vel\"].mean(\"range\"))\n",
    "ds.velds.rotate2(\"principal\")\n",
    "\n",
    "# Correct velocity\n",
    "ds[\"vel_bt\"] = ds[\"vel_bt\"].where((ds[\"vel_bt\"] < 5) & (ds[\"vel_bt\"] > -5))\n",
    "ds[\"vel\"] -= ds[\"vel_bt\"]\n",
    "water_depth = ds.attrs[\"range_offset\"] + ds[\"dist_bt\"].mean(\"beam\").values\n",
    "\n",
    "out = dolfyn.adp.api.discharge(ds, water_depth, rho=1020, mu=0.0012, surface_offset=0, utm_zone=5)"
   ]
  },
  {
   "cell_type": "code",
   "execution_count": 3,
   "metadata": {},
   "outputs": [
    {
     "data": {
      "text/plain": [
       "{'Q': -864.7825349369309,\n",
       " 'P': -573200.8477690147,\n",
       " 'J': -620.253173828125,\n",
       " 'Re': 6199513.653593242}"
      ]
     },
     "execution_count": 3,
     "metadata": {},
     "output_type": "execute_result"
    }
   ],
   "source": [
    "out"
   ]
  },
  {
   "cell_type": "code",
   "execution_count": null,
   "metadata": {},
   "outputs": [],
   "source": []
  }
 ],
 "metadata": {
  "kernelspec": {
   "display_name": "work",
   "language": "python",
   "name": "python3"
  },
  "language_info": {
   "codemirror_mode": {
    "name": "ipython",
    "version": 3
   },
   "file_extension": ".py",
   "mimetype": "text/x-python",
   "name": "python",
   "nbconvert_exporter": "python",
   "pygments_lexer": "ipython3",
   "version": "3.11.10"
  }
 },
 "nbformat": 4,
 "nbformat_minor": 2
}
