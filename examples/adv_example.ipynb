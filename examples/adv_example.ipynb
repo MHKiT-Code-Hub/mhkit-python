{
    "cells": [
        {
            "cell_type": "markdown",
            "metadata": {},
            "source": [
                "# Reading ADV Data with MHKiT"
            ]
        },
        {
            "cell_type": "markdown",
            "metadata": {},
            "source": [
                "The following example demonstrates a simple workflow for analyzing Acoustic Doppler Velocimetry (ADV) data using MHKiT. MHKiT has brought the DOLfYN codebase in as an MHKiT module for working with ADV and Acoustic Doppler Current Profiler (ADCP) data.\n",
                "   \n",
                "A typical ADV data workflow is broken down into\n",
                "  1. Review the raw data\n",
                "      - Check timestamps\n",
                "      - Look at velocity data quality, particularly for spiking\n",
                "  2. Check for spurious datapoints and remove. Replace bad datapoints using interpolation if desired\n",
                "  3. Rotate the data into principal flow coordinates (streamwise, cross-stream, vertical)\n",
                "  4. Average the data into bins, or ensembles, of a set time length (normally 5 to 10 min)\n",
                "  5. Calculate turbulence statistics (turbulence intensity, TKE, Reynolds stresses) of the measured flowfield\n",
                "\n",
                "Start by importing the necessary tools:"
            ]
        },
        {
            "cell_type": "code",
            "execution_count": 12,
            "metadata": {},
            "outputs": [],
            "source": [
                "from mhkit import dolfyn\n",
                "from mhkit.dolfyn.adv import api"
            ]
        },
        {
            "cell_type": "markdown",
            "metadata": {},
            "source": [
                "## Read Raw Instrument Data"
            ]
        },
        {
            "cell_type": "markdown",
            "metadata": {},
            "source": [
                "DOLfYN currently only carries support for the Nortek Vector ADV. The example loaded here is a short clip of data from a test deployment to show DOLfN's capabilities.\n",
                "\n",
                "Start by reading in the raw datafile downloaded from the instrument. The `dolfyn.read` function reads the raw file and dumps the information into an xarray Dataset, which contains three groups of variables:\n",
                "\n",
                "1. Velocity, amplitude, and correlation of the Doppler velocimetry\n",
                "2. Measurements of the instrument's bearing and environment\n",
                "3. Orientation matrices DOLfYN uses for rotating through coordinate frames."
            ]
        },
        {
            "cell_type": "code",
            "execution_count": 13,
            "metadata": {
                "scrolled": true
            },
            "outputs": [
                {
                    "name": "stdout",
                    "output_type": "stream",
                    "text": [
                        "Reading file data/dolfyn/vector_data01.VEC ...\n",
                        " end of file at 3000000 bytes.\n"
                    ]
                }
            ],
            "source": [
                "ds = dolfyn.read('data/dolfyn/vector_data01.VEC')"
            ]
        },
        {
            "cell_type": "markdown",
            "metadata": {},
            "source": [
                "There are two ways to see what's in a Dataset. The first is to simply type the dataset's name to see the standard xarray output. To access a particular variable in a dataset, use dict-style (`ds['vel']`) or attribute-style syntax (`ds.vel`). See the [xarray docs](http://xarray.pydata.org/en/stable/getting-started-guide/quick-overview.html) for more details on how to use the xarray format."
            ]
        },
        {
            "cell_type": "code",
            "execution_count": 14,
            "metadata": {},
            "outputs": [
                {
                    "data": {
                        "text/html": [
                            "<div><svg style=\"position: absolute; width: 0; height: 0; overflow: hidden\">\n",
                            "<defs>\n",
                            "<symbol id=\"icon-database\" viewBox=\"0 0 32 32\">\n",
                            "<path d=\"M16 0c-8.837 0-16 2.239-16 5v4c0 2.761 7.163 5 16 5s16-2.239 16-5v-4c0-2.761-7.163-5-16-5z\"></path>\n",
                            "<path d=\"M16 17c-8.837 0-16-2.239-16-5v6c0 2.761 7.163 5 16 5s16-2.239 16-5v-6c0 2.761-7.163 5-16 5z\"></path>\n",
                            "<path d=\"M16 26c-8.837 0-16-2.239-16-5v6c0 2.761 7.163 5 16 5s16-2.239 16-5v-6c0 2.761-7.163 5-16 5z\"></path>\n",
                            "</symbol>\n",
                            "<symbol id=\"icon-file-text2\" viewBox=\"0 0 32 32\">\n",
                            "<path d=\"M28.681 7.159c-0.694-0.947-1.662-2.053-2.724-3.116s-2.169-2.030-3.116-2.724c-1.612-1.182-2.393-1.319-2.841-1.319h-15.5c-1.378 0-2.5 1.121-2.5 2.5v27c0 1.378 1.122 2.5 2.5 2.5h23c1.378 0 2.5-1.122 2.5-2.5v-19.5c0-0.448-0.137-1.23-1.319-2.841zM24.543 5.457c0.959 0.959 1.712 1.825 2.268 2.543h-4.811v-4.811c0.718 0.556 1.584 1.309 2.543 2.268zM28 29.5c0 0.271-0.229 0.5-0.5 0.5h-23c-0.271 0-0.5-0.229-0.5-0.5v-27c0-0.271 0.229-0.5 0.5-0.5 0 0 15.499-0 15.5 0v7c0 0.552 0.448 1 1 1h7v19.5z\"></path>\n",
                            "<path d=\"M23 26h-14c-0.552 0-1-0.448-1-1s0.448-1 1-1h14c0.552 0 1 0.448 1 1s-0.448 1-1 1z\"></path>\n",
                            "<path d=\"M23 22h-14c-0.552 0-1-0.448-1-1s0.448-1 1-1h14c0.552 0 1 0.448 1 1s-0.448 1-1 1z\"></path>\n",
                            "<path d=\"M23 18h-14c-0.552 0-1-0.448-1-1s0.448-1 1-1h14c0.552 0 1 0.448 1 1s-0.448 1-1 1z\"></path>\n",
                            "</symbol>\n",
                            "</defs>\n",
                            "</svg>\n",
                            "<style>/* CSS stylesheet for displaying xarray objects in jupyterlab.\n",
                            " *\n",
                            " */\n",
                            "\n",
                            ":root {\n",
                            "  --xr-font-color0: var(--jp-content-font-color0, rgba(0, 0, 0, 1));\n",
                            "  --xr-font-color2: var(--jp-content-font-color2, rgba(0, 0, 0, 0.54));\n",
                            "  --xr-font-color3: var(--jp-content-font-color3, rgba(0, 0, 0, 0.38));\n",
                            "  --xr-border-color: var(--jp-border-color2, #e0e0e0);\n",
                            "  --xr-disabled-color: var(--jp-layout-color3, #bdbdbd);\n",
                            "  --xr-background-color: var(--jp-layout-color0, white);\n",
                            "  --xr-background-color-row-even: var(--jp-layout-color1, white);\n",
                            "  --xr-background-color-row-odd: var(--jp-layout-color2, #eeeeee);\n",
                            "}\n",
                            "\n",
                            "html[theme=dark],\n",
                            "body.vscode-dark {\n",
                            "  --xr-font-color0: rgba(255, 255, 255, 1);\n",
                            "  --xr-font-color2: rgba(255, 255, 255, 0.54);\n",
                            "  --xr-font-color3: rgba(255, 255, 255, 0.38);\n",
                            "  --xr-border-color: #1F1F1F;\n",
                            "  --xr-disabled-color: #515151;\n",
                            "  --xr-background-color: #111111;\n",
                            "  --xr-background-color-row-even: #111111;\n",
                            "  --xr-background-color-row-odd: #313131;\n",
                            "}\n",
                            "\n",
                            ".xr-wrap {\n",
                            "  display: block;\n",
                            "  min-width: 300px;\n",
                            "  max-width: 700px;\n",
                            "}\n",
                            "\n",
                            ".xr-text-repr-fallback {\n",
                            "  /* fallback to plain text repr when CSS is not injected (untrusted notebook) */\n",
                            "  display: none;\n",
                            "}\n",
                            "\n",
                            ".xr-header {\n",
                            "  padding-top: 6px;\n",
                            "  padding-bottom: 6px;\n",
                            "  margin-bottom: 4px;\n",
                            "  border-bottom: solid 1px var(--xr-border-color);\n",
                            "}\n",
                            "\n",
                            ".xr-header > div,\n",
                            ".xr-header > ul {\n",
                            "  display: inline;\n",
                            "  margin-top: 0;\n",
                            "  margin-bottom: 0;\n",
                            "}\n",
                            "\n",
                            ".xr-obj-type,\n",
                            ".xr-array-name {\n",
                            "  margin-left: 2px;\n",
                            "  margin-right: 10px;\n",
                            "}\n",
                            "\n",
                            ".xr-obj-type {\n",
                            "  color: var(--xr-font-color2);\n",
                            "}\n",
                            "\n",
                            ".xr-sections {\n",
                            "  padding-left: 0 !important;\n",
                            "  display: grid;\n",
                            "  grid-template-columns: 150px auto auto 1fr 20px 20px;\n",
                            "}\n",
                            "\n",
                            ".xr-section-item {\n",
                            "  display: contents;\n",
                            "}\n",
                            "\n",
                            ".xr-section-item input {\n",
                            "  display: none;\n",
                            "}\n",
                            "\n",
                            ".xr-section-item input + label {\n",
                            "  color: var(--xr-disabled-color);\n",
                            "}\n",
                            "\n",
                            ".xr-section-item input:enabled + label {\n",
                            "  cursor: pointer;\n",
                            "  color: var(--xr-font-color2);\n",
                            "}\n",
                            "\n",
                            ".xr-section-item input:enabled + label:hover {\n",
                            "  color: var(--xr-font-color0);\n",
                            "}\n",
                            "\n",
                            ".xr-section-summary {\n",
                            "  grid-column: 1;\n",
                            "  color: var(--xr-font-color2);\n",
                            "  font-weight: 500;\n",
                            "}\n",
                            "\n",
                            ".xr-section-summary > span {\n",
                            "  display: inline-block;\n",
                            "  padding-left: 0.5em;\n",
                            "}\n",
                            "\n",
                            ".xr-section-summary-in:disabled + label {\n",
                            "  color: var(--xr-font-color2);\n",
                            "}\n",
                            "\n",
                            ".xr-section-summary-in + label:before {\n",
                            "  display: inline-block;\n",
                            "  content: '►';\n",
                            "  font-size: 11px;\n",
                            "  width: 15px;\n",
                            "  text-align: center;\n",
                            "}\n",
                            "\n",
                            ".xr-section-summary-in:disabled + label:before {\n",
                            "  color: var(--xr-disabled-color);\n",
                            "}\n",
                            "\n",
                            ".xr-section-summary-in:checked + label:before {\n",
                            "  content: '▼';\n",
                            "}\n",
                            "\n",
                            ".xr-section-summary-in:checked + label > span {\n",
                            "  display: none;\n",
                            "}\n",
                            "\n",
                            ".xr-section-summary,\n",
                            ".xr-section-inline-details {\n",
                            "  padding-top: 4px;\n",
                            "  padding-bottom: 4px;\n",
                            "}\n",
                            "\n",
                            ".xr-section-inline-details {\n",
                            "  grid-column: 2 / -1;\n",
                            "}\n",
                            "\n",
                            ".xr-section-details {\n",
                            "  display: none;\n",
                            "  grid-column: 1 / -1;\n",
                            "  margin-bottom: 5px;\n",
                            "}\n",
                            "\n",
                            ".xr-section-summary-in:checked ~ .xr-section-details {\n",
                            "  display: contents;\n",
                            "}\n",
                            "\n",
                            ".xr-array-wrap {\n",
                            "  grid-column: 1 / -1;\n",
                            "  display: grid;\n",
                            "  grid-template-columns: 20px auto;\n",
                            "}\n",
                            "\n",
                            ".xr-array-wrap > label {\n",
                            "  grid-column: 1;\n",
                            "  vertical-align: top;\n",
                            "}\n",
                            "\n",
                            ".xr-preview {\n",
                            "  color: var(--xr-font-color3);\n",
                            "}\n",
                            "\n",
                            ".xr-array-preview,\n",
                            ".xr-array-data {\n",
                            "  padding: 0 5px !important;\n",
                            "  grid-column: 2;\n",
                            "}\n",
                            "\n",
                            ".xr-array-data,\n",
                            ".xr-array-in:checked ~ .xr-array-preview {\n",
                            "  display: none;\n",
                            "}\n",
                            "\n",
                            ".xr-array-in:checked ~ .xr-array-data,\n",
                            ".xr-array-preview {\n",
                            "  display: inline-block;\n",
                            "}\n",
                            "\n",
                            ".xr-dim-list {\n",
                            "  display: inline-block !important;\n",
                            "  list-style: none;\n",
                            "  padding: 0 !important;\n",
                            "  margin: 0;\n",
                            "}\n",
                            "\n",
                            ".xr-dim-list li {\n",
                            "  display: inline-block;\n",
                            "  padding: 0;\n",
                            "  margin: 0;\n",
                            "}\n",
                            "\n",
                            ".xr-dim-list:before {\n",
                            "  content: '(';\n",
                            "}\n",
                            "\n",
                            ".xr-dim-list:after {\n",
                            "  content: ')';\n",
                            "}\n",
                            "\n",
                            ".xr-dim-list li:not(:last-child):after {\n",
                            "  content: ',';\n",
                            "  padding-right: 5px;\n",
                            "}\n",
                            "\n",
                            ".xr-has-index {\n",
                            "  font-weight: bold;\n",
                            "}\n",
                            "\n",
                            ".xr-var-list,\n",
                            ".xr-var-item {\n",
                            "  display: contents;\n",
                            "}\n",
                            "\n",
                            ".xr-var-item > div,\n",
                            ".xr-var-item label,\n",
                            ".xr-var-item > .xr-var-name span {\n",
                            "  background-color: var(--xr-background-color-row-even);\n",
                            "  margin-bottom: 0;\n",
                            "}\n",
                            "\n",
                            ".xr-var-item > .xr-var-name:hover span {\n",
                            "  padding-right: 5px;\n",
                            "}\n",
                            "\n",
                            ".xr-var-list > li:nth-child(odd) > div,\n",
                            ".xr-var-list > li:nth-child(odd) > label,\n",
                            ".xr-var-list > li:nth-child(odd) > .xr-var-name span {\n",
                            "  background-color: var(--xr-background-color-row-odd);\n",
                            "}\n",
                            "\n",
                            ".xr-var-name {\n",
                            "  grid-column: 1;\n",
                            "}\n",
                            "\n",
                            ".xr-var-dims {\n",
                            "  grid-column: 2;\n",
                            "}\n",
                            "\n",
                            ".xr-var-dtype {\n",
                            "  grid-column: 3;\n",
                            "  text-align: right;\n",
                            "  color: var(--xr-font-color2);\n",
                            "}\n",
                            "\n",
                            ".xr-var-preview {\n",
                            "  grid-column: 4;\n",
                            "}\n",
                            "\n",
                            ".xr-var-name,\n",
                            ".xr-var-dims,\n",
                            ".xr-var-dtype,\n",
                            ".xr-preview,\n",
                            ".xr-attrs dt {\n",
                            "  white-space: nowrap;\n",
                            "  overflow: hidden;\n",
                            "  text-overflow: ellipsis;\n",
                            "  padding-right: 10px;\n",
                            "}\n",
                            "\n",
                            ".xr-var-name:hover,\n",
                            ".xr-var-dims:hover,\n",
                            ".xr-var-dtype:hover,\n",
                            ".xr-attrs dt:hover {\n",
                            "  overflow: visible;\n",
                            "  width: auto;\n",
                            "  z-index: 1;\n",
                            "}\n",
                            "\n",
                            ".xr-var-attrs,\n",
                            ".xr-var-data {\n",
                            "  display: none;\n",
                            "  background-color: var(--xr-background-color) !important;\n",
                            "  padding-bottom: 5px !important;\n",
                            "}\n",
                            "\n",
                            ".xr-var-attrs-in:checked ~ .xr-var-attrs,\n",
                            ".xr-var-data-in:checked ~ .xr-var-data {\n",
                            "  display: block;\n",
                            "}\n",
                            "\n",
                            ".xr-var-data > table {\n",
                            "  float: right;\n",
                            "}\n",
                            "\n",
                            ".xr-var-name span,\n",
                            ".xr-var-data,\n",
                            ".xr-attrs {\n",
                            "  padding-left: 25px !important;\n",
                            "}\n",
                            "\n",
                            ".xr-attrs,\n",
                            ".xr-var-attrs,\n",
                            ".xr-var-data {\n",
                            "  grid-column: 1 / -1;\n",
                            "}\n",
                            "\n",
                            "dl.xr-attrs {\n",
                            "  padding: 0;\n",
                            "  margin: 0;\n",
                            "  display: grid;\n",
                            "  grid-template-columns: 125px auto;\n",
                            "}\n",
                            "\n",
                            ".xr-attrs dt,\n",
                            ".xr-attrs dd {\n",
                            "  padding: 0;\n",
                            "  margin: 0;\n",
                            "  float: left;\n",
                            "  padding-right: 10px;\n",
                            "  width: auto;\n",
                            "}\n",
                            "\n",
                            ".xr-attrs dt {\n",
                            "  font-weight: normal;\n",
                            "  grid-column: 1;\n",
                            "}\n",
                            "\n",
                            ".xr-attrs dt:hover span {\n",
                            "  display: inline-block;\n",
                            "  background: var(--xr-background-color);\n",
                            "  padding-right: 10px;\n",
                            "}\n",
                            "\n",
                            ".xr-attrs dd {\n",
                            "  grid-column: 2;\n",
                            "  white-space: pre-wrap;\n",
                            "  word-break: break-all;\n",
                            "}\n",
                            "\n",
                            ".xr-icon-database,\n",
                            ".xr-icon-file-text2 {\n",
                            "  display: inline-block;\n",
                            "  vertical-align: middle;\n",
                            "  width: 1em;\n",
                            "  height: 1.5em !important;\n",
                            "  stroke-width: 0;\n",
                            "  stroke: currentColor;\n",
                            "  fill: currentColor;\n",
                            "}\n",
                            "</style><pre class='xr-text-repr-fallback'>&lt;xarray.Dataset&gt;\n",
                            "Dimensions:              (time: 122912, beam: 3, dir: 3, x: 3, x*: 3, earth: 3, inst: 3)\n",
                            "Coordinates:\n",
                            "  * time                 (time) datetime64[ns] 2012-06-12T12:00:02.968749 ......\n",
                            "  * beam                 (beam) int32 1 2 3\n",
                            "  * dir                  (dir) &lt;U1 &#x27;X&#x27; &#x27;Y&#x27; &#x27;Z&#x27;\n",
                            "  * x                    (x) int32 1 2 3\n",
                            "  * x*                   (x*) int32 1 2 3\n",
                            "  * earth                (earth) &lt;U1 &#x27;E&#x27; &#x27;N&#x27; &#x27;U&#x27;\n",
                            "  * inst                 (inst) &lt;U1 &#x27;X&#x27; &#x27;Y&#x27; &#x27;Z&#x27;\n",
                            "Data variables: (12/15)\n",
                            "    beam2inst_orientmat  (x, x*) float64 2.709 -1.34 -1.364 ... -0.3438 -0.3499\n",
                            "    batt                 (time) float32 13.2 13.2 13.2 13.2 ... nan nan nan nan\n",
                            "    c_sound              (time) float32 1.493e+03 1.493e+03 ... nan nan\n",
                            "    heading              (time) float32 5.6 10.5 10.51 10.52 ... nan nan nan nan\n",
                            "    pitch                (time) float32 -31.5 -31.7 -31.69 ... nan nan nan\n",
                            "    roll                 (time) float32 0.4 4.2 4.253 4.306 ... nan nan nan nan\n",
                            "    ...                   ...\n",
                            "    vel                  (dir, time) float32 -1.002 -1.008 -0.944 ... nan nan\n",
                            "    amp                  (beam, time) uint8 104 110 111 113 108 ... 0 0 0 0 0\n",
                            "    corr                 (beam, time) uint8 97 91 97 98 90 95 95 ... 0 0 0 0 0 0\n",
                            "    orientation_down     (time) bool True True True True ... True True True True\n",
                            "    pressure             (time) float64 5.448 5.436 5.484 5.448 ... 0.0 0.0 0.0\n",
                            "    orientmat            (earth, inst, time) float32 0.0832 0.155 ... -0.7065\n",
                            "Attributes: (12/39)\n",
                            "    inst_make:                   Nortek\n",
                            "    inst_model:                  Vector\n",
                            "    inst_type:                   ADV\n",
                            "    rotate_vars:                 [&#x27;vel&#x27;]\n",
                            "    n_beams:                     3\n",
                            "    profile_mode:                continuous\n",
                            "    ...                          ...\n",
                            "    recorder_size_bytes:         4074766336\n",
                            "    vel_range:                   normal\n",
                            "    firmware_version:            3.34\n",
                            "    fs:                          32.0\n",
                            "    coord_sys:                   inst\n",
                            "    has_imu:                     0</pre><div class='xr-wrap' hidden><div class='xr-header'><div class='xr-obj-type'>xarray.Dataset</div></div><ul class='xr-sections'><li class='xr-section-item'><input id='section-1f0dadd7-2edb-45b9-a022-a9bdee15132f' class='xr-section-summary-in' type='checkbox' disabled ><label for='section-1f0dadd7-2edb-45b9-a022-a9bdee15132f' class='xr-section-summary'  title='Expand/collapse section'>Dimensions:</label><div class='xr-section-inline-details'><ul class='xr-dim-list'><li><span class='xr-has-index'>time</span>: 122912</li><li><span class='xr-has-index'>beam</span>: 3</li><li><span class='xr-has-index'>dir</span>: 3</li><li><span class='xr-has-index'>x</span>: 3</li><li><span class='xr-has-index'>x*</span>: 3</li><li><span class='xr-has-index'>earth</span>: 3</li><li><span class='xr-has-index'>inst</span>: 3</li></ul></div><div class='xr-section-details'></div></li><li class='xr-section-item'><input id='section-d1c90853-d0ee-48ff-8a5d-9e472c9e9437' class='xr-section-summary-in' type='checkbox'  checked><label for='section-d1c90853-d0ee-48ff-8a5d-9e472c9e9437' class='xr-section-summary' >Coordinates: <span>(7)</span></label><div class='xr-section-inline-details'></div><div class='xr-section-details'><ul class='xr-var-list'><li class='xr-var-item'><div class='xr-var-name'><span class='xr-has-index'>time</span></div><div class='xr-var-dims'>(time)</div><div class='xr-var-dtype'>datetime64[ns]</div><div class='xr-var-preview xr-preview'>2012-06-12T12:00:02.968749 ... 2...</div><input id='attrs-a6c67e18-becc-481b-9fbd-baf10a9a7656' class='xr-var-attrs-in' type='checkbox' disabled><label for='attrs-a6c67e18-becc-481b-9fbd-baf10a9a7656' title='Show/Hide attributes'><svg class='icon xr-icon-file-text2'><use xlink:href='#icon-file-text2'></use></svg></label><input id='data-b00490ff-34a5-40f9-9f2f-c257e63f5edf' class='xr-var-data-in' type='checkbox'><label for='data-b00490ff-34a5-40f9-9f2f-c257e63f5edf' title='Show/Hide data repr'><svg class='icon xr-icon-database'><use xlink:href='#icon-database'></use></svg></label><div class='xr-var-attrs'><dl class='xr-attrs'></dl></div><div class='xr-var-data'><pre>array([&#x27;2012-06-12T12:00:02.968749000&#x27;, &#x27;2012-06-12T12:00:02.999999000&#x27;,\n",
                            "       &#x27;2012-06-12T12:00:03.031249000&#x27;, ..., &#x27;2012-06-12T13:04:03.875001000&#x27;,\n",
                            "       &#x27;2012-06-12T13:04:03.906251000&#x27;, &#x27;2012-06-12T13:04:03.937501000&#x27;],\n",
                            "      dtype=&#x27;datetime64[ns]&#x27;)</pre></div></li><li class='xr-var-item'><div class='xr-var-name'><span class='xr-has-index'>beam</span></div><div class='xr-var-dims'>(beam)</div><div class='xr-var-dtype'>int32</div><div class='xr-var-preview xr-preview'>1 2 3</div><input id='attrs-4660df6f-2199-4717-8c96-926c8446bf3d' class='xr-var-attrs-in' type='checkbox' disabled><label for='attrs-4660df6f-2199-4717-8c96-926c8446bf3d' title='Show/Hide attributes'><svg class='icon xr-icon-file-text2'><use xlink:href='#icon-file-text2'></use></svg></label><input id='data-31650643-3cb6-4592-8149-62cc3d090508' class='xr-var-data-in' type='checkbox'><label for='data-31650643-3cb6-4592-8149-62cc3d090508' title='Show/Hide data repr'><svg class='icon xr-icon-database'><use xlink:href='#icon-database'></use></svg></label><div class='xr-var-attrs'><dl class='xr-attrs'></dl></div><div class='xr-var-data'><pre>array([1, 2, 3])</pre></div></li><li class='xr-var-item'><div class='xr-var-name'><span class='xr-has-index'>dir</span></div><div class='xr-var-dims'>(dir)</div><div class='xr-var-dtype'>&lt;U1</div><div class='xr-var-preview xr-preview'>&#x27;X&#x27; &#x27;Y&#x27; &#x27;Z&#x27;</div><input id='attrs-98079dc2-82a8-4d18-80b3-c7c2cd254858' class='xr-var-attrs-in' type='checkbox' ><label for='attrs-98079dc2-82a8-4d18-80b3-c7c2cd254858' title='Show/Hide attributes'><svg class='icon xr-icon-file-text2'><use xlink:href='#icon-file-text2'></use></svg></label><input id='data-a0a689ba-1c59-4ebd-aacd-5c5bb0e1bd18' class='xr-var-data-in' type='checkbox'><label for='data-a0a689ba-1c59-4ebd-aacd-5c5bb0e1bd18' title='Show/Hide data repr'><svg class='icon xr-icon-database'><use xlink:href='#icon-database'></use></svg></label><div class='xr-var-attrs'><dl class='xr-attrs'><dt><span>ref_frame :</span></dt><dd>inst</dd></dl></div><div class='xr-var-data'><pre>array([&#x27;X&#x27;, &#x27;Y&#x27;, &#x27;Z&#x27;], dtype=&#x27;&lt;U1&#x27;)</pre></div></li><li class='xr-var-item'><div class='xr-var-name'><span class='xr-has-index'>x</span></div><div class='xr-var-dims'>(x)</div><div class='xr-var-dtype'>int32</div><div class='xr-var-preview xr-preview'>1 2 3</div><input id='attrs-1677d11e-6480-4fe6-80de-19251f62cb6d' class='xr-var-attrs-in' type='checkbox' disabled><label for='attrs-1677d11e-6480-4fe6-80de-19251f62cb6d' title='Show/Hide attributes'><svg class='icon xr-icon-file-text2'><use xlink:href='#icon-file-text2'></use></svg></label><input id='data-571af1e7-a917-418d-a253-d3e87fdcd259' class='xr-var-data-in' type='checkbox'><label for='data-571af1e7-a917-418d-a253-d3e87fdcd259' title='Show/Hide data repr'><svg class='icon xr-icon-database'><use xlink:href='#icon-database'></use></svg></label><div class='xr-var-attrs'><dl class='xr-attrs'></dl></div><div class='xr-var-data'><pre>array([1, 2, 3])</pre></div></li><li class='xr-var-item'><div class='xr-var-name'><span class='xr-has-index'>x*</span></div><div class='xr-var-dims'>(x*)</div><div class='xr-var-dtype'>int32</div><div class='xr-var-preview xr-preview'>1 2 3</div><input id='attrs-bafc6437-652e-43c2-b40d-2997944ff5a9' class='xr-var-attrs-in' type='checkbox' disabled><label for='attrs-bafc6437-652e-43c2-b40d-2997944ff5a9' title='Show/Hide attributes'><svg class='icon xr-icon-file-text2'><use xlink:href='#icon-file-text2'></use></svg></label><input id='data-6f784e6a-a558-4aa0-98e2-938d90225314' class='xr-var-data-in' type='checkbox'><label for='data-6f784e6a-a558-4aa0-98e2-938d90225314' title='Show/Hide data repr'><svg class='icon xr-icon-database'><use xlink:href='#icon-database'></use></svg></label><div class='xr-var-attrs'><dl class='xr-attrs'></dl></div><div class='xr-var-data'><pre>array([1, 2, 3])</pre></div></li><li class='xr-var-item'><div class='xr-var-name'><span class='xr-has-index'>earth</span></div><div class='xr-var-dims'>(earth)</div><div class='xr-var-dtype'>&lt;U1</div><div class='xr-var-preview xr-preview'>&#x27;E&#x27; &#x27;N&#x27; &#x27;U&#x27;</div><input id='attrs-49085316-be65-47da-a20b-589feb449b68' class='xr-var-attrs-in' type='checkbox' disabled><label for='attrs-49085316-be65-47da-a20b-589feb449b68' title='Show/Hide attributes'><svg class='icon xr-icon-file-text2'><use xlink:href='#icon-file-text2'></use></svg></label><input id='data-ceb272c9-af2b-4412-8eca-2f6a07f42874' class='xr-var-data-in' type='checkbox'><label for='data-ceb272c9-af2b-4412-8eca-2f6a07f42874' title='Show/Hide data repr'><svg class='icon xr-icon-database'><use xlink:href='#icon-database'></use></svg></label><div class='xr-var-attrs'><dl class='xr-attrs'></dl></div><div class='xr-var-data'><pre>array([&#x27;E&#x27;, &#x27;N&#x27;, &#x27;U&#x27;], dtype=&#x27;&lt;U1&#x27;)</pre></div></li><li class='xr-var-item'><div class='xr-var-name'><span class='xr-has-index'>inst</span></div><div class='xr-var-dims'>(inst)</div><div class='xr-var-dtype'>&lt;U1</div><div class='xr-var-preview xr-preview'>&#x27;X&#x27; &#x27;Y&#x27; &#x27;Z&#x27;</div><input id='attrs-b512819f-c865-44a2-a5a8-c1658b20258f' class='xr-var-attrs-in' type='checkbox' disabled><label for='attrs-b512819f-c865-44a2-a5a8-c1658b20258f' title='Show/Hide attributes'><svg class='icon xr-icon-file-text2'><use xlink:href='#icon-file-text2'></use></svg></label><input id='data-089f980d-dcfd-4bf4-a004-6791916f7cbe' class='xr-var-data-in' type='checkbox'><label for='data-089f980d-dcfd-4bf4-a004-6791916f7cbe' title='Show/Hide data repr'><svg class='icon xr-icon-database'><use xlink:href='#icon-database'></use></svg></label><div class='xr-var-attrs'><dl class='xr-attrs'></dl></div><div class='xr-var-data'><pre>array([&#x27;X&#x27;, &#x27;Y&#x27;, &#x27;Z&#x27;], dtype=&#x27;&lt;U1&#x27;)</pre></div></li></ul></div></li><li class='xr-section-item'><input id='section-e8b5d76c-3f34-4d08-a67a-528323e6b323' class='xr-section-summary-in' type='checkbox'  ><label for='section-e8b5d76c-3f34-4d08-a67a-528323e6b323' class='xr-section-summary' >Data variables: <span>(15)</span></label><div class='xr-section-inline-details'></div><div class='xr-section-details'><ul class='xr-var-list'><li class='xr-var-item'><div class='xr-var-name'><span>beam2inst_orientmat</span></div><div class='xr-var-dims'>(x, x*)</div><div class='xr-var-dtype'>float64</div><div class='xr-var-preview xr-preview'>2.709 -1.34 ... -0.3438 -0.3499</div><input id='attrs-ee19620a-c9a4-4d01-b8ea-c4157a5a3107' class='xr-var-attrs-in' type='checkbox' disabled><label for='attrs-ee19620a-c9a4-4d01-b8ea-c4157a5a3107' title='Show/Hide attributes'><svg class='icon xr-icon-file-text2'><use xlink:href='#icon-file-text2'></use></svg></label><input id='data-baef08af-ab54-4528-b3c8-0b9f1458f7f7' class='xr-var-data-in' type='checkbox'><label for='data-baef08af-ab54-4528-b3c8-0b9f1458f7f7' title='Show/Hide data repr'><svg class='icon xr-icon-database'><use xlink:href='#icon-database'></use></svg></label><div class='xr-var-attrs'><dl class='xr-attrs'></dl></div><div class='xr-var-data'><pre>array([[ 2.70874023, -1.34008789, -1.36376953],\n",
                            "       [ 0.0144043 , -2.38354492,  2.39550781],\n",
                            "       [-0.3371582 , -0.34375   , -0.34985352]])</pre></div></li><li class='xr-var-item'><div class='xr-var-name'><span>batt</span></div><div class='xr-var-dims'>(time)</div><div class='xr-var-dtype'>float32</div><div class='xr-var-preview xr-preview'>13.2 13.2 13.2 13.2 ... nan nan nan</div><input id='attrs-85661517-260c-48d5-ab28-c9addaa7a09b' class='xr-var-attrs-in' type='checkbox' ><label for='attrs-85661517-260c-48d5-ab28-c9addaa7a09b' title='Show/Hide attributes'><svg class='icon xr-icon-file-text2'><use xlink:href='#icon-file-text2'></use></svg></label><input id='data-6a2b991e-606a-4f2a-a930-57bfd7a7feb8' class='xr-var-data-in' type='checkbox'><label for='data-6a2b991e-606a-4f2a-a930-57bfd7a7feb8' title='Show/Hide data repr'><svg class='icon xr-icon-database'><use xlink:href='#icon-database'></use></svg></label><div class='xr-var-attrs'><dl class='xr-attrs'><dt><span>units :</span></dt><dd>V</dd></dl></div><div class='xr-var-data'><pre>array([13.2, 13.2, 13.2, ...,  nan,  nan,  nan], dtype=float32)</pre></div></li><li class='xr-var-item'><div class='xr-var-name'><span>c_sound</span></div><div class='xr-var-dims'>(time)</div><div class='xr-var-dtype'>float32</div><div class='xr-var-preview xr-preview'>1.493e+03 1.493e+03 ... nan nan</div><input id='attrs-f818c13f-5c3b-4dcf-a56a-f835adeb2502' class='xr-var-attrs-in' type='checkbox' ><label for='attrs-f818c13f-5c3b-4dcf-a56a-f835adeb2502' title='Show/Hide attributes'><svg class='icon xr-icon-file-text2'><use xlink:href='#icon-file-text2'></use></svg></label><input id='data-33c5901a-5e4e-4e81-a37b-58c990dfa606' class='xr-var-data-in' type='checkbox'><label for='data-33c5901a-5e4e-4e81-a37b-58c990dfa606' title='Show/Hide data repr'><svg class='icon xr-icon-database'><use xlink:href='#icon-database'></use></svg></label><div class='xr-var-attrs'><dl class='xr-attrs'><dt><span>units :</span></dt><dd>m/s</dd></dl></div><div class='xr-var-data'><pre>array([1492.6, 1492.6, 1492.6, ...,    nan,    nan,    nan], dtype=float32)</pre></div></li><li class='xr-var-item'><div class='xr-var-name'><span>heading</span></div><div class='xr-var-dims'>(time)</div><div class='xr-var-dtype'>float32</div><div class='xr-var-preview xr-preview'>5.6 10.5 10.51 ... nan nan nan</div><input id='attrs-215d55d8-cde4-4035-9426-33c013d23302' class='xr-var-attrs-in' type='checkbox' ><label for='attrs-215d55d8-cde4-4035-9426-33c013d23302' title='Show/Hide attributes'><svg class='icon xr-icon-file-text2'><use xlink:href='#icon-file-text2'></use></svg></label><input id='data-35ee2463-d78f-4fb0-a01c-ae0c3474a5c9' class='xr-var-data-in' type='checkbox'><label for='data-35ee2463-d78f-4fb0-a01c-ae0c3474a5c9' title='Show/Hide data repr'><svg class='icon xr-icon-database'><use xlink:href='#icon-database'></use></svg></label><div class='xr-var-attrs'><dl class='xr-attrs'><dt><span>units :</span></dt><dd>deg</dd></dl></div><div class='xr-var-data'><pre>array([ 5.6   , 10.5   , 10.5125, ...,     nan,     nan,     nan],\n",
                            "      dtype=float32)</pre></div></li><li class='xr-var-item'><div class='xr-var-name'><span>pitch</span></div><div class='xr-var-dims'>(time)</div><div class='xr-var-dtype'>float32</div><div class='xr-var-preview xr-preview'>-31.5 -31.7 -31.69 ... nan nan nan</div><input id='attrs-ddbd5950-c3fe-44d5-98ef-22f56cb9c30c' class='xr-var-attrs-in' type='checkbox' ><label for='attrs-ddbd5950-c3fe-44d5-98ef-22f56cb9c30c' title='Show/Hide attributes'><svg class='icon xr-icon-file-text2'><use xlink:href='#icon-file-text2'></use></svg></label><input id='data-fa2ae414-61fa-4cd1-a312-2b96532fedf8' class='xr-var-data-in' type='checkbox'><label for='data-fa2ae414-61fa-4cd1-a312-2b96532fedf8' title='Show/Hide data repr'><svg class='icon xr-icon-database'><use xlink:href='#icon-database'></use></svg></label><div class='xr-var-attrs'><dl class='xr-attrs'><dt><span>units :</span></dt><dd>deg</dd></dl></div><div class='xr-var-data'><pre>array([-31.5     , -31.7     , -31.690626, ...,        nan,        nan,\n",
                            "              nan], dtype=float32)</pre></div></li><li class='xr-var-item'><div class='xr-var-name'><span>roll</span></div><div class='xr-var-dims'>(time)</div><div class='xr-var-dtype'>float32</div><div class='xr-var-preview xr-preview'>0.4 4.2 4.253 4.306 ... nan nan nan</div><input id='attrs-260a5f51-9f2e-42f4-9b46-5bfbb0674f71' class='xr-var-attrs-in' type='checkbox' ><label for='attrs-260a5f51-9f2e-42f4-9b46-5bfbb0674f71' title='Show/Hide attributes'><svg class='icon xr-icon-file-text2'><use xlink:href='#icon-file-text2'></use></svg></label><input id='data-ccc0ab45-47c0-4bf9-83e7-875bbfad5a08' class='xr-var-data-in' type='checkbox'><label for='data-ccc0ab45-47c0-4bf9-83e7-875bbfad5a08' title='Show/Hide data repr'><svg class='icon xr-icon-database'><use xlink:href='#icon-database'></use></svg></label><div class='xr-var-attrs'><dl class='xr-attrs'><dt><span>units :</span></dt><dd>deg</dd></dl></div><div class='xr-var-data'><pre>array([0.4      , 4.2000003, 4.253125 , ...,       nan,       nan,\n",
                            "             nan], dtype=float32)</pre></div></li><li class='xr-var-item'><div class='xr-var-name'><span>temp</span></div><div class='xr-var-dims'>(time)</div><div class='xr-var-dtype'>float32</div><div class='xr-var-preview xr-preview'>12.67 12.68 12.68 ... nan nan nan</div><input id='attrs-270bc84f-6181-4dbb-9997-f5cb1b55a30a' class='xr-var-attrs-in' type='checkbox' ><label for='attrs-270bc84f-6181-4dbb-9997-f5cb1b55a30a' title='Show/Hide attributes'><svg class='icon xr-icon-file-text2'><use xlink:href='#icon-file-text2'></use></svg></label><input id='data-e7760a7a-b499-4689-8a64-a19660934971' class='xr-var-data-in' type='checkbox'><label for='data-e7760a7a-b499-4689-8a64-a19660934971' title='Show/Hide data repr'><svg class='icon xr-icon-database'><use xlink:href='#icon-database'></use></svg></label><div class='xr-var-attrs'><dl class='xr-attrs'><dt><span>units :</span></dt><dd>deg C</dd></dl></div><div class='xr-var-data'><pre>array([12.67    , 12.679999, 12.679999, ...,       nan,       nan,\n",
                            "             nan], dtype=float32)</pre></div></li><li class='xr-var-item'><div class='xr-var-name'><span>error</span></div><div class='xr-var-dims'>(time)</div><div class='xr-var-dtype'>uint8</div><div class='xr-var-preview xr-preview'>0 0 0 0 0 0 0 0 ... 0 0 0 0 0 0 0 0</div><input id='attrs-fc0a4b83-c8c4-41de-bd2f-1c5803f32a2e' class='xr-var-attrs-in' type='checkbox' ><label for='attrs-fc0a4b83-c8c4-41de-bd2f-1c5803f32a2e' title='Show/Hide attributes'><svg class='icon xr-icon-file-text2'><use xlink:href='#icon-file-text2'></use></svg></label><input id='data-81779fe7-aa16-4da0-a418-21ef04be9204' class='xr-var-data-in' type='checkbox'><label for='data-81779fe7-aa16-4da0-a418-21ef04be9204' title='Show/Hide data repr'><svg class='icon xr-icon-database'><use xlink:href='#icon-database'></use></svg></label><div class='xr-var-attrs'><dl class='xr-attrs'><dt><span>units :</span></dt><dd></dd></dl></div><div class='xr-var-data'><pre>array([0, 0, 0, ..., 0, 0, 0], dtype=uint8)</pre></div></li><li class='xr-var-item'><div class='xr-var-name'><span>status</span></div><div class='xr-var-dims'>(time)</div><div class='xr-var-dtype'>uint8</div><div class='xr-var-preview xr-preview'>117 117 0 0 0 0 0 ... 0 0 0 0 0 0 0</div><input id='attrs-938300c6-a1a5-4933-97d0-bfdf5091c706' class='xr-var-attrs-in' type='checkbox' ><label for='attrs-938300c6-a1a5-4933-97d0-bfdf5091c706' title='Show/Hide attributes'><svg class='icon xr-icon-file-text2'><use xlink:href='#icon-file-text2'></use></svg></label><input id='data-afd6cc6e-a5f5-471e-b9ca-9781c2481fa3' class='xr-var-data-in' type='checkbox'><label for='data-afd6cc6e-a5f5-471e-b9ca-9781c2481fa3' title='Show/Hide data repr'><svg class='icon xr-icon-database'><use xlink:href='#icon-database'></use></svg></label><div class='xr-var-attrs'><dl class='xr-attrs'><dt><span>units :</span></dt><dd></dd></dl></div><div class='xr-var-data'><pre>array([117, 117,   0, ...,   0,   0,   0], dtype=uint8)</pre></div></li><li class='xr-var-item'><div class='xr-var-name'><span>vel</span></div><div class='xr-var-dims'>(dir, time)</div><div class='xr-var-dtype'>float32</div><div class='xr-var-preview xr-preview'>-1.002 -1.008 -0.944 ... nan nan</div><input id='attrs-b899bf6a-bc4e-44ee-902c-1196d620087a' class='xr-var-attrs-in' type='checkbox' ><label for='attrs-b899bf6a-bc4e-44ee-902c-1196d620087a' title='Show/Hide attributes'><svg class='icon xr-icon-file-text2'><use xlink:href='#icon-file-text2'></use></svg></label><input id='data-d3ae3923-2f65-4958-ab4c-e75378ca7046' class='xr-var-data-in' type='checkbox'><label for='data-d3ae3923-2f65-4958-ab4c-e75378ca7046' title='Show/Hide data repr'><svg class='icon xr-icon-database'><use xlink:href='#icon-database'></use></svg></label><div class='xr-var-attrs'><dl class='xr-attrs'><dt><span>units :</span></dt><dd>m/s</dd></dl></div><div class='xr-var-data'><pre>array([[-1.0020001 , -1.008     , -0.94400007, ...,         nan,\n",
                            "                nan,         nan],\n",
                            "       [ 0.097     ,  0.068     ,  0.066     , ...,         nan,\n",
                            "                nan,         nan],\n",
                            "       [ 0.115     ,  0.12400001,  0.12200001, ...,         nan,\n",
                            "                nan,         nan]], dtype=float32)</pre></div></li><li class='xr-var-item'><div class='xr-var-name'><span>amp</span></div><div class='xr-var-dims'>(beam, time)</div><div class='xr-var-dtype'>uint8</div><div class='xr-var-preview xr-preview'>104 110 111 113 108 ... 0 0 0 0 0</div><input id='attrs-4229df17-3fb2-45cf-bc76-539326322c18' class='xr-var-attrs-in' type='checkbox' ><label for='attrs-4229df17-3fb2-45cf-bc76-539326322c18' title='Show/Hide attributes'><svg class='icon xr-icon-file-text2'><use xlink:href='#icon-file-text2'></use></svg></label><input id='data-e915d9dc-b93a-43b1-9e31-fdc631ed6a9e' class='xr-var-data-in' type='checkbox'><label for='data-e915d9dc-b93a-43b1-9e31-fdc631ed6a9e' title='Show/Hide data repr'><svg class='icon xr-icon-database'><use xlink:href='#icon-database'></use></svg></label><div class='xr-var-attrs'><dl class='xr-attrs'><dt><span>units :</span></dt><dd>dB</dd></dl></div><div class='xr-var-data'><pre>array([[104, 110, 111, ...,   0,   0,   0],\n",
                            "       [109, 111, 118, ...,   0,   0,   0],\n",
                            "       [111, 107, 103, ...,   0,   0,   0]], dtype=uint8)</pre></div></li><li class='xr-var-item'><div class='xr-var-name'><span>corr</span></div><div class='xr-var-dims'>(beam, time)</div><div class='xr-var-dtype'>uint8</div><div class='xr-var-preview xr-preview'>97 91 97 98 90 95 ... 0 0 0 0 0 0</div><input id='attrs-5f228a8e-8f2b-4cb5-a5a9-a11699cf1455' class='xr-var-attrs-in' type='checkbox' ><label for='attrs-5f228a8e-8f2b-4cb5-a5a9-a11699cf1455' title='Show/Hide attributes'><svg class='icon xr-icon-file-text2'><use xlink:href='#icon-file-text2'></use></svg></label><input id='data-16904d13-5bc6-4ada-a95f-2f8753267a86' class='xr-var-data-in' type='checkbox'><label for='data-16904d13-5bc6-4ada-a95f-2f8753267a86' title='Show/Hide data repr'><svg class='icon xr-icon-database'><use xlink:href='#icon-database'></use></svg></label><div class='xr-var-attrs'><dl class='xr-attrs'><dt><span>units :</span></dt><dd>%</dd></dl></div><div class='xr-var-data'><pre>array([[97, 91, 97, ...,  0,  0,  0],\n",
                            "       [97, 97, 98, ...,  0,  0,  0],\n",
                            "       [96, 97, 97, ...,  0,  0,  0]], dtype=uint8)</pre></div></li><li class='xr-var-item'><div class='xr-var-name'><span>orientation_down</span></div><div class='xr-var-dims'>(time)</div><div class='xr-var-dtype'>bool</div><div class='xr-var-preview xr-preview'>True True True ... True True True</div><input id='attrs-8b03b3ab-9a9d-4ca3-82d6-829903c72bcc' class='xr-var-attrs-in' type='checkbox' disabled><label for='attrs-8b03b3ab-9a9d-4ca3-82d6-829903c72bcc' title='Show/Hide attributes'><svg class='icon xr-icon-file-text2'><use xlink:href='#icon-file-text2'></use></svg></label><input id='data-e49356c3-e112-47c2-b932-e9ac5909e22f' class='xr-var-data-in' type='checkbox'><label for='data-e49356c3-e112-47c2-b932-e9ac5909e22f' title='Show/Hide data repr'><svg class='icon xr-icon-database'><use xlink:href='#icon-database'></use></svg></label><div class='xr-var-attrs'><dl class='xr-attrs'></dl></div><div class='xr-var-data'><pre>array([ True,  True,  True, ...,  True,  True,  True])</pre></div></li><li class='xr-var-item'><div class='xr-var-name'><span>pressure</span></div><div class='xr-var-dims'>(time)</div><div class='xr-var-dtype'>float64</div><div class='xr-var-preview xr-preview'>5.448 5.436 5.484 ... 0.0 0.0 0.0</div><input id='attrs-ac0d22aa-067e-4edb-b765-c82847ad62dc' class='xr-var-attrs-in' type='checkbox' ><label for='attrs-ac0d22aa-067e-4edb-b765-c82847ad62dc' title='Show/Hide attributes'><svg class='icon xr-icon-file-text2'><use xlink:href='#icon-file-text2'></use></svg></label><input id='data-c57c0c66-1618-4bd0-a6cb-73754cdaaf6f' class='xr-var-data-in' type='checkbox'><label for='data-c57c0c66-1618-4bd0-a6cb-73754cdaaf6f' title='Show/Hide data repr'><svg class='icon xr-icon-database'><use xlink:href='#icon-database'></use></svg></label><div class='xr-var-attrs'><dl class='xr-attrs'><dt><span>units :</span></dt><dd>dbar</dd></dl></div><div class='xr-var-data'><pre>array([5.448, 5.436, 5.484, ..., 0.   , 0.   , 0.   ])</pre></div></li><li class='xr-var-item'><div class='xr-var-name'><span>orientmat</span></div><div class='xr-var-dims'>(earth, inst, time)</div><div class='xr-var-dtype'>float32</div><div class='xr-var-preview xr-preview'>0.0832 0.155 ... -0.7065 -0.7065</div><input id='attrs-46cc10ce-5b9f-4ff3-b5c0-5448e20390c3' class='xr-var-attrs-in' type='checkbox' disabled><label for='attrs-46cc10ce-5b9f-4ff3-b5c0-5448e20390c3' title='Show/Hide attributes'><svg class='icon xr-icon-file-text2'><use xlink:href='#icon-file-text2'></use></svg></label><input id='data-8c7d69f6-ddc9-457b-9aa2-e429e4ea9eb7' class='xr-var-data-in' type='checkbox'><label for='data-8c7d69f6-ddc9-457b-9aa2-e429e4ea9eb7' title='Show/Hide data repr'><svg class='icon xr-icon-database'><use xlink:href='#icon-database'></use></svg></label><div class='xr-var-attrs'><dl class='xr-attrs'></dl></div><div class='xr-var-data'><pre>array([[[ 0.08320302,  0.155048  ,  0.15524618, ..., -0.8397447 ,\n",
                            "         -0.8397447 , -0.8397447 ],\n",
                            "        [ 0.8485708 ,  0.83656424,  0.8366149 , ...,  0.21873687,\n",
                            "          0.21873687,  0.21873687],\n",
                            "        [-0.52249855, -0.5254717 , -0.52533245, ..., -0.49697396,\n",
                            "         -0.49697396, -0.49697396]],\n",
                            "\n",
                            "       [[ 0.9948472 ,  0.97360104,  0.9733992 , ...,  0.48448867,\n",
                            "          0.48448867,  0.48448867],\n",
                            "        [-0.10121067, -0.21958625, -0.22025378, ...,  0.7150815 ,\n",
                            "          0.7150815 ,  0.7150815 ],\n",
                            "        [-0.00595242, -0.06231184, -0.06310495, ..., -0.5039139 ,\n",
                            "         -0.5039139 , -0.5039139 ]],\n",
                            "\n",
                            "       [[-0.05793348, -0.1675142 , -0.16850099, ...,  0.24515234,\n",
                            "          0.24515234,  0.24515234],\n",
                            "        [-0.51931095, -0.50193846, -0.5015614 , ..., -0.6639372 ,\n",
                            "         -0.6639372 , -0.6639372 ],\n",
                            "        [-0.85261935, -0.84852624, -0.84855384, ..., -0.7064614 ,\n",
                            "         -0.7064614 , -0.7064614 ]]], dtype=float32)</pre></div></li></ul></div></li><li class='xr-section-item'><input id='section-6f7a209d-2472-4676-adbe-96dfd25316e7' class='xr-section-summary-in' type='checkbox'  ><label for='section-6f7a209d-2472-4676-adbe-96dfd25316e7' class='xr-section-summary' >Attributes: <span>(39)</span></label><div class='xr-section-inline-details'></div><div class='xr-section-details'><dl class='xr-attrs'><dt><span>inst_make :</span></dt><dd>Nortek</dd><dt><span>inst_model :</span></dt><dd>Vector</dd><dt><span>inst_type :</span></dt><dd>ADV</dd><dt><span>rotate_vars :</span></dt><dd>[&#x27;vel&#x27;]</dd><dt><span>n_beams :</span></dt><dd>3</dd><dt><span>profile_mode :</span></dt><dd>continuous</dd><dt><span>burst_mode :</span></dt><dd>True</dd><dt><span>power_level :</span></dt><dd>1</dd><dt><span>sync_out_pos :</span></dt><dd>end</dd><dt><span>sample_on_sync :</span></dt><dd>False</dd><dt><span>start_on_sync :</span></dt><dd>False</dd><dt><span>compass_update_rate :</span></dt><dd>1</dd><dt><span>n_bins :</span></dt><dd>1</dd><dt><span>deployment_name :</span></dt><dd>APLUW_</dd><dt><span>wrap_mode :</span></dt><dd>False</dd><dt><span>analog_in :</span></dt><dd>0</dd><dt><span>software_version :</span></dt><dd>1.32.00</dd><dt><span>salinity :</span></dt><dd>30.0</dd><dt><span>comments :</span></dt><dd>APL-UW vector on Tidal Turbulence Mooring in Admiralty, times PDT</dd><dt><span>user_specified_sound_speed :</span></dt><dd>False</dd><dt><span>analog_output :</span></dt><dd>False</dd><dt><span>output_format :</span></dt><dd>Vector</dd><dt><span>serial_output :</span></dt><dd>False</dd><dt><span>power_output_analog :</span></dt><dd>False</dd><dt><span>n_pings_per_burst :</span></dt><dd>1</dd><dt><span>pressure_sensor :</span></dt><dd>yes</dd><dt><span>compass :</span></dt><dd>yes</dd><dt><span>tilt_sensor :</span></dt><dd>yes</dd><dt><span>carrier_freq_kHz :</span></dt><dd>6000</dd><dt><span>serial_number :</span></dt><dd>VEC 9062</dd><dt><span>ProLogFWver :</span></dt><dd>4.08</dd><dt><span>PIC_version :</span></dt><dd>0</dd><dt><span>hardware_rev :</span></dt><dd>4</dd><dt><span>recorder_size_bytes :</span></dt><dd>4074766336</dd><dt><span>vel_range :</span></dt><dd>normal</dd><dt><span>firmware_version :</span></dt><dd>3.34</dd><dt><span>fs :</span></dt><dd>32.0</dd><dt><span>coord_sys :</span></dt><dd>inst</dd><dt><span>has_imu :</span></dt><dd>0</dd></dl></div></li></ul></div></div>"
                        ],
                        "text/plain": [
                            "<xarray.Dataset>\n",
                            "Dimensions:              (time: 122912, beam: 3, dir: 3, x: 3, x*: 3, earth: 3, inst: 3)\n",
                            "Coordinates:\n",
                            "  * time                 (time) datetime64[ns] 2012-06-12T12:00:02.968749 ......\n",
                            "  * beam                 (beam) int32 1 2 3\n",
                            "  * dir                  (dir) <U1 'X' 'Y' 'Z'\n",
                            "  * x                    (x) int32 1 2 3\n",
                            "  * x*                   (x*) int32 1 2 3\n",
                            "  * earth                (earth) <U1 'E' 'N' 'U'\n",
                            "  * inst                 (inst) <U1 'X' 'Y' 'Z'\n",
                            "Data variables: (12/15)\n",
                            "    beam2inst_orientmat  (x, x*) float64 2.709 -1.34 -1.364 ... -0.3438 -0.3499\n",
                            "    batt                 (time) float32 13.2 13.2 13.2 13.2 ... nan nan nan nan\n",
                            "    c_sound              (time) float32 1.493e+03 1.493e+03 ... nan nan\n",
                            "    heading              (time) float32 5.6 10.5 10.51 10.52 ... nan nan nan nan\n",
                            "    pitch                (time) float32 -31.5 -31.7 -31.69 ... nan nan nan\n",
                            "    roll                 (time) float32 0.4 4.2 4.253 4.306 ... nan nan nan nan\n",
                            "    ...                   ...\n",
                            "    vel                  (dir, time) float32 -1.002 -1.008 -0.944 ... nan nan\n",
                            "    amp                  (beam, time) uint8 104 110 111 113 108 ... 0 0 0 0 0\n",
                            "    corr                 (beam, time) uint8 97 91 97 98 90 95 95 ... 0 0 0 0 0 0\n",
                            "    orientation_down     (time) bool True True True True ... True True True True\n",
                            "    pressure             (time) float64 5.448 5.436 5.484 5.448 ... 0.0 0.0 0.0\n",
                            "    orientmat            (earth, inst, time) float32 0.0832 0.155 ... -0.7065\n",
                            "Attributes: (12/39)\n",
                            "    inst_make:                   Nortek\n",
                            "    inst_model:                  Vector\n",
                            "    inst_type:                   ADV\n",
                            "    rotate_vars:                 ['vel']\n",
                            "    n_beams:                     3\n",
                            "    profile_mode:                continuous\n",
                            "    ...                          ...\n",
                            "    recorder_size_bytes:         4074766336\n",
                            "    vel_range:                   normal\n",
                            "    firmware_version:            3.34\n",
                            "    fs:                          32.0\n",
                            "    coord_sys:                   inst\n",
                            "    has_imu:                     0"
                        ]
                    },
                    "execution_count": 14,
                    "metadata": {},
                    "output_type": "execute_result"
                }
            ],
            "source": [
                "# print the dataset\n",
                "ds"
            ]
        },
        {
            "cell_type": "markdown",
            "metadata": {},
            "source": [
                "A second way provided to look at data is through the *DOLfYN view*. This view has several convenience methods, shortcuts, and functions built-in. It includes an alternate – and somewhat more informative/compact – description of the data object when in interactive mode. This can be accessed using"
            ]
        },
        {
            "cell_type": "code",
            "execution_count": 15,
            "metadata": {},
            "outputs": [
                {
                    "data": {
                        "text/plain": [
                            "<ADV data object>:  Nortek Vector\n",
                            "  . 1.07 hours (started: Jun 12, 2012 12:00)\n",
                            "  . inst-frame\n",
                            "  . (122912 pings @ 32.0Hz)\n",
                            "  Variables:\n",
                            "  - time ('time',)\n",
                            "  - vel ('dir', 'time')\n",
                            "  - orientmat ('earth', 'inst', 'time')\n",
                            "  - heading ('time',)\n",
                            "  - pitch ('time',)\n",
                            "  - roll ('time',)\n",
                            "  - temp ('time',)\n",
                            "  - pressure ('time',)\n",
                            "  - amp ('beam', 'time')\n",
                            "  - corr ('beam', 'time')\n",
                            "  ... and others (see `<obj>.variables`)"
                        ]
                    },
                    "execution_count": 15,
                    "metadata": {},
                    "output_type": "execute_result"
                }
            ],
            "source": [
                "ds_dolfyn = ds.velds\n",
                "ds_dolfyn"
            ]
        },
        {
            "cell_type": "markdown",
            "metadata": {},
            "source": [
                "## QC'ing Data"
            ]
        },
        {
            "cell_type": "markdown",
            "metadata": {},
            "source": [
                "ADV velocity data tends to have spikes due to Doppler noise, and the common way to \"despike\" the data is by using the phase-space algorithm by Goring and Nikora (2002). DOLfYN integrates this function using a 2-step approach: create a logical mask where True corresponds to a spike detection, and then utilize an interpolation function to replace the spikes."
            ]
        },
        {
            "cell_type": "code",
            "execution_count": 16,
            "metadata": {
                "scrolled": false
            },
            "outputs": [
                {
                    "name": "stdout",
                    "output_type": "stream",
                    "text": [
                        "Percent of data containing spikes: 0.73%\n"
                    ]
                }
            ],
            "source": [
                "# Clean the file using the Goring+Nikora method:\n",
                "mask = api.clean.GN2002(ds.vel, npt=5000)\n",
                "# Replace bad datapoints via cubic spline interpolation\n",
                "ds['vel'] = api.clean.clean_fill(ds['vel'], mask, npt=12, method='cubic', max_gap=None)\n",
                "\n",
                "print('Percent of data containing spikes: {0:.2f}%'.format(100*mask.mean()))\n",
                "\n",
                "# If interpolation isn't desired:\n",
                "ds_nan = ds.copy(deep=True)\n",
                "ds_nan.coords['mask'] = (('dir','time'), ~mask)\n",
                "ds_nan['vel'] = ds_nan['vel'].where(ds_nan['mask'])"
            ]
        },
        {
            "cell_type": "markdown",
            "metadata": {},
            "source": [
                "## Coordinate Rotations"
            ]
        },
        {
            "cell_type": "markdown",
            "metadata": {},
            "source": [
                "Now that the data has been cleaned, the next step is to rotate the velocity data into true East, North, Up (ENU) coordinates.\n",
                "\n",
                "ADVs use an internal compass or magnetometer to determine magnetic ENU directions. The `set_declination` function takes the user supplied magnetic declination (which can be looked up online for specific coordinates) and adjusts the orientation matrix saved within the dataset.\n",
                "\n",
                "Instruments save vector data in the coordinate system specified in the deployment configuration file. To make the data useful, it must be rotated through coordinate systems (\"beam\"<->\"inst\"<->\"earth\"<->\"principal\"), done through the `rotate2` function. If the \"earth\" (ENU) coordinate system is specified, DOLfYN will automatically rotate the dataset through the necessary coordinate systems to get there. The `inplace` set as true will alter the input dataset \"in place\", a.k.a. it not create a new dataset."
            ]
        },
        {
            "cell_type": "code",
            "execution_count": 17,
            "metadata": {},
            "outputs": [],
            "source": [
                "# First set the magnetic declination\n",
                "dolfyn.set_declination(ds, declin=10, inplace=True) # declination points 10 degrees East\n",
                "\n",
                "# Rotate that data from the instrument to earth frame (ENU):\n",
                "dolfyn.rotate2(ds, 'earth', inplace=True)"
            ]
        },
        {
            "cell_type": "markdown",
            "metadata": {},
            "source": [
                "Once in the true ENU frame of reference, we can calculate the principal flow direction for the velocity data and rotate it into the principal frame of reference (streamwise, cross-stream, vertical). Principal flow directions are aligned with and orthogonal to the flow streamlines at the measurement location. \n",
                "\n",
                "First, the principal flow direction must be calculated through `calc_principal_heading`. As a standard for DOLfYN functions, those that begin with \"calc_*\" require the velocity data for input. This function is different from others in DOLfYN in that it requires place the output in an attribute called \"principal_heading\", as shown below.\n",
                "\n",
                "Again we use `rotate2` to change coordinate systems."
            ]
        },
        {
            "cell_type": "code",
            "execution_count": 18,
            "metadata": {},
            "outputs": [],
            "source": [
                "ds.attrs['principal_heading'] = dolfyn.calc_principal_heading(ds['vel'])\n",
                "dolfyn.rotate2(ds, 'principal', inplace=True)"
            ]
        },
        {
            "cell_type": "markdown",
            "metadata": {},
            "source": [
                "## Averaging Data\n",
                "The next step in ADV analysis is to average the velocity data into time bins (ensembles) and calculate turbulence statistics. There are a couple ways to do this, and both of these methods use the same variable inputs and return identical datasets.\n",
                "\n",
                "1. Define an averaging object, create a binned dataset and calculate basic turbulence statistics. This is done by initiating an object from the `ADVBinner` class, and subsequently supplying that object with our dataset.\n",
                "\n",
                "2. Alternatively, the functional version of ADVBinner, `turbulence_statistics`.\n",
                "\n",
                "Function inputs shown here are the dataset itself; \"n_bin\", the number of elements in each bin; \"fs\", the ADV's sampling frequency in Hz; \"n_fft\", optional, the number of elements per FFT for spectral analysis; \"freq_units\", optional, either in Hz or rad/s, of the calculated spectral frequency vector.\n",
                "\n",
                "All of the variables in the returned dataset have been bin-averaged, where each average is computed using the number of elements specified in \"n_bins\". Additional variables in this dataset include the turbulent kinetic energy (TKE) vector (\"ds_binned.tke_vec\"), the Reynold's stresses (\"ds_binned.stress\"), and the power spectral densities (\"ds_binned.psd\"), calculated for each bin."
            ]
        },
        {
            "cell_type": "code",
            "execution_count": 19,
            "metadata": {
                "scrolled": true
            },
            "outputs": [],
            "source": [
                "binner = api.ADVBinner(n_bin=9600, fs=ds.fs, n_fft=2048)\n",
                "ds_binned = binner(ds, freq_units=\"Hz\")\n",
                "\n",
                "ds_binned = api.turbulence_statistics(ds, n_bin=9600, fs=ds.fs, n_fft=2048, freq_units=\"Hz\")"
            ]
        },
        {
            "cell_type": "markdown",
            "metadata": {},
            "source": [
                "The benefit to using `ADVBinner` is that one has access to all of the velocity and turbulence analysis functions that DOLfYN contains. If basic analysis will suffice, the `turbulence_statistics` function is the most convienent. Either option can still utilize DOLfYN's shortcuts.\n",
                "\n",
                "See the [DOLfYN API](https://dolfyn.readthedocs.io/en/latest/apidoc/dolfyn.binners.html) for the full list of functions and shortcuts. A few examples are shown below.\n",
                "\n",
                "Some things to know:\n",
                "- All functions operate bin-by-bin.\n",
                "- Some functions will fail if there are NaN's in the data stream (Notably the PSD functions)\n",
                "- \"Shorcuts\", as referred to in DOLfYN, are functions accessible by the xarray accessor `velds`, as shown below. The list of \"shorcuts\" available through `velds` are listed [here](https://dolfyn.readthedocs.io/en/latest/apidoc/dolfyn.shortcuts.html). Some shorcut variables require the raw dataset, some an averaged dataset.\n",
                "\n",
                "For instance, \n",
                "- `bin_variance` calculates the binned-variance of each variable in the raw dataset, the complementary to `bin_average`. Variables returned by this function contain a \"_var\" suffix to their name.\n",
                "- `cross_spectral_density` calculates the cross spectral power density between each direction of the supplied DataArray. Note that inputs specified in creating the `ADVBinner` object can be overridden or additionally specified for a particular function call.\n",
                "- `velds.I` is the shortcut for turbulence intensity. This particular shortcut requires a dataset created by `bin_average`, because it requires bin-averaged data to calculate.\n"
            ]
        },
        {
            "cell_type": "code",
            "execution_count": 20,
            "metadata": {
                "scrolled": true
            },
            "outputs": [],
            "source": [
                "# Calculate the variance of each variable in the dataset and add to the averaged dataset\n",
                "ds_binned = binner.bin_variance(ds, out_ds=ds_binned) \n",
                "\n",
                "# Calculate the cross power spectral density\n",
                "ds_binned['csd'] = binner.cross_spectral_density(ds['vel'], freq_units='Hz', n_fft_coh=2048)\n",
                "\n",
                "# Calculated the turbulence intensity (requires a binned dataset)\n",
                "ds_binned['TI'] = ds_binned.velds.I"
            ]
        },
        {
            "cell_type": "markdown",
            "metadata": {},
            "source": [
                "Plotting can be taken care of through matplotlib. As an example, the mean spectrum in the streamwise direction is plotted here. This spectrum shows the mean energy density in the flow at a particular flow frequency."
            ]
        },
        {
            "cell_type": "code",
            "execution_count": 21,
            "metadata": {},
            "outputs": [
                {
                    "data": {
                        "text/plain": [
                            "Text(0.5, 1.0, 'Streamwise Direction')"
                        ]
                    },
                    "execution_count": 21,
                    "metadata": {},
                    "output_type": "execute_result"
                },
                {
                    "data": {
                        "image/png": "[encoded data removed]",
                        "text/plain": [
                            "<Figure size 640x480 with 1 Axes>"
                        ]
                    },
                    "metadata": {},
                    "output_type": "display_data"
                }
            ],
            "source": [
                "import matplotlib.pyplot as plt\n",
                "%matplotlib inline\n",
                "\n",
                "plt.figure()\n",
                "plt.loglog(ds_binned['freq'], ds_binned['psd'].sel(S='Sxx').mean(dim='time'))\n",
                "plt.xlabel('Frequency [Hz]')\n",
                "plt.ylabel('Energy Density $\\mathrm{[m^2/s^s/Hz]}$')\n",
                "plt.title('Streamwise Direction')"
            ]
        },
        {
            "cell_type": "markdown",
            "metadata": {},
            "source": [
                "## Saving and Loading DOLfYN datasets\n",
                "Datasets can be saved and reloaded using the `save` and `load` functions. Xarray is saved natively in netCDF format, hence the \".nc\" extension.\n",
                "\n",
                "Note: DOLfYN datasets cannot be saved using xarray's native `ds.to_netcdf`; however, DOLfYN datasets can be opened using `xarray.open_dataset`."
            ]
        },
        {
            "cell_type": "code",
            "execution_count": 22,
            "metadata": {},
            "outputs": [],
            "source": [
                "# Uncomment these lines to save and load to your current working directory\n",
                "#dolfyn.save(ds, 'your_data.nc')\n",
                "#ds_saved = dolfyn.load('your_data.nc')"
            ]
        }
    ],
    "metadata": {
        "kernelspec": {
            "display_name": "Python 3.9.12 ('base')",
            "language": "python",
            "name": "python3"
        },
        "language_info": {
            "codemirror_mode": {
                "name": "ipython",
                "version": 3
            },
            "file_extension": ".py",
            "mimetype": "text/x-python",
            "name": "python",
            "nbconvert_exporter": "python",
            "pygments_lexer": "ipython3",
            "version": "3.9.12"
        },
        "vscode": {
            "interpreter": {
                "hash": "357206ab7e4935423e95e994af80e27e7e6c0672abcebb9d86ab743298213348"
            }
        }
    },
    "nbformat": 4,
    "nbformat_minor": 4
}
