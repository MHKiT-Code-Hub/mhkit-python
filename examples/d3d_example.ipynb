{
 "cells": [
  {
   "cell_type": "markdown",
   "id": "b3f9a445",
   "metadata": {},
   "source": [
    "# Delft3D (D3D) IO Module\n",
    "\n",
    "The following example will familiarize the user with using the d3d toolbox in MHKiT-Python. `d3d` can be used to plot the data from a NetCDF output from Delft3D [SNL-D3D-CEC-FM](https://github.com/MHKiT-Software/MHKiT-Python). The example will walk through a flume case with a turbine. The flume is 18 m long and 4 m wide with the turbine placed at 6 m along the length and 3 m along the width. The turbine used for this simulation has a circular cross-section with a diameter of 0.7m, a thrust coefficient of 0.72, and a power coefficient of 0.45. The simulation was run with 5 depth layers and 3-time intervals.\n",
    "\n",
    "This example will show how to create a centerline plot at a desired depth for different variables outputs of Delft3D using matplotlib. It will also show how to make a contour plot of a given plane or depth for the variable output by Delft3D and how to use those variables to calculate turbulence intensity. This module can be helpful to visualize the wake of a turbine and help predict how a turbine will affect the surrounding area. \n",
    "\n",
    "Start by importing the necessary python packages and MHKiT module.  "
   ]
  },
  {
   "cell_type": "code",
   "execution_count": 1,
   "id": "33a340f1",
   "metadata": {},
   "outputs": [],
   "source": [
    "from os.path import abspath, dirname, join, normpath, relpath\n",
    "from mhkit.river.io import d3d \n",
    "import scipy.interpolate as interp\n",
    "import matplotlib.pyplot as plt\n",
    "import numpy as np\n",
    "import pandas as pd\n",
    "import netCDF4"
   ]
  },
  {
   "cell_type": "markdown",
   "id": "4394f24f",
   "metadata": {},
   "source": [
    "## Loading Data from Delft3D as a NetCDF \n",
    "\n",
    " A NetCDF file has been saved in the [\\\\MHKiT-Python\\\\examples\\\\data\\\\river\\\\d3d](https://github.com/browniea/MHKiT-Python/tree/d3d/examples/data/river/d3d) directory of a simple flume case with a turbine for refrence data. Here we are inputting strings file path `datadir`, and file name `filename` so the NetCDF file can be saved as a NetCDF object using the python pack `netCDF4` under the variable  `d3d_data`.    \n",
    " \n",
    "There are many variables saved in the NetCDF object `d3d_data`. The function `d3d_data.variables.keys()` returns a dictionary of the avalible data. Here we look at the dictionary keys output to see all the variables we can plot. "
   ]
  },
  {
   "cell_type": "code",
   "execution_count": 2,
   "id": "daa89bd3",
   "metadata": {},
   "outputs": [
    {
     "name": "stdout",
     "output_type": "stream",
     "text": [
      "\"mesh2d_enc_x\": x-coordinate\n",
      "\"mesh2d_enc_y\": y-coordinate\n",
      "\"mesh2d_enc_node_count\": count of coordinates in each instance geometry\n",
      "\"mesh2d_enc_part_node_count\": count of nodes in each geometry part\n",
      "\"mesh2d_enc_interior_ring\": type of each geometry part\n",
      "\"mesh2d_enclosure_container\"\n",
      "\"Mesh2D\"\n",
      "\"NetNode_x\": x-coordinate\n",
      "\"NetNode_y\": y-coordinate\n",
      "\"projected_coordinate_system\"\n",
      "\"NetNode_z\": bed level at net nodes (flow element corners)\n",
      "\"NetLink\": link between two netnodes\n",
      "\"NetLinkType\": type of netlink\n",
      "\"NetElemNode\": mapping from net cell to net nodes (counterclockwise)\n",
      "\"NetElemLink\": mapping from net cell to its net links (counterclockwise)\n",
      "\"NetLinkContour_x\": list of x-contour points of momentum control volume surrounding each net/flow link\n",
      "\"NetLinkContour_y\": list of y-contour points of momentum control volume surrounding each net/flow link\n",
      "\"NetLink_xu\": x-coordinate of net link center (velocity point)\n",
      "\"NetLink_yu\": y-coordinate of net link center (velocity point)\n",
      "\"BndLink\": netlinks that compose the net boundary\n",
      "\"FlowElem_xcc\": x-coordinate of flow element circumcenter\n",
      "\"FlowElem_ycc\": y-coordinate of flow element circumcenter\n",
      "\"FlowElem_zcc\": bed level of flow element\n",
      "\"FlowElem_bac\": flow element area\n",
      "\"FlowElem_xzw\": x-coordinate of flow element center of mass\n",
      "\"FlowElem_yzw\": y-coordinate of flow element center of mass\n",
      "\"FlowElemContour_x\": list of x-coordinates forming flow element\n",
      "\"FlowElemContour_y\": list of y-coordinates forming flow element\n",
      "\"FlowElem_bl\": Initial bed level at flow element circumcenter\n",
      "\"ElemLink\": flow nodes between/next to which link between two netnodes lies\n",
      "\"FlowLink\": link/interface between two flow elements\n",
      "\"FlowLinkType\": type of flowlink\n",
      "\"FlowLink_xu\": x-coordinate of flow link center (velocity point)\n",
      "\"FlowLink_yu\": y-coordinate of flow link center (velocity point)\n",
      "\"FlowLink_lonu\": longitude\n",
      "\"FlowLink_latu\": latitude\n",
      "\"time\"\n",
      "\"LayCoord_cc\": sigma layer coordinate at flow element center\n",
      "\"LayCoord_w\": sigma layer coordinate at vertical interface\n",
      "\"timestep\"\n",
      "\"s1\": water level\n",
      "\"waterdepth\": water depth\n",
      "\"unorm\": normal component of sea_water_speed\n",
      "\"ucz\": upward velocity on flow element center\n",
      "\"ucxa\": depth-averaged velocity on flow element center, x-component\n",
      "\"ucya\": depth-averaged velocity on flow element center, y-component\n",
      "\"ww1\": upward velocity on vertical interface\n",
      "\"ucx\": velocity on flow element center, x-component\n",
      "\"ucy\": velocity on flow element center, y-component\n",
      "\"turkin1\": turbulent kinetic energy\n",
      "\"vicwwu\": turbulent vertical eddy viscosity\n",
      "\"tureps1\": turbulent energy dissipation\n"
     ]
    }
   ],
   "source": [
    "datadir = normpath(join(relpath(join('data', 'river', 'd3d'))))\n",
    "filename= 'turbineTest_map.nc'\n",
    "d3d_data = netCDF4.Dataset(join(datadir,filename)) \n",
    "\n",
    "for var in d3d_data.variables.keys():\n",
    "    try: \n",
    "        d3d_data[var].long_name\n",
    "    except:\n",
    "        print(f'\"{var}\"')        \n",
    "    else:\n",
    "        print(f'\"{var}\": {d3d_data[var].long_name}')"
   ]
  },
  {
   "cell_type": "markdown",
   "id": "a3032b1c",
   "metadata": {},
   "source": [
    "## Dataframe from NetCDF\n",
    "First the variables to be pulled from the NetCDF file are defined and saved under the name `variable`. The variable `'ucx'` is velocity in the x-direction. (see advalible data in previos block output). The `d3d` function `get_all_data_points` will pull all the raw data from the NetCDF file for the specified variable at a specific time index in a dataframe `var_data_df`. The `time_index` can be used to pull data from a different instance in time. The first index is 0 and the user can use -1 to select the last time_index in the data set. The defalt `time_index` is set to -1.The last `time_index` can also be found by finding array dimension of the input variable, as shown the max valid value for `time_index` is output. "
   ]
  },
  {
   "cell_type": "code",
   "execution_count": 3,
   "id": "4dfe13c8",
   "metadata": {},
   "outputs": [
    {
     "name": "stdout",
     "output_type": "stream",
     "text": [
      "max time_index:2\n"
     ]
    }
   ],
   "source": [
    "variable= 'ucx' \n",
    "\n",
    "max_time_index= len(d3d_data.variables[variable][:])\n",
    "\n",
    "print(f'max time_index:{max_time_index}')\n",
    "\n",
    "# All data in  NetCDF File\n",
    "var_data_df= d3d.get_all_data_points(d3d_data, variable, time_index=-1)"
   ]
  },
  {
   "cell_type": "markdown",
   "id": "119fcfd6",
   "metadata": {},
   "source": [
    "## Plotting a Line Plot Between Two Centerline Points\n",
    "To veiw the maximum effects of the tubine we will creat a aray down the center of our flume. We will then interpolate the grided data results onto our centerline array. \n",
    "\n",
    "For this line plot we will find the centerline of the flume. The centerline points are found by taking the average of the maximum and minimum value for the width, `y`, and height, `z`, of the flume. We will use The function `create_points` to create our centerline array to interpolate over with the input of one array, `x`, and two points, `y` and `z`. `create_points` will then  output a dataframe, `cline_points`, with keys `'x'`, `'y'`,and `'z'`, of points. "
   ]
  },
  {
   "cell_type": "code",
   "execution_count": 4,
   "id": "f098a59d",
   "metadata": {},
   "outputs": [],
   "source": [
    "xmin=var_data_df.x.max()\n",
    "xmax=var_data_df.x.min()\n",
    "\n",
    "ymin=var_data_df.y.max()\n",
    "ymax=var_data_df.y.min()\n",
    "\n",
    "zmin=var_data_df.z.max()\n",
    "zmax=var_data_df.z.min()\n",
    "\n",
    "x = np.linspace(xmin, xmax, num=100)\n",
    "y = np.mean([ymin,ymax])\n",
    "z = np.mean([zmin,zmax])\n",
    "\n",
    "cline_points = d3d.create_points(x, y, z)"
   ]
  },
  {
   "cell_type": "markdown",
   "id": "9534a5c4",
   "metadata": {},
   "source": [
    "Next the variable `ucx` is interpolated over the `cline_points` using sipy interp function, and saved as `cline_variable`. The results are then plotted for  velocity in the x direction, `ucx`, along the length of the flume, `x`."
   ]
  },
  {
   "cell_type": "code",
   "execution_count": 5,
   "id": "67116bbc",
   "metadata": {},
   "outputs": [
    {
     "data": {
      "text/plain": [
       "Text(0.5, 1.0, 'Centerline velocity on flow element center, x-component')"
      ]
     },
     "execution_count": 5,
     "metadata": {},
     "output_type": "execute_result"
    },
    {
     "data": {
      "image/png": "[encoded data removed]",
      "text/plain": [
       "<Figure size 432x288 with 1 Axes>"
      ]
     },
     "metadata": {
      "needs_background": "light"
     },
     "output_type": "display_data"
    }
   ],
   "source": [
    "cline_variable = interp.griddata(var_data_df[['x','y','z']], \n",
    "                     var_data_df[variable],\n",
    "                     cline_points[['x','y','z']])\n",
    "\n",
    "Type='Centerline'\n",
    "plt.plot(x, cline_variable)\n",
    "plt.grid()\n",
    "plt.xlabel('x (m)')\n",
    "plt.ylabel(f'{d3d_data.variables[variable].long_name} [{d3d_data.variables[variable].units}]')\n",
    "plt.title(f'{Type} {d3d_data.variables[variable].long_name}')"
   ]
  },
  {
   "cell_type": "markdown",
   "id": "f84a6012",
   "metadata": {},
   "source": [
    "## Contour Plot for a Given Sigma Layer \n",
    "\n",
    "Sometimes it will be useful to plot only the raw data. Using `get_layer_data` a single layer of raw data will be retrieved from the NetCDF object. The `d3d` function ,`get_layer_data` takes 3 inputs, the netCDFobject (`d3d_data`), the vaiable name (`variable`) as a string, and the the layer to retrieve (`layer`) as an integer. The variable is set to the velocity in the x direction, `'ucx'`, and the layer of data to plot as 2. Since there are 5 sigma layers in this example layer 2 is approximatly the middle layer.  `layer`  works as an idex that begins at begins at 0 and ends at 4.  The `get_layer_data` then outputs a dataframe `layer_data` with the keys `'x'`, `'y'`, and '`v`' as the length, width, and value of the specified variable in this case velocity in the x direction, 'ucx'.  \n",
    "\n",
    "To plot the data the maximum and minimum, \"max_plot_v\" and \"min_plot_v\", values are defined to limit bounds of the color bar to show the value of the specified variable, in this case it's velocity in the x direction. The type of plot is also defined as 'contour' to add to the title of the plot."
   ]
  },
  {
   "cell_type": "code",
   "execution_count": 6,
   "id": "5b0a66cf",
   "metadata": {},
   "outputs": [
    {
     "data": {
      "image/png": "[encoded data removed]",
      "text/plain": [
       "<Figure size 432x288 with 2 Axes>"
      ]
     },
     "metadata": {
      "needs_background": "light"
     },
     "output_type": "display_data"
    }
   ],
   "source": [
    "variable= 'ucx'\n",
    "layer= 2\n",
    "layer_data = d3d.get_layer_data(d3d_data, variable, layer)\n",
    "\n",
    "max_plot_v= 1.5\n",
    "min_plot_v=.5\n",
    "  \n",
    "Type= 'Contour'\n",
    "plt.figure()\n",
    "contour_plot = plt.tricontourf(layer_data.x ,layer_data.y, layer_data.v, vmin=min_plot_v,vmax=max_plot_v,\n",
    "                               levels=np.linspace(min_plot_v,max_plot_v,10))\n",
    "plt.xlabel('x (m)')\n",
    "plt.ylabel('y (m)')\n",
    "plt.title(f'{Type} Layer: {layer} {d3d_data.variables[variable].long_name}')\n",
    "cbar= plt.colorbar(contour_plot)\n",
    "cbar.set_label(f'{d3d_data.variables[variable].long_name} [{d3d_data.variables[variable].units}]')"
   ]
  },
  {
   "cell_type": "markdown",
   "id": "910aa71e",
   "metadata": {},
   "source": [
    "## Plotting a Contour Plot layer \n",
    "\n",
    "If you wanted to look at a contour plot of a specific depth you can create a contour plot over given points. Expanding on the centerline plot points we can create an array along the width of the flume, `y_contour` to add to the array along the length of the flume, `x`, and the point for the depth we want to look at `z`.  `create_points` then outputs a dataframe '`contour_points`' of points to calculate the contour values over with the keys `'x'`, `'y'`,and `'z'`."
   ]
  },
  {
   "cell_type": "code",
   "execution_count": 7,
   "id": "e33b3cb2",
   "metadata": {},
   "outputs": [],
   "source": [
    "x = np.linspace(xmin, xmax, num=100)\n",
    "y_contour = np.linspace(ymin, ymax, num=40)\n",
    "z = np.mean([zmin,zmax])\n",
    "\n",
    "contour_points = d3d.create_points(x, y_contour, z) "
   ]
  },
  {
   "cell_type": "markdown",
   "id": "3e518520",
   "metadata": {},
   "source": [
    "Next the data is interpolated on to the points created saved under the variable name `'contour_variable'`. "
   ]
  },
  {
   "cell_type": "code",
   "execution_count": 8,
   "id": "94ae8c10",
   "metadata": {},
   "outputs": [],
   "source": [
    "contour_variable = interp.griddata(var_data_df[['x','y','z']], \n",
    "                                                     var_data_df[variable],\n",
    "                                                     contour_points[['x','y','z']])"
   ]
  },
  {
   "cell_type": "markdown",
   "id": "29b8b5f6",
   "metadata": {},
   "source": [
    "The results are then plotted. The minimum and maximum values show on the graph are defined by \"max_plot_v\" and \"min_plot_v\" as used in the previous example. The contour plot of the velocity is then output at the center depth of the flume. "
   ]
  },
  {
   "cell_type": "code",
   "execution_count": 9,
   "id": "050832de",
   "metadata": {},
   "outputs": [
    {
     "data": {
      "image/png": "[encoded data removed]",
      "text/plain": [
       "<Figure size 432x288 with 2 Axes>"
      ]
     },
     "metadata": {
      "needs_background": "light"
     },
     "output_type": "display_data"
    }
   ],
   "source": [
    "max_plot_v= 1.5\n",
    "min_plot_v=.5\n",
    "\n",
    "#Plot contour\n",
    "Type= 'Contour'\n",
    "plt.figure()\n",
    "contour_plot = plt.tricontourf(contour_points.x,contour_points.y,contour_variable,\n",
    "                               vmin=min_plot_v,vmax=max_plot_v,levels=np.linspace(min_plot_v,max_plot_v,10))\n",
    "plt.xlabel('x (m)')\n",
    "plt.ylabel('y (m)')\n",
    "plt.title(f'{Type} {d3d_data.variables[variable].long_name}')\n",
    "cbar= plt.colorbar(contour_plot)\n",
    "cbar.set_label(f'{d3d_data.variables[variable].long_name} [{d3d_data.variables[variable].units}]')"
   ]
  },
  {
   "cell_type": "markdown",
   "id": "123d14de",
   "metadata": {},
   "source": [
    "## Contour Plot of Turbulent Intensity \n",
    "Turbulent Intensity is the ratio of the magnitude of turbulent velocity to total velocity. The function `turbulent_intensity`  pulls variables 'ucx', 'ucy', 'ucz', and 'turkin1' as the velocity in the x, y, z and turbulence respetivly. The function then calculates and outputs the turbulent intensity, `turbulent_intensity`, for any given time_index in the data_frame `TI`. The `TI` dataframe also includes the `'x'`,`'y'`, and '`z'` location, turbulent kinetic energy `'turkin1'`, and velocity in the `'ucx'`, `'ucy'`, and `'ucz'` direction. In this example it is calculating the turbulent intensity over the same contour_points used above, however it can also calculate over 'cells', the coordinate system for the raw velocity data, or 'faces', the coordinate system for the raw turbulence data. If nothing is specified for 'points', 'cells' is the defalt coordiante system.    \n",
    "\n",
    "Following the same format as the previous two contour plots the limits of the maximum and minimum value are defined by user as well as a string for the type of plot. The code then outputs a contour plot of the turbulent intensity."
   ]
  },
  {
   "cell_type": "code",
   "execution_count": 10,
   "id": "aabce13e",
   "metadata": {},
   "outputs": [
    {
     "name": "stdout",
     "output_type": "stream",
     "text": [
      "points provided\n"
     ]
    },
    {
     "data": {
      "text/html": [
       "<div>\n",
       "<style scoped>\n",
       "    .dataframe tbody tr th:only-of-type {\n",
       "        vertical-align: middle;\n",
       "    }\n",
       "\n",
       "    .dataframe tbody tr th {\n",
       "        vertical-align: top;\n",
       "    }\n",
       "\n",
       "    .dataframe thead th {\n",
       "        text-align: right;\n",
       "    }\n",
       "</style>\n",
       "<table border=\"1\" class=\"dataframe\">\n",
       "  <thead>\n",
       "    <tr style=\"text-align: right;\">\n",
       "      <th></th>\n",
       "      <th>x</th>\n",
       "      <th>y</th>\n",
       "      <th>z</th>\n",
       "      <th>turkin1</th>\n",
       "      <th>ucx</th>\n",
       "      <th>ucy</th>\n",
       "      <th>ucz</th>\n",
       "      <th>turbulent_intensity</th>\n",
       "    </tr>\n",
       "  </thead>\n",
       "  <tbody>\n",
       "    <tr>\n",
       "      <th>0</th>\n",
       "      <td>17.900000</td>\n",
       "      <td>4.9</td>\n",
       "      <td>1.001491</td>\n",
       "      <td>0.004836</td>\n",
       "      <td>1.063070</td>\n",
       "      <td>2.870343e-04</td>\n",
       "      <td>-0.011936</td>\n",
       "      <td>0.053406</td>\n",
       "    </tr>\n",
       "    <tr>\n",
       "      <th>1</th>\n",
       "      <td>17.720202</td>\n",
       "      <td>4.9</td>\n",
       "      <td>1.001491</td>\n",
       "      <td>0.004813</td>\n",
       "      <td>1.061810</td>\n",
       "      <td>2.725819e-04</td>\n",
       "      <td>0.128914</td>\n",
       "      <td>0.052960</td>\n",
       "    </tr>\n",
       "    <tr>\n",
       "      <th>2</th>\n",
       "      <td>17.540404</td>\n",
       "      <td>4.9</td>\n",
       "      <td>1.001491</td>\n",
       "      <td>0.004755</td>\n",
       "      <td>1.059829</td>\n",
       "      <td>2.484254e-04</td>\n",
       "      <td>0.018144</td>\n",
       "      <td>0.053115</td>\n",
       "    </tr>\n",
       "    <tr>\n",
       "      <th>3</th>\n",
       "      <td>17.360606</td>\n",
       "      <td>4.9</td>\n",
       "      <td>1.001491</td>\n",
       "      <td>0.004694</td>\n",
       "      <td>1.060141</td>\n",
       "      <td>2.231364e-04</td>\n",
       "      <td>-0.011759</td>\n",
       "      <td>0.052766</td>\n",
       "    </tr>\n",
       "    <tr>\n",
       "      <th>4</th>\n",
       "      <td>17.180808</td>\n",
       "      <td>4.9</td>\n",
       "      <td>1.001491</td>\n",
       "      <td>0.004705</td>\n",
       "      <td>1.060299</td>\n",
       "      <td>1.963520e-04</td>\n",
       "      <td>-0.002357</td>\n",
       "      <td>0.052822</td>\n",
       "    </tr>\n",
       "    <tr>\n",
       "      <th>...</th>\n",
       "      <td>...</td>\n",
       "      <td>...</td>\n",
       "      <td>...</td>\n",
       "      <td>...</td>\n",
       "      <td>...</td>\n",
       "      <td>...</td>\n",
       "      <td>...</td>\n",
       "      <td>...</td>\n",
       "    </tr>\n",
       "    <tr>\n",
       "      <th>3995</th>\n",
       "      <td>0.819192</td>\n",
       "      <td>1.1</td>\n",
       "      <td>1.001491</td>\n",
       "      <td>0.003562</td>\n",
       "      <td>1.055308</td>\n",
       "      <td>-5.733043e-07</td>\n",
       "      <td>-0.000745</td>\n",
       "      <td>0.046179</td>\n",
       "    </tr>\n",
       "    <tr>\n",
       "      <th>3996</th>\n",
       "      <td>0.639394</td>\n",
       "      <td>1.1</td>\n",
       "      <td>1.001491</td>\n",
       "      <td>0.003546</td>\n",
       "      <td>1.055458</td>\n",
       "      <td>-4.095826e-07</td>\n",
       "      <td>0.001553</td>\n",
       "      <td>0.046067</td>\n",
       "    </tr>\n",
       "    <tr>\n",
       "      <th>3997</th>\n",
       "      <td>0.459596</td>\n",
       "      <td>1.1</td>\n",
       "      <td>1.001491</td>\n",
       "      <td>0.003550</td>\n",
       "      <td>1.056048</td>\n",
       "      <td>-2.810840e-07</td>\n",
       "      <td>0.007136</td>\n",
       "      <td>0.046069</td>\n",
       "    </tr>\n",
       "    <tr>\n",
       "      <th>3998</th>\n",
       "      <td>0.279798</td>\n",
       "      <td>1.1</td>\n",
       "      <td>1.001491</td>\n",
       "      <td>0.003514</td>\n",
       "      <td>1.058133</td>\n",
       "      <td>-1.737856e-07</td>\n",
       "      <td>-0.009406</td>\n",
       "      <td>0.045741</td>\n",
       "    </tr>\n",
       "    <tr>\n",
       "      <th>3999</th>\n",
       "      <td>0.100000</td>\n",
       "      <td>1.1</td>\n",
       "      <td>1.001491</td>\n",
       "      <td>0.003432</td>\n",
       "      <td>1.055723</td>\n",
       "      <td>-8.190559e-08</td>\n",
       "      <td>0.162635</td>\n",
       "      <td>0.044779</td>\n",
       "    </tr>\n",
       "  </tbody>\n",
       "</table>\n",
       "<p>4000 rows × 8 columns</p>\n",
       "</div>"
      ],
      "text/plain": [
       "              x    y         z   turkin1       ucx           ucy       ucz  \\\n",
       "0     17.900000  4.9  1.001491  0.004836  1.063070  2.870343e-04 -0.011936   \n",
       "1     17.720202  4.9  1.001491  0.004813  1.061810  2.725819e-04  0.128914   \n",
       "2     17.540404  4.9  1.001491  0.004755  1.059829  2.484254e-04  0.018144   \n",
       "3     17.360606  4.9  1.001491  0.004694  1.060141  2.231364e-04 -0.011759   \n",
       "4     17.180808  4.9  1.001491  0.004705  1.060299  1.963520e-04 -0.002357   \n",
       "...         ...  ...       ...       ...       ...           ...       ...   \n",
       "3995   0.819192  1.1  1.001491  0.003562  1.055308 -5.733043e-07 -0.000745   \n",
       "3996   0.639394  1.1  1.001491  0.003546  1.055458 -4.095826e-07  0.001553   \n",
       "3997   0.459596  1.1  1.001491  0.003550  1.056048 -2.810840e-07  0.007136   \n",
       "3998   0.279798  1.1  1.001491  0.003514  1.058133 -1.737856e-07 -0.009406   \n",
       "3999   0.100000  1.1  1.001491  0.003432  1.055723 -8.190559e-08  0.162635   \n",
       "\n",
       "      turbulent_intensity  \n",
       "0                0.053406  \n",
       "1                0.052960  \n",
       "2                0.053115  \n",
       "3                0.052766  \n",
       "4                0.052822  \n",
       "...                   ...  \n",
       "3995             0.046179  \n",
       "3996             0.046067  \n",
       "3997             0.046069  \n",
       "3998             0.045741  \n",
       "3999             0.044779  \n",
       "\n",
       "[4000 rows x 8 columns]"
      ]
     },
     "execution_count": 10,
     "metadata": {},
     "output_type": "execute_result"
    },
    {
     "data": {
      "image/png": "[encoded data removed]",
      "text/plain": [
       "<Figure size 432x288 with 2 Axes>"
      ]
     },
     "metadata": {
      "needs_background": "light"
     },
     "output_type": "display_data"
    }
   ],
   "source": [
    "TI= d3d.turbulent_intensity(d3d_data, contour_points)\n",
    "\n",
    "max_plot_v= 0.2\n",
    "min_plot_v=-0.2\n",
    "\n",
    "Type= 'Contour'\n",
    "plt.figure()\n",
    "contour_plot = plt.tricontourf(contour_points.x, contour_points.y, TI.turbulent_intensity,\n",
    "                               vmin=min_plot_v, vmax=max_plot_v,levels=np.linspace(min_plot_v,max_plot_v,10))\n",
    "plt.xlabel('x (m)')\n",
    "plt.ylabel('y (m)')\n",
    "plt.title(f'{Type} {d3d_data.variables[variable].long_name}')\n",
    "cbar= plt.colorbar(contour_plot)\n",
    "cbar.set_label(f'{d3d_data.variables[variable].long_name} [{d3d_data.variables[variable].units}]')\n",
    "\n",
    "TI"
   ]
  },
  {
   "cell_type": "markdown",
   "id": "048168e5",
   "metadata": {},
   "source": [
    "## Comparing two Face Data to Cell Data \n",
    "In Delft3d ther is a stager where some vaiables are stored on the faces and some are stored on the cells and this function allows you to interpolate the date on the faces to the ce3ll locations or vis viersa.  \n",
    "Similar to the `turbulent_intensity` function shown above the `grid data` function is used to interpolate data sets on to the same grid. This is useful for camparing variables such as velocity and turbulence where the raw data points are not on the same.  For this example, we input the variable names, 'ucx' and 'turkin1', the NetCDF object, 'd3d_data', and the corrdinate system  'faces'. The output is an array, ` Var`, with the interpolated data. The data can be called as shown with ‘Var.’ followed by the variable name.   \n",
    "\n",
    "#claculate Turbulent intensity, "
   ]
  },
  {
   "cell_type": "code",
   "execution_count": 11,
   "id": "d34656f5",
   "metadata": {},
   "outputs": [
    {
     "data": {
      "text/html": [
       "<div>\n",
       "<style scoped>\n",
       "    .dataframe tbody tr th:only-of-type {\n",
       "        vertical-align: middle;\n",
       "    }\n",
       "\n",
       "    .dataframe tbody tr th {\n",
       "        vertical-align: top;\n",
       "    }\n",
       "\n",
       "    .dataframe thead th {\n",
       "        text-align: right;\n",
       "    }\n",
       "</style>\n",
       "<table border=\"1\" class=\"dataframe\">\n",
       "  <thead>\n",
       "    <tr style=\"text-align: right;\">\n",
       "      <th></th>\n",
       "      <th>x</th>\n",
       "      <th>y</th>\n",
       "      <th>z</th>\n",
       "      <th>ucx</th>\n",
       "      <th>turkin1</th>\n",
       "    </tr>\n",
       "  </thead>\n",
       "  <tbody>\n",
       "    <tr>\n",
       "      <th>0</th>\n",
       "      <td>0.1</td>\n",
       "      <td>1.1</td>\n",
       "      <td>0.199488</td>\n",
       "      <td>0.719636</td>\n",
       "      <td>0.011769</td>\n",
       "    </tr>\n",
       "    <tr>\n",
       "      <th>1</th>\n",
       "      <td>0.3</td>\n",
       "      <td>1.1</td>\n",
       "      <td>0.200017</td>\n",
       "      <td>0.694261</td>\n",
       "      <td>0.012186</td>\n",
       "    </tr>\n",
       "    <tr>\n",
       "      <th>2</th>\n",
       "      <td>0.1</td>\n",
       "      <td>1.3</td>\n",
       "      <td>0.199488</td>\n",
       "      <td>0.719636</td>\n",
       "      <td>0.012374</td>\n",
       "    </tr>\n",
       "    <tr>\n",
       "      <th>3</th>\n",
       "      <td>0.5</td>\n",
       "      <td>1.1</td>\n",
       "      <td>0.200070</td>\n",
       "      <td>0.700325</td>\n",
       "      <td>0.012030</td>\n",
       "    </tr>\n",
       "    <tr>\n",
       "      <th>4</th>\n",
       "      <td>0.3</td>\n",
       "      <td>1.3</td>\n",
       "      <td>0.200017</td>\n",
       "      <td>0.694261</td>\n",
       "      <td>0.012186</td>\n",
       "    </tr>\n",
       "    <tr>\n",
       "      <th>...</th>\n",
       "      <td>...</td>\n",
       "      <td>...</td>\n",
       "      <td>...</td>\n",
       "      <td>...</td>\n",
       "      <td>...</td>\n",
       "    </tr>\n",
       "    <tr>\n",
       "      <th>8995</th>\n",
       "      <td>17.7</td>\n",
       "      <td>4.7</td>\n",
       "      <td>1.795276</td>\n",
       "      <td>1.234666</td>\n",
       "      <td>0.001459</td>\n",
       "    </tr>\n",
       "    <tr>\n",
       "      <th>8996</th>\n",
       "      <td>17.5</td>\n",
       "      <td>4.9</td>\n",
       "      <td>1.795364</td>\n",
       "      <td>1.214983</td>\n",
       "      <td>0.001035</td>\n",
       "    </tr>\n",
       "    <tr>\n",
       "      <th>8997</th>\n",
       "      <td>17.9</td>\n",
       "      <td>4.7</td>\n",
       "      <td>1.800533</td>\n",
       "      <td>1.251318</td>\n",
       "      <td>0.001467</td>\n",
       "    </tr>\n",
       "    <tr>\n",
       "      <th>8998</th>\n",
       "      <td>17.7</td>\n",
       "      <td>4.9</td>\n",
       "      <td>1.795273</td>\n",
       "      <td>1.234800</td>\n",
       "      <td>0.001246</td>\n",
       "    </tr>\n",
       "    <tr>\n",
       "      <th>8999</th>\n",
       "      <td>17.9</td>\n",
       "      <td>4.9</td>\n",
       "      <td>1.800528</td>\n",
       "      <td>1.251418</td>\n",
       "      <td>0.001297</td>\n",
       "    </tr>\n",
       "  </tbody>\n",
       "</table>\n",
       "<p>9000 rows × 5 columns</p>\n",
       "</div>"
      ],
      "text/plain": [
       "         x    y         z       ucx   turkin1\n",
       "0      0.1  1.1  0.199488  0.719636  0.011769\n",
       "1      0.3  1.1  0.200017  0.694261  0.012186\n",
       "2      0.1  1.3  0.199488  0.719636  0.012374\n",
       "3      0.5  1.1  0.200070  0.700325  0.012030\n",
       "4      0.3  1.3  0.200017  0.694261  0.012186\n",
       "...    ...  ...       ...       ...       ...\n",
       "8995  17.7  4.7  1.795276  1.234666  0.001459\n",
       "8996  17.5  4.9  1.795364  1.214983  0.001035\n",
       "8997  17.9  4.7  1.800533  1.251318  0.001467\n",
       "8998  17.7  4.9  1.795273  1.234800  0.001246\n",
       "8999  17.9  4.9  1.800528  1.251418  0.001297\n",
       "\n",
       "[9000 rows x 5 columns]"
      ]
     },
     "execution_count": 11,
     "metadata": {},
     "output_type": "execute_result"
    }
   ],
   "source": [
    "variables= ['ucx', 'turkin1']\n",
    "\n",
    "Var= d3d.grid_data(d3d_data, variables, points= 'faces')\n",
    "\n",
    "Var"
   ]
  }
 ],
 "metadata": {
  "kernelspec": {
   "display_name": "Python 3",
   "language": "python",
   "name": "python3"
  },
  "language_info": {
   "codemirror_mode": {
    "name": "ipython",
    "version": 3
   },
   "file_extension": ".py",
   "mimetype": "text/x-python",
   "name": "python",
   "nbconvert_exporter": "python",
   "pygments_lexer": "ipython3",
   "version": "3.8.8"
  }
 },
 "nbformat": 4,
 "nbformat_minor": 5
}
