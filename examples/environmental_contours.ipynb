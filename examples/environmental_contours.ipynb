{
 "cells": [
  {
   "cell_type": "markdown",
   "metadata": {},
   "source": [
    "# MHKiT Environmental Contours\n",
    "\n",
    "Environmental contours describing extreme sea states can be used for numerical or physical model simulations analyzing the design-response of WECs. MHKiT includes functions adapted from the [WDRT](https://github.com/WEC-Sim/WDRT) for creating environmental contours of extreme sea states using a principle components analysis (PCA) methodology with additional improvements for characterizing the joint probability distribution of sea state variables of interest. These environmental contours, characterized by combinations of significant wave height (Hs) and either energy period (Te) or peak period (Tp), provide inputs that are associated with a certain reliability interval. These reliability levels are needed to drive both contour and full sea state style long-term extreme response analyses. This notebook will swalk through the following steps to find a 100 year contour for NDBC buoy 46022.\n",
    "\n",
    " 1. Request Spectral Wave Density Data from NDBC\n",
    " 2. Calculate Hs and Te using the NDBC Data\n",
    " 3. Perform the Principal Component Analysis\n",
    " 4. Find the contour line for the 100 year \n",
    " 5. Plot the results\n",
    "\n",
    "Start by importing the necessary python packages and MHKiT module."
   ]
  },
  {
   "cell_type": "code",
   "execution_count": 1,
   "metadata": {},
   "outputs": [],
   "source": [
    "from mhkit.wave import resource\n",
    "import matplotlib.pyplot as plt\n",
    "from mhkit.wave.io import ndbc\n",
    "from scipy import stats\n",
    "import pandas as pd\n",
    "import numpy as np\n"
   ]
  },
  {
   "cell_type": "markdown",
   "metadata": {},
   "source": [
    "## 1. Request Spectral Wave Density Data from NDBC\n",
    "   \n",
    "MHKiT can request historical data from the National Data Buoy Center (NDBC). This can be done by requesting the available data for a given parameter and buoy number then requesting the data for the desired data. We will start by looking at the function documentation for `mhkit.wave.io.ndbc.available_data`."
   ]
  },
  {
   "cell_type": "code",
   "execution_count": 2,
   "metadata": {},
   "outputs": [
    {
     "name": "stdout",
     "output_type": "stream",
     "text": [
      "Help on function available_data in module mhkit.wave.io.ndbc:\n",
      "\n",
      "available_data(parameter, buoy_number=None, proxy=None)\n",
      "    For a given parameter this will return a DataFrame of years, \n",
      "    station IDs and file names that contain that parameter data.              \n",
      "    \n",
      "    Parameters\n",
      "    ----------\n",
      "    parameter: string\n",
      "        'swden' :       'Raw Spectral Wave Current Year Historical Data'\n",
      "        'stdmet':   'Standard Meteorological Current Year Historical Data'\n",
      "        \n",
      "    buoy_number: string (optional)\n",
      "        Buoy Number.  5-character alpha-numeric station identifier   \n",
      "        \n",
      "    proxy: dict\n",
      "            Proxy dict passed to python requests, \n",
      "        (e.g. proxy_dict= {\"http\": 'http:wwwproxy.yourProxy:80/'})  \n",
      "        \n",
      "    Returns\n",
      "    -------\n",
      "    available_data: DataFrame\n",
      "        DataFrame with station ID, years, and NDBC file names.\n",
      "\n"
     ]
    }
   ],
   "source": [
    "help(ndbc.available_data)"
   ]
  },
  {
   "cell_type": "markdown",
   "metadata": {},
   "source": [
    "Looking at the help for the `ndbc.available_data` we can see that the function requires a parameter to be specified and that we can optionally provide a buoy_number as a string. Of the listed parameters we are interesed in `'swden'` and we will specify the buoy number as `'46022'`."
   ]
  },
  {
   "cell_type": "code",
   "execution_count": 3,
   "metadata": {
    "scrolled": false
   },
   "outputs": [],
   "source": [
    "# Specify the parameter to be spectral wave density and the buoy number to be 46022\n",
    "spectral_wave_density='swden'\n",
    "buoy_number = '46022' \n",
    "available_data= ndbc.available_data(spectral_wave_density, buoy_number)\n",
    "# Remove 'b' from 'b2004' and convert strings to numeric type\n",
    "available_data['year']=pd.to_numeric(available_data.year.str.strip('b'))"
   ]
  },
  {
   "cell_type": "markdown",
   "metadata": {},
   "source": [
    "The `ndbc.available_data` function has returned a dataframe with columns 'id', 'year', and 'filename'. All three of these columns are of type string because buoy_numbers (id) are defined as 5 digit alpha number specifiers, years sometimes split (e.g. 'b2004').  In this case the years span from 1996 to 2019 and for demonstration we have decided we are interested in the data between years 1996 and 2012. Because the list needs to contain `'b2004'` "
   ]
  },
  {
   "cell_type": "code",
   "execution_count": 4,
   "metadata": {
    "scrolled": true
   },
   "outputs": [],
   "source": [
    "# Create a list of years of interest\n",
    "subYears = [*range(1996,2013)]\n",
    "# Slice the DataFrame on years of interest\n",
    "yearsOfInterest = available_data[available_data.year.isin(subYears)]"
   ]
  },
  {
   "cell_type": "markdown",
   "metadata": {},
   "source": [
    "Using the filenames from our `yearsOfInterest` we can request data from NDC and return a dictionary of DataFrames indexed by years."
   ]
  },
  {
   "cell_type": "code",
   "execution_count": 5,
   "metadata": {},
   "outputs": [],
   "source": [
    "# Get dictionary of parameter data by year\n",
    "filenames= yearsOfInterest['filename']\n",
    "ndbc_data = ndbc.request_data(spectral_wave_density, filenames)\n",
    "\n",
    "# Lastly we will convert a DateTime Index \n",
    "mhkit_data={}\n",
    "# Create a Datetime Index and remove NOAA date columns for each year\n",
    "for year in ndbc_data:\n",
    "   year_data = ndbc_data[year]\n",
    "   year_data['date'], ndbc_date_cols = ndbc.dates_to_datetime(spectral_wave_density, \n",
    "                                                              year_data, \n",
    "                                                              return_date_cols=True)\n",
    "   year_data = year_data.drop(ndbc_date_cols, axis=1)\n",
    "   year_data = year_data.set_index('date')\n",
    "   # Convert columns to float now that the ndbc_date_cols (type=str) are gone\n",
    "   year_data.columns = year_data.columns.astype(float)     \n",
    "   mhkit_data[year] = year_data"
   ]
  },
  {
   "cell_type": "markdown",
   "metadata": {},
   "source": [
    "## 2. Calculate Hs and Te using the NDBC Data\n",
    "\n"
   ]
  },
  {
   "cell_type": "code",
   "execution_count": 6,
   "metadata": {},
   "outputs": [],
   "source": [
    "#=======================================================================\n",
    "# Calculate Hm0 and Te for each year\n",
    "#=======================================================================\n",
    "Hs={}\n",
    "Te={}\n",
    "for year in mhkit_data:\n",
    "    year_data = mhkit_data[year]\n",
    "    Hs[year] = resource.significant_wave_height(year_data.T)\n",
    "    Te[year] = resource.energy_period(year_data.T)\n",
    "\n",
    "\n",
    "Hs_list = [ v for k,v in Hs.items()]; \n",
    "Te_list = [ v for k,v in Te.items()]; \n",
    "\n",
    "Hs= pd.concat(Hs_list ,axis=0)\n",
    "Te= pd.concat(Te_list ,axis=0)\n",
    "\n",
    "Hs['Te'] = Te.Te\n",
    "Hs.dropna(inplace=True)\n",
    "\n",
    "# Save the data locally\n",
    "Hs.to_pickle(f'{buoy_number}Hm0Te.pkl')"
   ]
  },
  {
   "cell_type": "markdown",
   "metadata": {},
   "source": [
    "## 3. Perform the Principal Component Analysis \n"
   ]
  },
  {
   "cell_type": "code",
   "execution_count": 7,
   "metadata": {},
   "outputs": [],
   "source": [
    "df_raw=Hs.copy(deep=True)\n",
    "\n",
    "# Remove Outliers\n",
    "df = df_raw[df_raw['Hm0'] < 20]\n",
    "\n",
    "PCA  = resource.principal_component_analysis(df.Hm0.values, df.Te.values)"
   ]
  },
  {
   "cell_type": "markdown",
   "metadata": {},
   "source": [
    "## 4. Find the contour line for the 100 year"
   ]
  },
  {
   "cell_type": "code",
   "execution_count": 8,
   "metadata": {},
   "outputs": [],
   "source": [
    "# Declare required parameters\n",
    "time_SS = 1.  # Sea state duration (hrs)\n",
    "time_R = 100  # Return periods (yrs) of interest\n",
    "Hs_Return, T_Return = resource.environmental_contour(time_SS, time_R, PCA , nb_steps=1000)"
   ]
  },
  {
   "cell_type": "markdown",
   "metadata": {},
   "source": [
    "## 5. Plot overlay of the data and Contour\n",
    "Finally, annual energy produced is computed, as shown below.\n",
    "\n",
    "Note: The function `energy_produced` returns units of Joules(3600 Joules = 1 Wh)."
   ]
  },
  {
   "cell_type": "code",
   "execution_count": 9,
   "metadata": {
    "scrolled": true
   },
   "outputs": [
    {
     "data": {
      "image/png": "[encoded data removed]",
      "text/plain": [
       "<Figure size 432x288 with 1 Axes>"
      ]
     },
     "metadata": {
      "needs_background": "light"
     },
     "output_type": "display_data"
    }
   ],
   "source": [
    "# \"\"\"\n",
    "# Display a plot of the 100-year return contour, full sea state samples\n",
    "# and contour samples\n",
    "# \"\"\"\n",
    "\n",
    "plt.figure()\n",
    "\n",
    "plt.plot(df.Te, df.Hm0, 'bo', alpha=0.1, label='NDBC data')\n",
    "plt.plot(T_Return, Hs_Return, 'k-', label='100 year contour')\n",
    "\n",
    "plt.legend(loc='lower right', fontsize='small')\n",
    "plt.grid(True)\n",
    "plt.xlabel('Energy period, $T_e$ [s]')\n",
    "plt.ylabel('Sig. wave height, $H_s$ [m]')\n",
    "plt.show()"
   ]
  },
  {
   "cell_type": "code",
   "execution_count": null,
   "metadata": {},
   "outputs": [],
   "source": []
  }
 ],
 "metadata": {
  "kernelspec": {
   "display_name": "Python 3",
   "language": "python",
   "name": "python3"
  },
  "language_info": {
   "codemirror_mode": {
    "name": "ipython",
    "version": 3
   },
   "file_extension": ".py",
   "mimetype": "text/x-python",
   "name": "python",
   "nbconvert_exporter": "python",
   "pygments_lexer": "ipython3",
   "version": "3.8.3"
  }
 },
 "nbformat": 4,
 "nbformat_minor": 2
}
