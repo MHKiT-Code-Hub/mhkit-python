{
 "cells": [
  {
   "cell_type": "markdown",
   "metadata": {},
   "source": [
    "# MHKiT Environmental Contours\n",
    "\n",
    "Environmental contours describing extreme sea states can be used for numerical or physical model simulations analyzing the design-response of WECs. MHKiT includes functions adapted from the [WDRT](https://github.com/WEC-Sim/WDRT) for creating environmental contours of extreme sea states using a principle components analysis (PCA) methodology with additional improvements for characterizing the joint probability distribution of sea state variables of interest. These environmental contours, characterized by combinations of significant wave height (Hm0) and energy period (Te) or peak period (Tp), provide inputs that are associated with a certain reliability interval. These reliability levels are needed to drive both contour and full sea state style long-term extreme response analyses. This notebook will walk through the following steps to find a 100 year contour for NDBC buoy 46022.\n",
    "\n",
    " 1. Request Spectral Wave Density Data from NDBC\n",
    " 2. Calculate Hm0 and Te using the requested data\n",
    " 3. Find the data's 100-year contour\n",
    " 4. Plot the data and the 100-year contour\n",
    "\n",
    "We will start by importing the necessary python packages (`scipy`, `pandas`, `numpy`) and MHKiT wave submodules (`resource`, `graphics`, and `io.ndbc`)."
   ]
  },
  {
   "cell_type": "code",
   "execution_count": 1,
   "metadata": {},
   "outputs": [],
   "source": [
    "from mhkit.wave import resource, graphics\n",
    "import matplotlib.pyplot as plt\n",
    "from mhkit.wave.io import ndbc\n",
    "from scipy import stats\n",
    "import pandas as pd\n",
    "import numpy as np"
   ]
  },
  {
   "cell_type": "markdown",
   "metadata": {},
   "source": [
    "## 1. Request Spectral Wave Density Data from NDBC\n",
    "   \n",
    "MHKiT can be used to request historical data from the National Data Buoy Center ([NDBC](https://www.ndbc.noaa.gov/)). This process is split into 2 steps where:\n",
    "\n",
    " 1. The user requests the available data for a given parameter and optionally a buoy number. \n",
    " 2. The user passes the desired filenames from the available data\n",
    " \n",
    "Looking at the help for the `available_data` function (e.g. `help(ndbc.available_data)`) the function requires a parameter to be specified (e.g `'swden'`) and optionally the user may provide a station ID as a string. he environmental contour we are interested in historical data `'swden'` and we will specify the buoy number as `'46022'`."
   ]
  },
  {
   "cell_type": "code",
   "execution_count": 2,
   "metadata": {
    "scrolled": false
   },
   "outputs": [
    {
     "data": {
      "text/html": [
       "<div>\n",
       "<style scoped>\n",
       "    .dataframe tbody tr th:only-of-type {\n",
       "        vertical-align: middle;\n",
       "    }\n",
       "\n",
       "    .dataframe tbody tr th {\n",
       "        vertical-align: top;\n",
       "    }\n",
       "\n",
       "    .dataframe thead th {\n",
       "        text-align: right;\n",
       "    }\n",
       "</style>\n",
       "<table border=\"1\" class=\"dataframe\">\n",
       "  <thead>\n",
       "    <tr style=\"text-align: right;\">\n",
       "      <th></th>\n",
       "      <th>id</th>\n",
       "      <th>year</th>\n",
       "      <th>filename</th>\n",
       "    </tr>\n",
       "  </thead>\n",
       "  <tbody>\n",
       "    <tr>\n",
       "      <th>1434</th>\n",
       "      <td>46022</td>\n",
       "      <td>2016</td>\n",
       "      <td>46022w2016.txt.gz</td>\n",
       "    </tr>\n",
       "    <tr>\n",
       "      <th>1435</th>\n",
       "      <td>46022</td>\n",
       "      <td>2017</td>\n",
       "      <td>46022w2017.txt.gz</td>\n",
       "    </tr>\n",
       "    <tr>\n",
       "      <th>1436</th>\n",
       "      <td>46022</td>\n",
       "      <td>2018</td>\n",
       "      <td>46022w2018.txt.gz</td>\n",
       "    </tr>\n",
       "    <tr>\n",
       "      <th>1437</th>\n",
       "      <td>46022</td>\n",
       "      <td>2019</td>\n",
       "      <td>46022w2019.txt.gz</td>\n",
       "    </tr>\n",
       "    <tr>\n",
       "      <th>1438</th>\n",
       "      <td>46022</td>\n",
       "      <td>2004</td>\n",
       "      <td>46022wb2004.txt.gz</td>\n",
       "    </tr>\n",
       "  </tbody>\n",
       "</table>\n",
       "</div>"
      ],
      "text/plain": [
       "         id  year            filename\n",
       "1434  46022  2016   46022w2016.txt.gz\n",
       "1435  46022  2017   46022w2017.txt.gz\n",
       "1436  46022  2018   46022w2018.txt.gz\n",
       "1437  46022  2019   46022w2019.txt.gz\n",
       "1438  46022  2004  46022wb2004.txt.gz"
      ]
     },
     "execution_count": 2,
     "metadata": {},
     "output_type": "execute_result"
    }
   ],
   "source": [
    "# Specify the parameter as spectral wave density and the buoy number to be 46022\n",
    "spectral_wave_density='swden'\n",
    "buoy_number = '46022' \n",
    "available_data= ndbc.available_data(spectral_wave_density, buoy_number)\n",
    "available_data.tail()"
   ]
  },
  {
   "cell_type": "markdown",
   "metadata": {},
   "source": [
    "### Select years of interest\n",
    "The `ndbc.available_data` function has returned a DataFrame with columns 'id', 'year', and 'filename'. The year column is of type int and the id (5 digit alpha-numeric specifier) and filename are of type string. In this case the years returned from available_data span 1996 to the last complete year the buoy was operational (currently 2019 for 46022). For demonstration we have decided we are interested in the data between years 1996 and 2012 so we will create a new DataFrame which only contains years less than 2013.  "
   ]
  },
  {
   "cell_type": "code",
   "execution_count": 3,
   "metadata": {
    "scrolled": true
   },
   "outputs": [
    {
     "data": {
      "text/html": [
       "<div>\n",
       "<style scoped>\n",
       "    .dataframe tbody tr th:only-of-type {\n",
       "        vertical-align: middle;\n",
       "    }\n",
       "\n",
       "    .dataframe tbody tr th {\n",
       "        vertical-align: top;\n",
       "    }\n",
       "\n",
       "    .dataframe thead th {\n",
       "        text-align: right;\n",
       "    }\n",
       "</style>\n",
       "<table border=\"1\" class=\"dataframe\">\n",
       "  <thead>\n",
       "    <tr style=\"text-align: right;\">\n",
       "      <th></th>\n",
       "      <th>id</th>\n",
       "      <th>year</th>\n",
       "      <th>filename</th>\n",
       "    </tr>\n",
       "  </thead>\n",
       "  <tbody>\n",
       "    <tr>\n",
       "      <th>1427</th>\n",
       "      <td>46022</td>\n",
       "      <td>2009</td>\n",
       "      <td>46022w2009.txt.gz</td>\n",
       "    </tr>\n",
       "    <tr>\n",
       "      <th>1428</th>\n",
       "      <td>46022</td>\n",
       "      <td>2010</td>\n",
       "      <td>46022w2010.txt.gz</td>\n",
       "    </tr>\n",
       "    <tr>\n",
       "      <th>1429</th>\n",
       "      <td>46022</td>\n",
       "      <td>2011</td>\n",
       "      <td>46022w2011.txt.gz</td>\n",
       "    </tr>\n",
       "    <tr>\n",
       "      <th>1430</th>\n",
       "      <td>46022</td>\n",
       "      <td>2012</td>\n",
       "      <td>46022w2012.txt.gz</td>\n",
       "    </tr>\n",
       "    <tr>\n",
       "      <th>1438</th>\n",
       "      <td>46022</td>\n",
       "      <td>2004</td>\n",
       "      <td>46022wb2004.txt.gz</td>\n",
       "    </tr>\n",
       "  </tbody>\n",
       "</table>\n",
       "</div>"
      ],
      "text/plain": [
       "         id  year            filename\n",
       "1427  46022  2009   46022w2009.txt.gz\n",
       "1428  46022  2010   46022w2010.txt.gz\n",
       "1429  46022  2011   46022w2011.txt.gz\n",
       "1430  46022  2012   46022w2012.txt.gz\n",
       "1438  46022  2004  46022wb2004.txt.gz"
      ]
     },
     "execution_count": 3,
     "metadata": {},
     "output_type": "execute_result"
    }
   ],
   "source": [
    "# Slice the DataFrame on years of interest\n",
    "yearsOfInterest = available_data[available_data.year < 2013]\n",
    "yearsOfInterest.tail()"
   ]
  },
  {
   "cell_type": "markdown",
   "metadata": {},
   "source": [
    "### Request Data from NDBC\n",
    "The filename in our DataFrame and the parameter is needed to request the data. The `ndbc.request_data` function will iterate over each buoy, and year to return the parameter data as a DataFrame.  Lastly, we can convert the NDBC time columns to DateTime and set this as the index for each DataFrame by looping over the years.\n",
    "With the data Using the filenames from our `yearsOfInterest` we can request data from NDC and return a dictionary of DataFrames indexed by years."
   ]
  },
  {
   "cell_type": "code",
   "execution_count": null,
   "metadata": {},
   "outputs": [],
   "source": [
    "# Get dictionary of parameter data by year\n",
    "filenames= yearsOfInterest['filename']\n",
    "ndbc_data = ndbc.request_data(spectral_wave_density, filenames)"
   ]
  },
  {
   "cell_type": "markdown",
   "metadata": {},
   "source": [
    "### Convert the DataFrames to DateTime Index\n",
    "The data return for each year has variable number of columns for the year, month, day, hour, minute and the way the columns are formatted. The function `ndbc.to_datetime_index` will parse these columns into DateTime format, remove the columns used to create the DateTime column, and set the index to be the DateTime column. This function operates on a DateFrame so we will iterate over each year of the `ndbc_data` dictionary."
   ]
  },
  {
   "cell_type": "code",
   "execution_count": null,
   "metadata": {},
   "outputs": [],
   "source": [
    "# Lastly we will convert a DateTime Index \n",
    "mhkit_data={}\n",
    "# Create a Datetime Index and remove NOAA date columns for each year\n",
    "for year in ndbc_data:\n",
    "    year_data = ndbc_data[year]\n",
    "    mhkit_data[year] = ndbc.to_datetime_index(spectral_wave_density, year_data)"
   ]
  },
  {
   "cell_type": "markdown",
   "metadata": {},
   "source": [
    "## 2. Calculate Hm0 and Te using the NDBC Data\n",
    "We can now use MHKiT to calculate Hm0 and Te for each year and then combine the resultant metrics into a single DataFrame. "
   ]
  },
  {
   "cell_type": "code",
   "execution_count": null,
   "metadata": {},
   "outputs": [],
   "source": [
    "# Intialize empty lists to store the results from each year\n",
    "Hm0_list=[]\n",
    "Te_list=[]\n",
    "\n",
    "# Iterate over each year and save the result in the initalized dictionary\n",
    "for year in mhkit_data:\n",
    "    year_data = mhkit_data[year]\n",
    "    Hm0_list.append(resource.significant_wave_height(year_data.T))\n",
    "    Te_list.append(resource.energy_period(year_data.T))\n",
    "\n",
    "# Concatenate list of Series into a single DataFrame\n",
    "Te     = pd.concat(Te_list ,axis=0)\n",
    "Hm0_Te = pd.concat(Hm0_list ,axis=0)\n",
    "Hm0_Te['Te'] = Te.Te\n",
    "\n",
    "# Drop any NaNs created from the calculation of Hm0 or Te\n",
    "Hm0_Te.dropna(inplace=True)\n",
    "# Sort the DateTime index\n",
    "Hm0_Te.sort_index(inplace=True)\n",
    "Hm0_Te"
   ]
  },
  {
   "cell_type": "markdown",
   "metadata": {},
   "source": [
    "## 3. Find the contour line for the 100 year\n",
    "We can now apply the environmental contours function to find the expected 100-year sea-state. In addition to the sea state value (Hm0, Te) we need to specify the time difference between measurements (dt in seconds) and specify the contour year of interest (e.g. 100 years)."
   ]
  },
  {
   "cell_type": "code",
   "execution_count": null,
   "metadata": {},
   "outputs": [],
   "source": [
    "# Return periods (yrs) of interest\n",
    "contour_year = 100  \n",
    "\n",
    "# Remove Outliers\n",
    "Hm0_Te_clean = Hm0_Te[Hm0_Te.Hm0 < 20]\n",
    "\n",
    "# Get only the values from the DataFrame\n",
    "Hm0 = Hm0_Te_clean.Hm0.values  \n",
    "Te  = Hm0_Te_clean.Te.values \n",
    "\n",
    "# Delta time of sea-states \n",
    "dt = (Hm0_Te_clean.index[2]-Hm0_Te_clean.index[1]).seconds  \n",
    "\n",
    "# Get the contour values\n",
    "Hm0_contour, Te_contour = resource.environmental_contour(Hm0, Te, dt, contour_year)"
   ]
  },
  {
   "cell_type": "markdown",
   "metadata": {},
   "source": [
    "## 4. Plot overlay of the data and contour\n",
    "Lastly we can use the MHKiT graphics module to create a contour plot which shows the data and resultant conotour line."
   ]
  },
  {
   "cell_type": "code",
   "execution_count": null,
   "metadata": {
    "scrolled": true
   },
   "outputs": [],
   "source": [
    "graphics.plot_environmental_contour(Hm0, Te, \n",
    "                                    Hm0_contour, Te_contour, \n",
    "                                    data_label='NDBC 46022', \n",
    "                                    contour_label='100 Year Contour')"
   ]
  }
 ],
 "metadata": {
  "kernelspec": {
   "display_name": "Python 3",
   "language": "python",
   "name": "python3"
  },
  "language_info": {
   "codemirror_mode": {
    "name": "ipython",
    "version": 3
   },
   "file_extension": ".py",
   "mimetype": "text/x-python",
   "name": "python",
   "nbconvert_exporter": "python",
   "pygments_lexer": "ipython3",
   "version": "3.8.3"
  }
 },
 "nbformat": 4,
 "nbformat_minor": 2
}
