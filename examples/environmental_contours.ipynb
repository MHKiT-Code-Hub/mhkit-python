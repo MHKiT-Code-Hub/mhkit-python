{
 "cells": [
  {
   "cell_type": "markdown",
   "metadata": {},
   "source": [
    "# MHKiT Environmental Contours\n",
    "\n",
    "Environmental contours describing extreme sea states can be used for numerical or physical model simulations analyzing the design-response of WECs. MHKiT includes functions adapted from the [WDRT](https://github.com/WEC-Sim/WDRT) for creating environmental contours of extreme sea states using a principle components analysis (PCA) methodology with additional improvements for characterizing the joint probability distribution of sea state variables of interest. These environmental contours, characterized by combinations of significant wave height (Hs) and either energy period (Te) or peak period (Tp), provide inputs that are associated with a certain reliability interval. These reliability levels are needed to drive both contour and full sea state style long-term extreme response analyses. This notebook will swalk through the following steps to find a 100 year contour for NDBC buoy 46022.\n",
    "\n",
    " 1. Request Spectral Wave Density Data from NDBC\n",
    " 2. Calculate Hs and Te using the NDBC Data\n",
    " 3. Perform the Principal Component Analysis\n",
    " 4. Find the contour line for the 100 year \n",
    " 5. Plot the results\n",
    "\n",
    "Start by importing the necessary python packages and MHKiT module."
   ]
  },
  {
   "cell_type": "code",
   "execution_count": 1,
   "metadata": {},
   "outputs": [],
   "source": [
    "\n",
    "from mhkit.wave import resource, graphics\n",
    "import matplotlib.pyplot as plt\n",
    "from mhkit.wave.io import ndbc\n",
    "from scipy import stats\n",
    "import pandas as pd\n",
    "import numpy as np"
   ]
  },
  {
   "cell_type": "markdown",
   "metadata": {},
   "source": [
    "## 1. Request Spectral Wave Density Data from NDBC\n",
    "   \n",
    "MHKiT can be used to request historical data from the National Data Buoy Center (NDBC). This process is split into 2 steps where first the user requests the available data for a given parameter and optionally a buoy number. We will looking at the function documentation for `mhkit.wave.io.ndbc.available_data`.\n",
    "`help(ndbc.available_data)`\n",
    "Looking at the help for the `available_data` function (e.g. `help(ndbc.available_data)`) the function requires a parameter to be specified optionally provide a buoy_number may be provided as a string. For the creating the environmental contour we are interested in historical data `'swden'` and we will specify the buoy number as `'46022'`."
   ]
  },
  {
   "cell_type": "code",
   "execution_count": 2,
   "metadata": {
    "scrolled": false
   },
   "outputs": [
    {
     "data": {
      "text/html": [
       "<div>\n",
       "<style scoped>\n",
       "    .dataframe tbody tr th:only-of-type {\n",
       "        vertical-align: middle;\n",
       "    }\n",
       "\n",
       "    .dataframe tbody tr th {\n",
       "        vertical-align: top;\n",
       "    }\n",
       "\n",
       "    .dataframe thead th {\n",
       "        text-align: right;\n",
       "    }\n",
       "</style>\n",
       "<table border=\"1\" class=\"dataframe\">\n",
       "  <thead>\n",
       "    <tr style=\"text-align: right;\">\n",
       "      <th></th>\n",
       "      <th>id</th>\n",
       "      <th>year</th>\n",
       "      <th>filename</th>\n",
       "    </tr>\n",
       "  </thead>\n",
       "  <tbody>\n",
       "    <tr>\n",
       "      <th>1434</th>\n",
       "      <td>46022</td>\n",
       "      <td>2016</td>\n",
       "      <td>46022w2016.txt.gz</td>\n",
       "    </tr>\n",
       "    <tr>\n",
       "      <th>1435</th>\n",
       "      <td>46022</td>\n",
       "      <td>2017</td>\n",
       "      <td>46022w2017.txt.gz</td>\n",
       "    </tr>\n",
       "    <tr>\n",
       "      <th>1436</th>\n",
       "      <td>46022</td>\n",
       "      <td>2018</td>\n",
       "      <td>46022w2018.txt.gz</td>\n",
       "    </tr>\n",
       "    <tr>\n",
       "      <th>1437</th>\n",
       "      <td>46022</td>\n",
       "      <td>2019</td>\n",
       "      <td>46022w2019.txt.gz</td>\n",
       "    </tr>\n",
       "    <tr>\n",
       "      <th>1438</th>\n",
       "      <td>46022</td>\n",
       "      <td>2004</td>\n",
       "      <td>46022wb2004.txt.gz</td>\n",
       "    </tr>\n",
       "  </tbody>\n",
       "</table>\n",
       "</div>"
      ],
      "text/plain": [
       "         id  year            filename\n",
       "1434  46022  2016   46022w2016.txt.gz\n",
       "1435  46022  2017   46022w2017.txt.gz\n",
       "1436  46022  2018   46022w2018.txt.gz\n",
       "1437  46022  2019   46022w2019.txt.gz\n",
       "1438  46022  2004  46022wb2004.txt.gz"
      ]
     },
     "execution_count": 2,
     "metadata": {},
     "output_type": "execute_result"
    }
   ],
   "source": [
    "# Specify the parameter to be spectral wave density and the buoy number to be 46022\n",
    "spectral_wave_density='swden'\n",
    "buoy_number = '46022' \n",
    "available_data= ndbc.available_data(spectral_wave_density, buoy_number)\n",
    "available_data.tail()"
   ]
  },
  {
   "cell_type": "markdown",
   "metadata": {},
   "source": [
    "The `ndbc.available_data` function has returned a dataframe with columns 'id', 'year', and 'filename'. All three of these columns are of type string because buoy_numbers (id) are defined as 5 digit alpha number specifiers, years sometimes split (e.g. 'b2004').  In this case the years span from 1996 to 2019 and for demonstration we have decided we are interested in the data between years 1996 and 2012. Because the list needs to contain `'b2004'` "
   ]
  },
  {
   "cell_type": "code",
   "execution_count": 3,
   "metadata": {
    "scrolled": true
   },
   "outputs": [
    {
     "data": {
      "text/html": [
       "<div>\n",
       "<style scoped>\n",
       "    .dataframe tbody tr th:only-of-type {\n",
       "        vertical-align: middle;\n",
       "    }\n",
       "\n",
       "    .dataframe tbody tr th {\n",
       "        vertical-align: top;\n",
       "    }\n",
       "\n",
       "    .dataframe thead th {\n",
       "        text-align: right;\n",
       "    }\n",
       "</style>\n",
       "<table border=\"1\" class=\"dataframe\">\n",
       "  <thead>\n",
       "    <tr style=\"text-align: right;\">\n",
       "      <th></th>\n",
       "      <th>id</th>\n",
       "      <th>year</th>\n",
       "      <th>filename</th>\n",
       "    </tr>\n",
       "  </thead>\n",
       "  <tbody>\n",
       "    <tr>\n",
       "      <th>1427</th>\n",
       "      <td>46022</td>\n",
       "      <td>2009</td>\n",
       "      <td>46022w2009.txt.gz</td>\n",
       "    </tr>\n",
       "    <tr>\n",
       "      <th>1428</th>\n",
       "      <td>46022</td>\n",
       "      <td>2010</td>\n",
       "      <td>46022w2010.txt.gz</td>\n",
       "    </tr>\n",
       "    <tr>\n",
       "      <th>1429</th>\n",
       "      <td>46022</td>\n",
       "      <td>2011</td>\n",
       "      <td>46022w2011.txt.gz</td>\n",
       "    </tr>\n",
       "    <tr>\n",
       "      <th>1430</th>\n",
       "      <td>46022</td>\n",
       "      <td>2012</td>\n",
       "      <td>46022w2012.txt.gz</td>\n",
       "    </tr>\n",
       "    <tr>\n",
       "      <th>1438</th>\n",
       "      <td>46022</td>\n",
       "      <td>2004</td>\n",
       "      <td>46022wb2004.txt.gz</td>\n",
       "    </tr>\n",
       "  </tbody>\n",
       "</table>\n",
       "</div>"
      ],
      "text/plain": [
       "         id  year            filename\n",
       "1427  46022  2009   46022w2009.txt.gz\n",
       "1428  46022  2010   46022w2010.txt.gz\n",
       "1429  46022  2011   46022w2011.txt.gz\n",
       "1430  46022  2012   46022w2012.txt.gz\n",
       "1438  46022  2004  46022wb2004.txt.gz"
      ]
     },
     "execution_count": 3,
     "metadata": {},
     "output_type": "execute_result"
    }
   ],
   "source": [
    "# Create a list of years of interest\n",
    "subYears = [*range(1996,2013)]\n",
    "# Slice the DataFrame on years of interest\n",
    "yearsOfInterest = available_data[available_data.year.isin(subYears)]\n",
    "yearsOfInterest.tail()"
   ]
  },
  {
   "cell_type": "markdown",
   "metadata": {},
   "source": [
    "Using the filenames from our `yearsOfInterest` we can request data from NDC and return a dictionary of DataFrames indexed by years."
   ]
  },
  {
   "cell_type": "code",
   "execution_count": 4,
   "metadata": {},
   "outputs": [],
   "source": [
    "# Get dictionary of parameter data by year\n",
    "filenames= yearsOfInterest['filename']\n",
    "ndbc_data = ndbc.request_data(spectral_wave_density, filenames)\n",
    "\n",
    "# Lastly we will convert a DateTime Index \n",
    "mhkit_data={}\n",
    "# Create a Datetime Index and remove NOAA date columns for each year\n",
    "for year in ndbc_data:\n",
    "   year_data = ndbc_data[year]\n",
    "   year_data['date'], ndbc_date_cols = ndbc.dates_to_datetime(spectral_wave_density, \n",
    "                                                              year_data, \n",
    "                                                              return_date_cols=True)\n",
    "   year_data = year_data.drop(ndbc_date_cols, axis=1)\n",
    "   year_data = year_data.set_index('date')\n",
    "   # Convert columns to float now that the ndbc_date_cols (type=str) are gone\n",
    "   year_data.columns = year_data.columns.astype(float)     \n",
    "   mhkit_data[year] = year_data"
   ]
  },
  {
   "cell_type": "markdown",
   "metadata": {},
   "source": [
    "## 2. Calculate Hs and Te using the NDBC Data\n",
    "\n"
   ]
  },
  {
   "cell_type": "code",
   "execution_count": 5,
   "metadata": {},
   "outputs": [],
   "source": [
    "#=======================================================================\n",
    "# Calculate Hm0 and Te for each year\n",
    "#=======================================================================\n",
    "Hs={}\n",
    "Te={}\n",
    "for year in mhkit_data:\n",
    "    year_data = mhkit_data[year]\n",
    "    Hs[year] = resource.significant_wave_height(year_data.T)\n",
    "    Te[year] = resource.energy_period(year_data.T)\n",
    "\n",
    "\n",
    "Hs_list = [ v for k,v in Hs.items()]; \n",
    "Te_list = [ v for k,v in Te.items()]; \n",
    "\n",
    "Hs= pd.concat(Hs_list ,axis=0)\n",
    "Te= pd.concat(Te_list ,axis=0)\n",
    "\n",
    "Hs['Te'] = Te.Te\n",
    "Hs.dropna(inplace=True)\n",
    "\n",
    "# Save the data locally\n",
    "Hs.to_pickle(f'{buoy_number}Hm0Te.pkl')"
   ]
  },
  {
   "cell_type": "markdown",
   "metadata": {},
   "source": [
    "## 3. Perform the Principal Component Analysis \n"
   ]
  },
  {
   "cell_type": "code",
   "execution_count": 10,
   "metadata": {},
   "outputs": [
    {
     "data": {
      "text/plain": [
       "1.0"
      ]
     },
     "execution_count": 10,
     "metadata": {},
     "output_type": "execute_result"
    }
   ],
   "source": [
    "df_raw=Hs.copy(deep=True)\n",
    "\n",
    "# Remove Outliers\n",
    "df = df_raw[df_raw['Hm0'] < 20]\n",
    "\n",
    "Hm0 = df.Hm0.values  \n",
    "Te = df.Te.values \n",
    "\n",
    "# Delta time of sea-states \n",
    "dt_ss = (df.index[2]-df.index[1]).seconds  \n",
    "# Return periods (yrs) of interest\n",
    "contour_year = 100  \n",
    "Hs_Return, T_Return = resource.environmental_contour(Hm0, Te, time_SS, time_R)"
   ]
  },
  {
   "cell_type": "markdown",
   "metadata": {},
   "source": [
    "## 4. Find the contour line for the 100 year"
   ]
  },
  {
   "cell_type": "code",
   "execution_count": 7,
   "metadata": {},
   "outputs": [
    {
     "ename": "NameError",
     "evalue": "name 'PCA' is not defined",
     "output_type": "error",
     "traceback": [
      "\u001b[1;31m---------------------------------------------------------------------------\u001b[0m",
      "\u001b[1;31mNameError\u001b[0m                                 Traceback (most recent call last)",
      "\u001b[1;32m<ipython-input-7-e592aca98afd>\u001b[0m in \u001b[0;36m<module>\u001b[1;34m\u001b[0m\n\u001b[0;32m      2\u001b[0m \u001b[0mtime_SS\u001b[0m \u001b[1;33m=\u001b[0m \u001b[1;36m1.\u001b[0m  \u001b[1;31m# Sea state duration (hrs)\u001b[0m\u001b[1;33m\u001b[0m\u001b[1;33m\u001b[0m\u001b[0m\n\u001b[0;32m      3\u001b[0m \u001b[0mtime_R\u001b[0m \u001b[1;33m=\u001b[0m \u001b[1;36m100\u001b[0m  \u001b[1;31m# Return periods (yrs) of interest\u001b[0m\u001b[1;33m\u001b[0m\u001b[1;33m\u001b[0m\u001b[0m\n\u001b[1;32m----> 4\u001b[1;33m \u001b[0mHm0_contour\u001b[0m\u001b[1;33m,\u001b[0m \u001b[0mT_contour\u001b[0m \u001b[1;33m=\u001b[0m \u001b[0mresource\u001b[0m\u001b[1;33m.\u001b[0m\u001b[0menvironmental_contour\u001b[0m\u001b[1;33m(\u001b[0m\u001b[0mtime_SS\u001b[0m\u001b[1;33m,\u001b[0m \u001b[0mtime_R\u001b[0m\u001b[1;33m,\u001b[0m \u001b[0mPCA\u001b[0m \u001b[1;33m,\u001b[0m \u001b[0mnb_steps\u001b[0m\u001b[1;33m=\u001b[0m\u001b[1;36m1000\u001b[0m\u001b[1;33m)\u001b[0m\u001b[1;33m\u001b[0m\u001b[1;33m\u001b[0m\u001b[0m\n\u001b[0m",
      "\u001b[1;31mNameError\u001b[0m: name 'PCA' is not defined"
     ]
    }
   ],
   "source": [
    "# Declare required parameters\n",
    "time_SS = 1.  # Sea state duration (hrs)\n",
    "time_R = 100  # Return periods (yrs) of interest\n",
    "Hm0_contour, T_contour = resource.environmental_contour(time_SS, time_R, PCA , nb_steps=1000)"
   ]
  },
  {
   "cell_type": "markdown",
   "metadata": {},
   "source": [
    "## 5. Plot overlay of the data and Contour\n"
   ]
  },
  {
   "cell_type": "code",
   "execution_count": null,
   "metadata": {
    "scrolled": true
   },
   "outputs": [],
   "source": [
    "graphics.plot_environmental_contour(df.Hm0.values, df.Te.values, \n",
    "                                    Hm0_contour, T_contour, \n",
    "                                    data_label='NDBC 46022', \n",
    "                                    contour_label='100 Year Contour',\n",
    "                                    ax=None)"
   ]
  },
  {
   "cell_type": "code",
   "execution_count": null,
   "metadata": {},
   "outputs": [],
   "source": []
  }
 ],
 "metadata": {
  "kernelspec": {
   "display_name": "Python 3",
   "language": "python",
   "name": "python3"
  },
  "language_info": {
   "codemirror_mode": {
    "name": "ipython",
    "version": 3
   },
   "file_extension": ".py",
   "mimetype": "text/x-python",
   "name": "python",
   "nbconvert_exporter": "python",
   "pygments_lexer": "ipython3",
   "version": "3.8.3"
  }
 },
 "nbformat": 4,
 "nbformat_minor": 2
}
