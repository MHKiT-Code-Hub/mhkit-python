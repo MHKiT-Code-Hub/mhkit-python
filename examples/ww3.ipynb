{
 "cells": [
  {
   "attachments": {},
   "cell_type": "markdown",
   "metadata": {},
   "source": [
    "# Wave Watch III \n",
    "## Using erddap-python and xarray\n",
    "\n",
    "WaveWatch III (WW3) is a third-generation wave model developed by the National Oceanic and Atmospheric Administration (NOAA) and other international research groups. It is a computer-based numerical model used to predict ocean wave conditions, including significant wave heights, wave periods, and wave directions for different regions around the world. WW3 provides wave forecasts for both deep water and coastal areas, which are important for various applications such as marine navigation, offshore industries, coastal management, and recreational activities.\n",
    "\n",
    "WaveWatch III operates by simulating the growth, decay, and propagation of wind-generated waves in the ocean. The model takes into account factors such as wind speed, fetch (the distance over which the wind blows), and the duration for which the wind has been blowing. The model also accounts for wave interactions, swell propagation, and wave energy dissipation due to whitecapping and bottom friction. WaveWatch III is capable of producing global and regional wave forecasts, which are often used by weather forecast centers, oceanographers, and marine operators to make informed decisions regarding ocean activities.\n",
    "\n",
    "### Global Wave Model\n",
    "The Pacific Islands Ocean Observing System (PacIOOS) at the University of Hawaii, in collaboration with NOAA's National Centers for Environmental Prediction (NCEP) and the National Weather Service (NWS) Honolulu, has implemented a global-scale WaveWatch III (WW3) dataset. This dataset provides a 7-day wave model forecast with a 5-day hourly output at a resolution of approximately 50 km or 0.5 degrees. The WW3 model is forced by NOAA/NCEP's Global Forecast System (GFS) winds and is designed to capture large-scale ocean waves, while also providing spectral boundary conditions for Hawaii and other Pacific regional WW3 models.\n",
    "\n",
    "The dataset, titled \"WaveWatch III (WW3) Global Wave Model,\" is available online at the source URL: https://pae-paha.pacioos.hawaii.edu/erddap/griddap/ww3_global.html. It covers the geographical extent from 0.0 degrees Westernmost_Easting to -77.5 degrees Southernmost_Northing. The time coverage for this dataset starts from November 7, 2010, at 21:00:00 UTC and is updated continuously (The forecast is run daily and gets updated on (https://www.pacioos.hawaii.edu/waves/model-global/#about) around 2:00 AM Hawaiʻi Standard Time (UTC-10) every morning.). The time coverage resolution for this dataset is one hour.\n",
    "\n",
    "While the dataset has been developed with significant care and effort, users are advised to exercise caution when using the data for any ocean-related activities due to the possibility of errors from various sources. More information and references for the WaveWatch III model can be found at https://polar.ncep.noaa.gov/waves/wavewatch/.\n",
    "\n",
    "#### Access  \n",
    "A list of access points for this data is here: https://www.pacioos.hawaii.edu/waves/model-global/#access\n",
    "\n",
    "In this example we will show how to access the data via ERDDAP using errdap python `https://github.com/hmedrano/erddap-python`. ERDDAP is a data server that gives you a simple, consistent way to download subsets of gridded and tabular scientific datasets in common file formats and make graphs and maps. `erddap-python` is a python client for the ERDDAP Restful API, it can obtain server status metrics, provides search methods, gives tabledap and griddap class objects for metadata and data access.\n",
    "\n",
    "**This is not an MHKiT module but a package MHKiT users may find useful to access WW3 and other data hosted on ERRDAP servers.**\n",
    "\n",
    "\n"
   ]
  },
  {
   "attachments": {},
   "cell_type": "markdown",
   "metadata": {},
   "source": [
    "https://github.com/ERDDAP\n",
    "https://www.pacioos.hawaii.edu/waves/model-global/#access\n",
    "https://pae-paha.pacioos.hawaii.edu/erddap/griddap/ww3_global.html"
   ]
  },
  {
   "attachments": {},
   "cell_type": "markdown",
   "metadata": {},
   "source": [
    "#### Step 1: Install erddap-python\n",
    "\n",
    "```\n",
    "pip install erddap-python\n",
    "```\n"
   ]
  },
  {
   "attachments": {},
   "cell_type": "markdown",
   "metadata": {},
   "source": [
    "#### Step 2: Search for \"WW3\" on the ERDDAP server\n",
    "\n",
    "You can search via a webbrowser (https://coastwatch.pfeg.noaa.gov/erddap/search/index.html?page=1&itemsPerPage=1000) or use `errdap-python` to search:"
   ]
  },
  {
   "cell_type": "code",
   "execution_count": 3,
   "metadata": {},
   "outputs": [
    {
     "name": "stdout",
     "output_type": "stream",
     "text": [
      "ERDDAP Error: \"\"\n",
      "No search results found. Wait a few minutes and try again.\n"
     ]
    }
   ],
   "source": [
    "from erddapClient import ERDDAP_Server\n",
    "\n",
    "remote = ERDDAP_Server('https://coastwatch.pfeg.noaa.gov/erddap')\n",
    "try:\n",
    "     searchResults = remote.search(searchFor=\"WW3\")\n",
    "     print(\"Search results:\", searchResults)\n",
    "     print(\"=====================================\")\n",
    "\n",
    "     ww3 = searchResults[0]\n",
    "     print(f'DataSet ID: {ww3.datasetid}')\n",
    "     print(f'Protocol: {ww3.protocol}')\n",
    "     print(f'Dimensions: {list(ww3.dimensions.keys())}')\n",
    "     print(f'Variables: {list(ww3.variables.keys())}')  \n",
    "except: \n",
    "     print(\"No search results found. Wait a few minutes and try again.\")\n",
    "         \n"
   ]
  },
  {
   "attachments": {},
   "cell_type": "markdown",
   "metadata": {},
   "source": [
    "We get 1 search result. This gives us a single search result with the Dataset ID \"NWW3_Global_Best\" and is of of type (protocol) \"Griddap\". Using these two parameters we can access the data.\n",
    "\n",
    "#### Step 3: Access the WW3 dataset and save it as a NetCDF file\n"
   ]
  },
  {
   "cell_type": "code",
   "execution_count": 2,
   "metadata": {},
   "outputs": [
    {
     "name": "stdout",
     "output_type": "stream",
     "text": [
      "ERDDAP Error: \"\"\n"
     ]
    },
    {
     "ename": "HTTPError",
     "evalue": "503 Server Error: Service Unavailable for url: https://coastwatch.pfeg.noaa.gov/erddap/info/NWW3_Global_Best/index.json",
     "output_type": "error",
     "traceback": [
      "\u001b[1;31m---------------------------------------------------------------------------\u001b[0m",
      "\u001b[1;31mHTTPError\u001b[0m                                 Traceback (most recent call last)",
      "\u001b[1;32mc:\\Users\\sterl\\Codes\\MHKiT-Python\\examples\\ww3.ipynb Cell 7\u001b[0m in \u001b[0;36m<cell line: 7>\u001b[1;34m()\u001b[0m\n\u001b[0;32m      <a href='vscode-notebook-cell:/c%3A/Users/sterl/Codes/MHKiT-Python/examples/ww3.ipynb#W6sZmlsZQ%3D%3D?line=1'>2</a>\u001b[0m \u001b[39mfrom\u001b[39;00m \u001b[39merddapClient\u001b[39;00m \u001b[39mimport\u001b[39;00m ERDDAP_Griddap\n\u001b[0;32m      <a href='vscode-notebook-cell:/c%3A/Users/sterl/Codes/MHKiT-Python/examples/ww3.ipynb#W6sZmlsZQ%3D%3D?line=3'>4</a>\u001b[0m remote \u001b[39m=\u001b[39m ERDDAP_Griddap(\u001b[39m'\u001b[39m\u001b[39mhttps://coastwatch.pfeg.noaa.gov/erddap\u001b[39m\u001b[39m'\u001b[39m, \u001b[39m'\u001b[39m\u001b[39mNWW3_Global_Best\u001b[39m\u001b[39m'\u001b[39m)\n\u001b[0;32m      <a href='vscode-notebook-cell:/c%3A/Users/sterl/Codes/MHKiT-Python/examples/ww3.ipynb#W6sZmlsZQ%3D%3D?line=5'>6</a>\u001b[0m ds \u001b[39m=\u001b[39m (\n\u001b[1;32m----> <a href='vscode-notebook-cell:/c%3A/Users/sterl/Codes/MHKiT-Python/examples/ww3.ipynb#W6sZmlsZQ%3D%3D?line=6'>7</a>\u001b[0m     remote\u001b[39m.\u001b[39;49msetResultVariables([\u001b[39m'\u001b[39;49m\u001b[39mTper\u001b[39;49m\u001b[39m'\u001b[39;49m])\u001b[39m.\u001b[39;49msetSubset(\n\u001b[0;32m      <a href='vscode-notebook-cell:/c%3A/Users/sterl/Codes/MHKiT-Python/examples/ww3.ipynb#W6sZmlsZQ%3D%3D?line=7'>8</a>\u001b[0m         time\u001b[39m=\u001b[39;49m\u001b[39mslice\u001b[39;49m(\u001b[39m'\u001b[39;49m\u001b[39m2011-01-01\u001b[39;49m\u001b[39m'\u001b[39;49m,\u001b[39m'\u001b[39;49m\u001b[39m2011-01-02\u001b[39;49m\u001b[39m'\u001b[39;49m),\n\u001b[0;32m      <a href='vscode-notebook-cell:/c%3A/Users/sterl/Codes/MHKiT-Python/examples/ww3.ipynb#W6sZmlsZQ%3D%3D?line=8'>9</a>\u001b[0m         depth\u001b[39m=\u001b[39;49m\u001b[39m0\u001b[39;49m,\n\u001b[0;32m     <a href='vscode-notebook-cell:/c%3A/Users/sterl/Codes/MHKiT-Python/examples/ww3.ipynb#W6sZmlsZQ%3D%3D?line=9'>10</a>\u001b[0m         latitude\u001b[39m=\u001b[39;49m\u001b[39mslice\u001b[39;49m(\u001b[39m-\u001b[39;49m\u001b[39m77.5\u001b[39;49m,\u001b[39m77.5\u001b[39;49m),\n\u001b[0;32m     <a href='vscode-notebook-cell:/c%3A/Users/sterl/Codes/MHKiT-Python/examples/ww3.ipynb#W6sZmlsZQ%3D%3D?line=10'>11</a>\u001b[0m         longitude\u001b[39m=\u001b[39;49m\u001b[39mslice\u001b[39;49m(\u001b[39m0\u001b[39;49m, \u001b[39m359.5\u001b[39;49m)\n\u001b[0;32m     <a href='vscode-notebook-cell:/c%3A/Users/sterl/Codes/MHKiT-Python/examples/ww3.ipynb#W6sZmlsZQ%3D%3D?line=11'>12</a>\u001b[0m     )\n\u001b[0;32m     <a href='vscode-notebook-cell:/c%3A/Users/sterl/Codes/MHKiT-Python/examples/ww3.ipynb#W6sZmlsZQ%3D%3D?line=12'>13</a>\u001b[0m     \u001b[39m.\u001b[39mgetData(filetype\u001b[39m=\u001b[39m\u001b[39m'\u001b[39m\u001b[39mnc\u001b[39m\u001b[39m'\u001b[39m)\n\u001b[0;32m     <a href='vscode-notebook-cell:/c%3A/Users/sterl/Codes/MHKiT-Python/examples/ww3.ipynb#W6sZmlsZQ%3D%3D?line=13'>14</a>\u001b[0m )\n\u001b[0;32m     <a href='vscode-notebook-cell:/c%3A/Users/sterl/Codes/MHKiT-Python/examples/ww3.ipynb#W6sZmlsZQ%3D%3D?line=15'>16</a>\u001b[0m \u001b[39mprint\u001b[39m(\u001b[39m\"\u001b[39m\u001b[39mWriting to file\u001b[39m\u001b[39m\"\u001b[39m )\n\u001b[0;32m     <a href='vscode-notebook-cell:/c%3A/Users/sterl/Codes/MHKiT-Python/examples/ww3.ipynb#W6sZmlsZQ%3D%3D?line=16'>17</a>\u001b[0m \u001b[39mwith\u001b[39;00m \u001b[39mopen\u001b[39m(path,\u001b[39m'\u001b[39m\u001b[39mwb\u001b[39m\u001b[39m'\u001b[39m) \u001b[39mas\u001b[39;00m fb:\n",
      "File \u001b[1;32mc:\\Users\\sterl\\anaconda3\\lib\\site-packages\\erddapClient\\erddap_griddap.py:203\u001b[0m, in \u001b[0;36mERDDAP_Griddap.setSubset\u001b[1;34m(self, *pdims, **kwdims)\u001b[0m\n\u001b[0;32m    188\u001b[0m \u001b[39mdef\u001b[39;00m \u001b[39msetSubset\u001b[39m(\u001b[39mself\u001b[39m, \u001b[39m*\u001b[39mpdims, \u001b[39m*\u001b[39m\u001b[39m*\u001b[39mkwdims):\n\u001b[0;32m    189\u001b[0m \u001b[39m  \u001b[39m\u001b[39m\"\"\"\u001b[39;00m\n\u001b[0;32m    190\u001b[0m \u001b[39m  Sets a query subset for griddap request, by using dimension names\u001b[39;00m\n\u001b[0;32m    191\u001b[0m \n\u001b[1;32m   (...)\u001b[0m\n\u001b[0;32m    201\u001b[0m \u001b[39m  ```\u001b[39;00m\n\u001b[0;32m    202\u001b[0m \u001b[39m  \"\"\"\u001b[39;00m\n\u001b[1;32m--> 203\u001b[0m   \u001b[39mself\u001b[39m\u001b[39m.\u001b[39m__positional_indexes \u001b[39m=\u001b[39m \u001b[39mself\u001b[39;49m\u001b[39m.\u001b[39;49mdimensions\u001b[39m.\u001b[39msubset(\u001b[39m*\u001b[39mpdims, \u001b[39m*\u001b[39m\u001b[39m*\u001b[39mkwdims)\n\u001b[0;32m    204\u001b[0m   \u001b[39mreturn\u001b[39;00m \u001b[39mself\u001b[39m\n",
      "File \u001b[1;32mc:\\Users\\sterl\\anaconda3\\lib\\site-packages\\erddapClient\\erddap_griddap.py:54\u001b[0m, in \u001b[0;36mERDDAP_Griddap.dimensions\u001b[1;34m(self)\u001b[0m\n\u001b[0;32m     52\u001b[0m \u001b[39m@property\u001b[39m\n\u001b[0;32m     53\u001b[0m \u001b[39mdef\u001b[39;00m \u001b[39mdimensions\u001b[39m(\u001b[39mself\u001b[39m):\n\u001b[1;32m---> 54\u001b[0m   \u001b[39mself\u001b[39;49m\u001b[39m.\u001b[39;49mloadDimensionValues()\n\u001b[0;32m     55\u001b[0m   \u001b[39mreturn\u001b[39;00m \u001b[39mself\u001b[39m\u001b[39m.\u001b[39m__dimensions\n",
      "File \u001b[1;32mc:\\Users\\sterl\\anaconda3\\lib\\site-packages\\erddapClient\\erddap_griddap.py:76\u001b[0m, in \u001b[0;36mERDDAP_Griddap.loadDimensionValues\u001b[1;34m(self, force)\u001b[0m\n\u001b[0;32m     64\u001b[0m \u001b[39m\u001b[39m\u001b[39m\"\"\"\u001b[39;00m\n\u001b[0;32m     65\u001b[0m \u001b[39mThis methods loads from the ERDDAP Server the dimension values\u001b[39;00m\n\u001b[0;32m     66\u001b[0m \u001b[39mfor the current griddap dataset.  This values will be used to \u001b[39;00m\n\u001b[1;32m   (...)\u001b[0m\n\u001b[0;32m     72\u001b[0m \u001b[39meven if the values where already downloaded.\u001b[39;00m\n\u001b[0;32m     73\u001b[0m \u001b[39m\"\"\"\u001b[39;00m\n\u001b[0;32m     75\u001b[0m \u001b[39mif\u001b[39;00m \u001b[39mself\u001b[39m\u001b[39m.\u001b[39m__dimensions \u001b[39mis\u001b[39;00m \u001b[39mNone\u001b[39;00m \u001b[39mor\u001b[39;00m force:\n\u001b[1;32m---> 76\u001b[0m   \u001b[39mself\u001b[39;49m\u001b[39m.\u001b[39;49mloadMetadata()\n\u001b[0;32m     77\u001b[0m   dimensionVariableNames \u001b[39m=\u001b[39m \u001b[39mlist\u001b[39m(\u001b[39mself\u001b[39m\u001b[39m.\u001b[39m_ERDDAP_Dataset__metadata[\u001b[39m'\u001b[39m\u001b[39mdimensions\u001b[39m\u001b[39m'\u001b[39m]\u001b[39m.\u001b[39mkeys())\n\u001b[0;32m     79\u001b[0m   _resultVars \u001b[39m=\u001b[39m \u001b[39mself\u001b[39m\u001b[39m.\u001b[39mresultVariables\n",
      "File \u001b[1;32mc:\\Users\\sterl\\anaconda3\\lib\\site-packages\\erddapClient\\erddap_griddap.py:48\u001b[0m, in \u001b[0;36mERDDAP_Griddap.loadMetadata\u001b[1;34m(self, force)\u001b[0m\n\u001b[0;32m     38\u001b[0m \u001b[39mdef\u001b[39;00m \u001b[39mloadMetadata\u001b[39m(\u001b[39mself\u001b[39m, force\u001b[39m=\u001b[39m\u001b[39mFalse\u001b[39;00m):\n\u001b[0;32m     39\u001b[0m \u001b[39m  \u001b[39m\u001b[39m\"\"\"\u001b[39;00m\n\u001b[0;32m     40\u001b[0m \u001b[39m  Loads in to memory the metadata atributes and values available in the info\u001b[39;00m\n\u001b[0;32m     41\u001b[0m \u001b[39m  page of the dataset.\u001b[39;00m\n\u001b[1;32m   (...)\u001b[0m\n\u001b[0;32m     46\u001b[0m \u001b[39m  even if the information where already downloaded.   \u001b[39;00m\n\u001b[0;32m     47\u001b[0m \u001b[39m  \"\"\"\u001b[39;00m    \n\u001b[1;32m---> 48\u001b[0m   \u001b[39mif\u001b[39;00m \u001b[39msuper\u001b[39;49m()\u001b[39m.\u001b[39;49mloadMetadata(force):\n\u001b[0;32m     49\u001b[0m     parseTimeRangeAttributes(\u001b[39mself\u001b[39m\u001b[39m.\u001b[39m_ERDDAP_Dataset__metadata[\u001b[39m'\u001b[39m\u001b[39mdimensions\u001b[39m\u001b[39m'\u001b[39m]\u001b[39m.\u001b[39mitems())\n",
      "File \u001b[1;32mc:\\Users\\sterl\\anaconda3\\lib\\site-packages\\erddapClient\\erddap_dataset.py:215\u001b[0m, in \u001b[0;36mERDDAP_Dataset.loadMetadata\u001b[1;34m(self, force)\u001b[0m\n\u001b[0;32m    205\u001b[0m \u001b[39m\u001b[39m\u001b[39m\"\"\"\u001b[39;00m\n\u001b[0;32m    206\u001b[0m \u001b[39mLoads in to memory the metadata atributes and values available in the info\u001b[39;00m\n\u001b[0;32m    207\u001b[0m \u001b[39mpage of the dataset.\u001b[39;00m\n\u001b[1;32m   (...)\u001b[0m\n\u001b[0;32m    212\u001b[0m \u001b[39meven if the information where already downloaded.    \u001b[39;00m\n\u001b[0;32m    213\u001b[0m \u001b[39m\"\"\"\u001b[39;00m\n\u001b[0;32m    214\u001b[0m \u001b[39mif\u001b[39;00m \u001b[39mself\u001b[39m\u001b[39m.\u001b[39m__metadata \u001b[39mis\u001b[39;00m \u001b[39mNone\u001b[39;00m \u001b[39mor\u001b[39;00m force:\n\u001b[1;32m--> 215\u001b[0m   rawRequest \u001b[39m=\u001b[39m urlread(\u001b[39mself\u001b[39;49m\u001b[39m.\u001b[39;49mgetMetadataURL(), auth\u001b[39m=\u001b[39;49m\u001b[39mself\u001b[39;49m\u001b[39m.\u001b[39;49merddapauth)\n\u001b[0;32m    216\u001b[0m   rawRequestJson \u001b[39m=\u001b[39m rawRequest\u001b[39m.\u001b[39mjson()\n\u001b[0;32m    217\u001b[0m   \u001b[39mself\u001b[39m\u001b[39m.\u001b[39m__metadata \u001b[39m=\u001b[39m parseDictMetadata(rawRequestJson)\n",
      "File \u001b[1;32mc:\\Users\\sterl\\anaconda3\\lib\\site-packages\\erddapClient\\remote_requests.py:27\u001b[0m, in \u001b[0;36murlread\u001b[1;34m(url, auth, **kwargs)\u001b[0m\n\u001b[0;32m     25\u001b[0m \u001b[39melse\u001b[39;00m:\n\u001b[0;32m     26\u001b[0m     \u001b[39mprint\u001b[39m (\u001b[39m\"\u001b[39m\u001b[39mERDDAP Error: \u001b[39m\u001b[39m\\\"\u001b[39;00m\u001b[39m{}\u001b[39;00m\u001b[39m\\\"\u001b[39;00m\u001b[39m\"\u001b[39m\u001b[39m.\u001b[39mformat(getMessageError(response\u001b[39m.\u001b[39mtext)))\n\u001b[1;32m---> 27\u001b[0m     response\u001b[39m.\u001b[39;49mraise_for_status()\n",
      "File \u001b[1;32mc:\\Users\\sterl\\anaconda3\\lib\\site-packages\\requests\\models.py:1021\u001b[0m, in \u001b[0;36mResponse.raise_for_status\u001b[1;34m(self)\u001b[0m\n\u001b[0;32m   1016\u001b[0m     http_error_msg \u001b[39m=\u001b[39m (\n\u001b[0;32m   1017\u001b[0m         \u001b[39mf\u001b[39m\u001b[39m\"\u001b[39m\u001b[39m{\u001b[39;00m\u001b[39mself\u001b[39m\u001b[39m.\u001b[39mstatus_code\u001b[39m}\u001b[39;00m\u001b[39m Server Error: \u001b[39m\u001b[39m{\u001b[39;00mreason\u001b[39m}\u001b[39;00m\u001b[39m for url: \u001b[39m\u001b[39m{\u001b[39;00m\u001b[39mself\u001b[39m\u001b[39m.\u001b[39murl\u001b[39m}\u001b[39;00m\u001b[39m\"\u001b[39m\n\u001b[0;32m   1018\u001b[0m     )\n\u001b[0;32m   1020\u001b[0m \u001b[39mif\u001b[39;00m http_error_msg:\n\u001b[1;32m-> 1021\u001b[0m     \u001b[39mraise\u001b[39;00m HTTPError(http_error_msg, response\u001b[39m=\u001b[39m\u001b[39mself\u001b[39m)\n",
      "\u001b[1;31mHTTPError\u001b[0m: 503 Server Error: Service Unavailable for url: https://coastwatch.pfeg.noaa.gov/erddap/info/NWW3_Global_Best/index.json"
     ]
    }
   ],
   "source": [
    "import xarray as xr\n",
    "from erddapClient import ERDDAP_Griddap\n",
    "\n",
    "remote = ERDDAP_Griddap('https://coastwatch.pfeg.noaa.gov/erddap', 'NWW3_Global_Best')\n",
    "\n",
    "ds = (\n",
    "    remote.setResultVariables(['Tper']).setSubset(\n",
    "        time=slice('2011-01-01','2011-01-02'),\n",
    "        depth=0,\n",
    "        latitude=slice(-77.5,77.5),\n",
    "        longitude=slice(0, 359.5)\n",
    "    )\n",
    "    .getData(filetype='nc')\n",
    ")\n",
    "\n",
    "print(\"Writing to file\" )\n",
    "with open(path,'wb') as fb:\n",
    "    fb.write(ds)\n",
    "\n",
    "ds = xr.open_dataset('ww3.nc')"
   ]
  },
  {
   "attachments": {},
   "cell_type": "markdown",
   "metadata": {},
   "source": [
    "#### Step 4: Plot the mean Tper\n",
    "import matplotlib.pyplot as plt\n",
    "\n",
    "fig = plt.figure(figsize=(8, 2.5))\n",
    "mean_Tper = ds['Tper'].mean('time')\n",
    "mean_Tper = mean_Tper.transpose('latitude', 'longitude')\n",
    "mean_Tper = mean_Tper.isel(depth=0)\n",
    "mean_Tper.plot.contourf(x='longitude', y='latitude')\n",
    "plt.show()"
   ]
  },
  {
   "cell_type": "code",
   "execution_count": 23,
   "metadata": {},
   "outputs": [
    {
     "name": "stdout",
     "output_type": "stream",
     "text": [
      "Dimensions: ['time', 'depth', 'latitude', 'longitude']\n",
      "Variables: ['Tdir', 'Tper', 'Thgt', 'sdir', 'sper', 'shgt', 'wdir', 'wper', 'whgt']\n"
     ]
    }
   ],
   "source": [
    "print(f'Dimensions: {list(ww3.dimensions.keys())}')\n",
    "print(f'Variables: {list(ww3.variables.keys())}')\n"
   ]
  },
  {
   "cell_type": "code",
   "execution_count": 22,
   "metadata": {},
   "outputs": [
    {
     "data": {
      "text/plain": [
       "['time', 'depth', 'latitude', 'longitude']"
      ]
     },
     "execution_count": 22,
     "metadata": {},
     "output_type": "execute_result"
    }
   ],
   "source": [
    "list(ww3.dimensions.keys())"
   ]
  },
  {
   "cell_type": "code",
   "execution_count": 32,
   "metadata": {},
   "outputs": [
    {
     "data": {
      "text/plain": [
       "Float64Index([-77.5, -77.0, -76.5, -76.0, -75.5, -75.0, -74.5, -74.0, -73.5,\n",
       "              -73.0,\n",
       "              ...\n",
       "               73.0,  73.5,  74.0,  74.5,  75.0,  75.5,  76.0,  76.5,  77.0,\n",
       "               77.5],\n",
       "             dtype='float64', length=311)"
      ]
     },
     "execution_count": 32,
     "metadata": {},
     "output_type": "execute_result"
    }
   ],
   "source": [
    "ww3.dimensions['depth'].data\n",
    "ww3.dimensions['latitude'].data"
   ]
  },
  {
   "cell_type": "code",
   "execution_count": 34,
   "metadata": {},
   "outputs": [
    {
     "data": {
      "text/plain": [
       "['erddapurl',\n",
       " 'datasetid',\n",
       " 'protocol',\n",
       " 'erddapauth',\n",
       " '_ERDDAP_Dataset__metadata',\n",
       " 'resultVariables',\n",
       " 'constraints',\n",
       " 'serverSideFunctions',\n",
       " '_ERDDAP_Griddap__dimensions',\n",
       " '_ERDDAP_Griddap__positional_indexes',\n",
       " 'lastRequestURL',\n",
       " '__module__',\n",
       " '__doc__',\n",
       " 'DEFAULT_FILETYPE',\n",
       " '__init__',\n",
       " '__str__',\n",
       " 'loadMetadata',\n",
       " 'dimensions',\n",
       " 'clearQuery',\n",
       " 'loadDimensionValues',\n",
       " 'getxArray',\n",
       " 'getncDataset',\n",
       " 'getDataRequestURL',\n",
       " 'setSubset',\n",
       " 'setSubsetI',\n",
       " '_parseResultVariablesExtendedDapQueryToValidDap',\n",
       " '_convertPositionalIndexes2DapQuery',\n",
       " '_resultVariablesWithValidDapIndexing',\n",
       " 'positional_indexes',\n",
       " 'xarray',\n",
       " 'ncDataset',\n",
       " 'BINARY_FILETYPES',\n",
       " '__simple_repr__',\n",
       " 'setResultVariables',\n",
       " 'addResultVariable',\n",
       " 'setConstraints',\n",
       " 'addConstraints',\n",
       " 'addConstraint',\n",
       " '_addConstraintStr',\n",
       " '_addConstraintDict',\n",
       " 'getURL',\n",
       " 'getBaseURL',\n",
       " 'getAttribute',\n",
       " 'variables',\n",
       " 'info',\n",
       " 'getMetadataURL',\n",
       " 'clearConstraints',\n",
       " 'clearServerSideFunctions',\n",
       " 'clearResultVariables',\n",
       " 'getData',\n",
       " 'getDataFrame',\n",
       " '__dict__',\n",
       " '__weakref__',\n",
       " '__repr__',\n",
       " '__hash__',\n",
       " '__getattribute__',\n",
       " '__setattr__',\n",
       " '__delattr__',\n",
       " '__lt__',\n",
       " '__le__',\n",
       " '__eq__',\n",
       " '__ne__',\n",
       " '__gt__',\n",
       " '__ge__',\n",
       " '__new__',\n",
       " '__reduce_ex__',\n",
       " '__reduce__',\n",
       " '__subclasshook__',\n",
       " '__init_subclass__',\n",
       " '__format__',\n",
       " '__sizeof__',\n",
       " '__dir__',\n",
       " '__class__']"
      ]
     },
     "execution_count": 34,
     "metadata": {},
     "output_type": "execute_result"
    }
   ],
   "source": [
    "ww3.__dir__()"
   ]
  },
  {
   "cell_type": "code",
   "execution_count": 37,
   "metadata": {},
   "outputs": [
    {
     "data": {
      "text/plain": [
       "<erddapClient.erddap_griddap_dimensions.ERDDAP_Griddap_dimension at 0x2009d807e50>"
      ]
     },
     "execution_count": 37,
     "metadata": {},
     "output_type": "execute_result"
    }
   ],
   "source": [
    "ww3._ERDDAP_Griddap__dimensions['time']"
   ]
  },
  {
   "cell_type": "code",
   "execution_count": null,
   "metadata": {},
   "outputs": [],
   "source": []
  }
 ],
 "metadata": {
  "kernelspec": {
   "display_name": "base",
   "language": "python",
   "name": "python3"
  },
  "language_info": {
   "codemirror_mode": {
    "name": "ipython",
    "version": 3
   },
   "file_extension": ".py",
   "mimetype": "text/x-python",
   "name": "python",
   "nbconvert_exporter": "python",
   "pygments_lexer": "ipython3",
   "version": "3.9.12"
  },
  "orig_nbformat": 4
 },
 "nbformat": 4,
 "nbformat_minor": 2
}
